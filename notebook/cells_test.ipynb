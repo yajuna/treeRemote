{
 "cells": [
  {
   "cell_type": "markdown",
   "id": "f98486bb",
   "metadata": {},
   "source": [
    "# This notebook is copied from treePower.ipynb for parameter testing. "
   ]
  },
  {
   "cell_type": "code",
   "execution_count": 1,
   "id": "d9aca5be",
   "metadata": {},
   "outputs": [
    {
     "name": "stdout",
     "output_type": "stream",
     "text": [
      "Python 3 version is 3.8.10 (default, Nov 14 2022, 12:59:47) \n",
      "[GCC 9.4.0]\n",
      "Matplotlib version is 3.5.1\n",
      "Numpy version is 1.22.3\n",
      "Scipy version is 1.8.0\n",
      "System information:  uname_result(system='Linux', node='yajun-ThinkPad-T490s', release='5.4.0-131-generic', version='#147-Ubuntu SMP Fri Oct 14 17:07:22 UTC 2022', machine='x86_64', processor='x86_64')\n"
     ]
    }
   ],
   "source": [
    "import platform\n",
    "import numpy as np\n",
    "import pandas\n",
    "from scipy import sparse\n",
    "from scipy.optimize import broyden1\n",
    "from functools import partial\n",
    "from matplotlib import pyplot as plt\n",
    "from mpl_toolkits.mplot3d import Axes3D \n",
    "%matplotlib inline\n",
    "\n",
    "import sys\n",
    "print(\"Python 3 version is\", sys.version)\n",
    "import matplotlib\n",
    "print(\"Matplotlib version is\", matplotlib.__version__)\n",
    "print(\"Numpy version is\", np.__version__)\n",
    "import scipy\n",
    "print(\"Scipy version is\", scipy.__version__)\n",
    "\n",
    "print(\"System information: \", platform.uname())"
   ]
  },
  {
   "cell_type": "code",
   "execution_count": 2,
   "id": "239fa6c7",
   "metadata": {},
   "outputs": [
    {
     "name": "stdout",
     "output_type": "stream",
     "text": [
      "Parameters defined\n"
     ]
    }
   ],
   "source": [
    "#Define parameters\n",
    "\"\"\"\n",
    "n_x -- number of grid points, radially; interior points index from 1 to n_x - 1; bdry points are 0 and n_x.\n",
    "n_t -- number of time steps\n",
    "plot_at -- grid point at which a temperature curve is drawn\n",
    "diff_at -- list of two grid points where the temp difference is computed\n",
    "radius -- radius of tree, m\n",
    "height -- height of tree, m\n",
    "thermal_conductivity -- thermal conductivity of the tree, unit W/(mK)\n",
    "rho -- density of tree trunk, unit kg/m^3\n",
    "specific_heat -- specific_heat, unit J/(kgK)\n",
    "albedo -- albedo constant; taken to be 0.3 from Potter Andresen pg.3\n",
    "sigma -- Stefan–Boltzmann constant, 5.67 × 10 − 8 W ⋅ m − 2 ⋅ K − 4\n",
    "\"\"\"\n",
    "n_x = 200\n",
    "n_t = 200\n",
    "sigma = 5.76e-8\n",
    "radius = 0.135 # unit m\n",
    "thermal_conductivity = 0.16 # Notation Kt in code; k in paper # pg 3-17, wood handbook.\n",
    "rho = 720 # kg /m**3\n",
    "specific_heat = 1300 # table 3-12, at 27 degrees, MC 12% (wood handbook)\n",
    "albedo = 0.3 # 0.3 is concrete; 0.18, is grass#\n",
    "\n",
    "time = np.linspace(0, 24, n_t, endpoint = False)\n",
    "dt = time[1] - time[0]\n",
    "# Boundary conditions at trunk[0] and trunk[n_x]; Temperature[j] at trunk[j]; in matrix, only index from 1 to n_x-1 (labeled m)\n",
    "trunk = np.linspace(0, radius, n_x + 1)   \n",
    "dr = radius / n_x\n",
    "\n",
    "index1 = int(n_x/3)\n",
    "index2 = 2 * index1\n",
    "\n",
    "print(\"Parameters defined\")"
   ]
  },
  {
   "cell_type": "code",
   "execution_count": 3,
   "id": "9d8dd7e2",
   "metadata": {},
   "outputs": [
    {
     "name": "stdout",
     "output_type": "stream",
     "text": [
      "testing data read\n"
     ]
    }
   ],
   "source": [
    "#### Read measured temp data-- only need bark and a mid point for validation\n",
    "\n",
    "colnames = ['datetime', 's45_1', 'e9_1', 'n135_1','e45_2', 'n9_2', 'w135_2', 'n45_3', 'w9_3','s135_3', 'w_ext_35']\n",
    "dataTemp = pandas.read_excel('Tree_Temp_Values_OCT21_to_OCT28_2022.xlsx', names=colnames)\n",
    "\n",
    "    ##########\n",
    "coreTemp = dataTemp.s135_3[2:416].tolist() # Oct 21 -- core temp is west, at 13.5cm, at 2m high\n",
    "coreTempnp = np.asarray([float(t) for t in coreTemp])\n",
    "coreTempnp = coreTempnp + 273.15\n",
    "core_temp = np.interp(np.linspace(0,24,n_t), np.linspace(0,24,coreTempnp.size),coreTempnp)\n",
    "    ##########\n",
    "    \n",
    "barkTemp = dataTemp.w_ext_35[2:416].tolist() # Oct 21 -- bark temp is West, at bark, at 3.5m high\n",
    "barkTempnp = np.asarray([float(v) for v in barkTemp])\n",
    "barkTempnp = barkTempnp + 273.15\n",
    "bark_temp = np.interp(np.linspace(0,24,n_t), np.linspace(0,24,barkTempnp.size),barkTempnp)\n",
    "    \n",
    "    ##########\n",
    "midTemp1 = dataTemp.w9_3[2:416].tolist() # Oct 21 -- West, at 9cm, at 3m high\n",
    "midTemp1np = np.asarray([float(t) for t in midTemp1])\n",
    "midTemp1np = midTemp1np + 273.15\n",
    "mid_temp1 = np.interp(np.linspace(0,24,n_t), np.linspace(0,24,midTemp1np.size),midTemp1np)\n",
    "    ##########\n",
    "    \n",
    "midTemp2 = dataTemp.n45_3[2:416].tolist() # Oct 21 -- North, at 4.5cm, at 3m high\n",
    "midTemp2np = np.asarray([float(t) for t in midTemp2])\n",
    "midTemp2np = midTemp2np + 273.15\n",
    "mid_temp2 = np.interp(np.linspace(0,24,n_t), np.linspace(0,24,midTemp2np.size),midTemp2np)\n",
    "    ##########\n",
    "    \n",
    "initTemp = np.array([core_temp[0], mid_temp1[0], mid_temp2[0], bark_temp[0]])\n",
    "init_temp = np.interp(np.linspace(0,radius,n_x), np.linspace(0,radius,initTemp.size),initTemp)\n",
    "    ##########\n",
    "print(\"testing data read\")"
   ]
  },
  {
   "cell_type": "code",
   "execution_count": 4,
   "id": "5333d3e7",
   "metadata": {},
   "outputs": [
    {
     "name": "stdout",
     "output_type": "stream",
     "text": [
      "weather data read\n",
      "heat convection coeff computed\n",
      "heat convection computed\n",
      "source term defined, with size 200\n"
     ]
    }
   ],
   "source": [
    "### Read weather data-- do not need when use measured bark data as outer boundary condition\n",
    "\n",
    "colnames = ['datetime', 'wind_speed', 'wind_direction', 'humidity', 'temperature', 'air_pressure', 'solar_DNI']\n",
    "dataWeather = pandas.read_excel('Weather_Station_OCT21_to_OCT28_2022.xlsx', names = colnames)\n",
    "   \n",
    "temp = dataWeather.temperature[2:145].tolist() # use data from Oct 21\n",
    "tempnp = np.asarray([float(t) for t in temp])\n",
    "tempnp = tempnp + 273.15\n",
    "\n",
    "windspeed = dataWeather.wind_speed[2:145].tolist()\n",
    "windspeednp = np.asarray([float(v) for v in windspeed])\n",
    "\n",
    "solar = dataWeather.solar_DNI[2:145].tolist()\n",
    "solarnp = np.asarray([float(v) for v in solar])\n",
    "\n",
    "air_temp = np.interp(np.linspace(0,24,n_t), np.linspace(0,24,tempnp.size),tempnp)\n",
    "wind_speed = np.interp(np.linspace(0,24,n_t), np.linspace(0,24,windspeednp.size),windspeednp)\n",
    "solar_input = np.interp(np.linspace(0,24,n_t), np.linspace(0,24,solarnp.size),solarnp)\n",
    "\n",
    "print(\"weather data read\")\n",
    "\n",
    "nu = 15.89e-6 # m^2/s kinematic viscosity of air\n",
    "Pr = 0.707 \n",
    "ka = 26.3e-3 # W/mK conductivity of air\n",
    "coeff = 2 * radius / nu\n",
    "Re = wind_speed * coeff\n",
    "C = []\n",
    "m = []\n",
    "for j in range(wind_speed.size):\n",
    "    temp = Re[j]\n",
    "    if temp < 0.4:\n",
    "        temp1 = [0, 0] \n",
    "    if 0.4<=temp<= 4:\n",
    "        temp1 = [0.989, 0.330]\n",
    "    if 4<temp<= 40:\n",
    "        temp1 = [0.911, 0.385]\n",
    "    if 40<temp<= 4e3:\n",
    "        temp1 = [0.683, 0.466]\n",
    "    if 4e3<temp<= 4e4:\n",
    "        temp1 = [0.193, 0.618]\n",
    "    if 4e4<temp<= 4e5:\n",
    "        temp1 = [0.027, 0.805]\n",
    "    C.append(temp1[0])\n",
    "    m.append(temp1[1])\n",
    "    \n",
    "Nu = C * Re ** m * Pr ** (1/3)\n",
    "h = Nu * ka / (2 * radius)\n",
    "print(\"heat convection coeff computed\")\n",
    "\n",
    "convect = h * (bark_temp - air_temp)\n",
    "print(\"heat convection computed\")\n",
    "\n",
    "\n",
    "sourceTerm = (1 - albedo) * solar_input + sigma * (air_temp**4 - bark_temp**4) + convect\n",
    "\n",
    "print(\"source term defined, with size\", sourceTerm.size)"
   ]
  },
  {
   "cell_type": "code",
   "execution_count": 5,
   "id": "d29892d1",
   "metadata": {},
   "outputs": [
    {
     "name": "stdout",
     "output_type": "stream",
     "text": [
      "function defined\n"
     ]
    }
   ],
   "source": [
    "### test parameters: Kt -- thermal conductivity; rho--density; c -- specific heat\n",
    "\n",
    "def mol(c = 1.0, Kt = 0.18, rho = 720): #\n",
    "#     a = rho * c / Kt\n",
    "    heat_capacity = rho * c\n",
    "    a = heat_capacity / Kt\n",
    "    coeffSource = dt / (2 * heat_capacity * dr)\n",
    "#     a = 1/8.2e-5# https://en.wikipedia.org/wiki/Thermal_diffusivity# 1/0.005 # thermal diffusivity is 0.005m2/s https://link.springer.com/content/pdf/10.1007/s002260050130.pdf\n",
    "#     a = 357142.85714286\n",
    "    beta = dt / (a * dr ** 2)\n",
    "    \n",
    "    T0 = init_temp # initialize temperature with measured initial condition\n",
    "\n",
    "    alpha = np.linspace(1, n_x - 1, n_x - 1)# index from 0 to n_x - 2; cor. to points at 1 to n_x - 1\n",
    "    for j in range(alpha.size):\n",
    "        alpha[j] = dt / (4 * a * trunk[j + 2] * dr) - 0.5 * beta\n",
    "        \n",
    "    \n",
    "    gamma = np.linspace(1, n_x - 1, n_x - 1)\n",
    "    for j in range(gamma.size):\n",
    "        gamma[j] = dt / (4 * a * trunk[j + 1] * dr) + 0.5 * beta\n",
    "        \n",
    "    # for the right hand side vector-- gammam is used for Dirichlet at the bark\n",
    "    \n",
    "    gammam = dt / (4 * a * trunk[-1] * dr) + 0.5 * beta\n",
    "    \n",
    "    # system of Ax_{n+1} = Bx_{n} + v    \n",
    "    \n",
    "    # use Neumann condition-- no flux condition\n",
    "    gamma[0] = beta\n",
    "\n",
    "    A = sparse.diags([alpha, np.ones(n_x) + beta, -gamma], [-1, 0, 1], shape=(n_x, n_x)).toarray()\n",
    "    B = sparse.diags([-alpha, np.ones(n_x) - beta, gamma], [-1, 0, 1], shape=(n_x, n_x)).toarray()\n",
    "    \n",
    "    T1 = np.zeros((n_x,1))\n",
    "    \n",
    "    # soln to include initial temperature\n",
    "    soln = [T0]\n",
    "    \n",
    "    ## time stepping: step1 compute B * T0; step2 rhs = B * T0 + v; step2 solve for T1 with T1 = A^-1 * rhs\n",
    "    for time in range(n_t - 1):\n",
    "        rhs = B.dot(T0)\n",
    "        # with measured bark temperature; plus source term\n",
    "        rhs[-1] = rhs[-1] + gammam * (bark_temp[time] + bark_temp[time + 1]) + coeffSource * (sourceTerm[time] + sourceTerm[time + 1])\n",
    "        # with measured air temperature\n",
    "#         rhs[-1] = rhs[-1] + gammam * (air_temp[time] + air_temp[time + 1]) + coeffSource * (sourceTerm[time] + sourceTerm[time + 1])\n",
    "        T1 = np.linalg.solve(A, rhs) \n",
    "        T0 = T1\n",
    "        \n",
    "        soln.append(T0) # start saving the solutions from time step 1 \n",
    "        solnArray = np.array(soln)\n",
    "        \n",
    "    return solnArray \n",
    "print(\"function defined\")"
   ]
  },
  {
   "cell_type": "markdown",
   "id": "8d608616",
   "metadata": {},
   "source": [
    "## Compute error at: 13.5cm deep, 9cm deep, 4.5cm deep, and bark."
   ]
  },
  {
   "cell_type": "code",
   "execution_count": null,
   "id": "7249b997",
   "metadata": {},
   "outputs": [],
   "source": [
    "# test cell-- parameter combo -- test case: solution = mol() with default parameter\n",
    "\n",
    "# K = np.linspace(0.05, 2.0, 196)\n",
    "# error_Kt = np.zeros((4,196))\n",
    "# for j in range(196):\n",
    "#     solution = mol(c = 10, Kt = K[j], rho = 720)\n",
    "#     temp = np.array([np.abs(np.max(solution[:,0]-core_temp)), np.abs(np.max(solution[:,index1]-mid_temp1)), np.abs(np.max(solution[:,index2]-mid_temp2)), np.abs(np.max(solution[:,-2]-bark_temp))])\n",
    "#     error_Kt[:,j] = temp\n",
    "\n",
    "    \n",
    "# C = np.linspace(10, 3700, 370)\n",
    "# error_C = np.zeros((4,370))\n",
    "# for j in range(370):\n",
    "#     solution = mol(c = C[j], Kt = 1.6, rho = 720)\n",
    "#     temp = np.array([np.abs(np.max(solution[:,0]-core_temp)), np.abs(np.max(solution[:,index1]-mid_temp1)), np.abs(np.max(solution[:,index2]-mid_temp2)), np.abs(np.max(solution[:,-2]-bark_temp))])\n",
    "#     error_C[:,j] = temp\n",
    "    \n",
    "    \n",
    "# rho1 = np.linspace(570, 780, 22)\n",
    "# error_rho = np.zeros((4,22))\n",
    "# for j in range(22):\n",
    "#     solution = mol(c = 10, Kt = 1.6, rho = rho1[j])\n",
    "#     temp = np.array([np.abs(np.max(solution[:,0]-core_temp)), np.abs(np.max(solution[:,index1]-mid_temp1)), np.abs(np.max(solution[:,index2]-mid_temp2)), np.abs(np.max(solution[:,-2]-bark_temp))])\n",
    "#     error_rho[:,j] = temp\n",
    "    \n",
    "# print(\"parameter testing done\")"
   ]
  },
  {
   "cell_type": "code",
   "execution_count": null,
   "id": "3ca74816",
   "metadata": {},
   "outputs": [],
   "source": [
    "# print index and the corresponding values of c, Kt, rho\n",
    "\n",
    "# for j in range(4):\n",
    "#     print(\"At the\", j, \"-th measurement:\")\n",
    "#     dex = np.where(error_Kt[j,:]==np.min(error_Kt[j,:]))[0]\n",
    "#     print(\"Kt varies with c = 10, rho = 720\", error_Kt[j,:].min())\n",
    "#     print(\"Index of smallest error\", dex, \"Kt=\", K[dex])\n",
    "\n",
    "# for j in range(4):\n",
    "#     dex = np.where(error_C[j,:]==np.min(error_C[j,:]))[0]\n",
    "#     print(\"c varies with Kt = 1.6, rho = 720\", error_C[j,:].min())\n",
    "#     print(\"Index of smallest error\", dex, \"c=\", C[dex])\n",
    "\n",
    "# for j in range(4):\n",
    "#     dex = np.where(error_rho[j,:]==np.min(error_rho[j,:]))[0]\n",
    "#     print(\"rho varies with Kt = 1.6, c = 10\", error_rho[j,:].min())\n",
    "#     print(\"Index of smallest error\", dex, \"rho=\", rho1[dex])\n",
    "\n"
   ]
  },
  {
   "cell_type": "code",
   "execution_count": 10,
   "id": "a2bc4d8d",
   "metadata": {},
   "outputs": [
    {
     "data": {
      "text/plain": [
       "'compute Kt and c from FireStem2D, and compute temperature with these Kt and c values; GM = specific gravity;\\nM=moisture content'"
      ]
     },
     "execution_count": 10,
     "metadata": {},
     "output_type": "execute_result"
    }
   ],
   "source": [
    "\"\"\"compute Kt and c from FireStem2D, and compute temperature with these Kt and c values; GM = specific gravity;\n",
    "M=moisture content\"\"\"\n",
    "# GM = 0.5 # https://www.wagnermeters.com/specific-gravity/m/\n",
    "# M = 0.13 # wood handbook, Table 4-2, temp at 21, humidity at 75%\n",
    "\n",
    "# Kt = GM * (0.1941 + 0.4064 * M) + 0.01864\n",
    "# print(\"Thermal conductivity\", Kt)\n",
    "\n",
    "# T = 300 # ~ 300\n",
    "# cp0 = 0.1031 + 0.00386 * T\n",
    "# cpw = 3.8 + 130/(645 + T)\n",
    "# Ac = M * (-0.06191 + 2.36e-4 * T - 1.33e-4)\n",
    "\n",
    "# cp = (cp0 + cpw * M)/(1+M) + Ac\n",
    "\n",
    "# print(\"heat capacity\", cp)\n",
    "\n",
    "# #with above cp, and Kt values, run code\n",
    "# solution = mol(c = 1.57e3, Kt = 0.14, rho = 720)\n"
   ]
  },
  {
   "cell_type": "code",
   "execution_count": null,
   "id": "31f7c3f8",
   "metadata": {},
   "outputs": [],
   "source": [
    "\"\"\"a = rho * c/ k; max a at: rho = 700, c = 3000, k = 0.059; min a at : rho = 550, c = 1, k = 1.4\"\"\"\n",
    "# amax = 700 * 3000 / 0.059\n",
    "# amin = 500 * 1000 / 1.4\n",
    "\n",
    "# a = np.linspace(amin, amax, 100)\n",
    "# error = np.zeros((4,100))\n",
    "\n",
    "# for j in range(a.size):\n",
    "#     solution = mol(a[j])\n",
    "#     temp = np.array([np.abs(np.max(solution[:,0]-core_temp)), np.abs(np.max(solution[:,index1]-mid_temp1)), np.abs(np.max(solution[:,index2]-mid_temp2)), np.abs(np.max(solution[:,-2]-bark_temp))])\n",
    "#     error[:,j] = temp\n",
    "    \n",
    "# print(\"parameter testing is done\")    "
   ]
  },
  {
   "cell_type": "code",
   "execution_count": null,
   "id": "66cfa473",
   "metadata": {},
   "outputs": [],
   "source": [
    "# for j in range(4):\n",
    "#     print(\"At the\", j, \"-th measurement:\")\n",
    "#     dex = np.where(error[j,:]==np.min(error[j,:]))[0]\n",
    "#     print(\"rho * c /kt varies with smallest error:\", error[j,:].min())\n",
    "#     print(\"Index of smallest error\", dex, \"a=\", a[dex])"
   ]
  },
  {
   "cell_type": "code",
   "execution_count": 22,
   "id": "aa86b706",
   "metadata": {},
   "outputs": [],
   "source": [
    "solution = mol(c = 1.300, Kt = 0.18, rho = 700)"
   ]
  },
  {
   "cell_type": "code",
   "execution_count": 23,
   "id": "fab8a9a8",
   "metadata": {},
   "outputs": [
    {
     "data": {
      "image/png": "[encoded data removed]",
      "text/plain": [
       "<Figure size 792x504 with 4 Axes>"
      ]
     },
     "metadata": {
      "needs_background": "light"
     },
     "output_type": "display_data"
    }
   ],
   "source": [
    "# visualize\n",
    "fig, (ax1, ax2, ax3, ax4) = plt.subplots(nrows=1, ncols=4,figsize=(11, 7))\n",
    "\n",
    "grid = plt.GridSpec(2, 2, wspace=0.2, hspace=0.5)\n",
    "\n",
    "ax1 = plt.subplot(grid[0, 0])\n",
    "ax2 = plt.subplot(grid[0, 1:])\n",
    "ax3 = plt.subplot(grid[1, :1])\n",
    "ax4 = plt.subplot(grid[1, 1:])\n",
    "\n",
    "ax1.plot(time, solution[:,0], 'b-', label='Computed core')\n",
    "ax1.plot(time, core_temp, 'r-', label='Measured core')\n",
    "ax1.legend(loc=\"upper left\")\n",
    "ax1.axis([0, 24, 294, 304])\n",
    "ax1.set_xlabel('Time (hrs)')\n",
    "ax1.set_ylabel('Temperature (K)')\n",
    "ax1.title.set_text('Max error:' + str(np.max(np.abs(solution[:,0]-core_temp))))\n",
    "\n",
    "\n",
    "ax2.plot(time, solution[:,index1], 'b-', label='Computed at 9cm')\n",
    "ax2.plot(time, mid_temp1, 'r-', label='Measured at 9cm')\n",
    "ax2.legend(loc=\"upper left\")\n",
    "ax2.axis([0, 24, 294, 304])\n",
    "ax2.set_xlabel('Time (hrs)')\n",
    "ax2.set_ylabel('Temperature (K)')\n",
    "ax2.title.set_text('Max error:' + str(np.max(np.abs(solution[:,index1]-mid_temp1))))\n",
    "\n",
    "\n",
    "ax3.plot(time, solution[:,index2], 'b-', label='Computed at 4.5cm')\n",
    "ax3.plot(time, mid_temp2, 'r-', label='Measured at 4.5cm')\n",
    "ax3.legend(loc=\"upper left\")\n",
    "ax3.axis([0, 24, 294, 304])\n",
    "ax3.set_xlabel('Time (hrs)')\n",
    "ax3.set_ylabel('Temperature (K)')\n",
    "ax3.title.set_text('Max error:' + str(np.max(np.abs(solution[:,index2]-mid_temp2))))\n",
    "\n",
    "\n",
    "\n",
    "ax4.plot(time, solution[:,-2], 'b-', label='Computed bark')\n",
    "ax4.plot(time, bark_temp, 'r-', label='Measured bark')\n",
    "ax4.legend(loc=\"upper left\")\n",
    "ax4.axis([0, 24, 294, 304])\n",
    "ax4.set_xlabel('Time (hrs)')\n",
    "ax4.set_ylabel('Temperature (K)')\n",
    "ax4.title.set_text('Max error:' + str(np.max(np.abs(solution[:,-2]-bark_temp))))\n",
    "\n",
    "\n",
    "################################\n",
    "\n",
    "# fig, ax = plt.subplots(nrows=2, ncols=2, figsize=(10, 5))\n",
    "\n",
    "# ax[0,0].plot(time, solution[:,0], 'b-', label='Computed core')\n",
    "# ax[0,0].plot(time, core_temp, 'r-', label='Measured core')\n",
    "# ax[0,0].legend(loc=\"upper left\")\n",
    "# ax[0,0].axis([0, 24, 294, 304])\n",
    "# ax[0,0].set_xlabel('Time (hrs)')\n",
    "# ax[0,0].set_ylabel('Temperature (K)')\n",
    "# ax[0,0].title.set_text('Max error:' + str(np.max(np.abs(solution[:,0]-core_temp))))\n",
    "\n",
    "\n",
    "# ax[0,1].plot(time, solution[:,index1], 'b-', label='Computed at 9cm')\n",
    "# ax[0,1].plot(time, mid_temp1, 'r-', label='Measured at 9cm')\n",
    "# ax[0,1].legend(loc=\"upper left\")\n",
    "# ax[0,1].axis([0, 24, 294, 304])\n",
    "# ax[0,1].set_xlabel('Time (hrs)')\n",
    "# ax[0,1].set_ylabel('Temperature (K)')\n",
    "# ax[0,1].title.set_text('Max error:' + str(np.max(np.abs(solution[:,index1]-mid_temp1))))\n",
    "\n",
    "\n",
    "# ax[1,0].plot(time, solution[:,index2], 'b-', label='Computed at 4.5cm')\n",
    "# ax[1,0].plot(time, mid_temp2, 'r-', label='Measured at 4.5cm')\n",
    "# ax[1,0].legend(loc=\"upper left\")\n",
    "# ax[1,0].axis([0, 24, 294, 304])\n",
    "# ax[1,0].set_xlabel('Time (hrs)')\n",
    "# ax[1,0].set_ylabel('Temperature (K)')\n",
    "# ax[0,1].title.set_text('Max error:' + str(np.max(np.abs(solution[:,index2]-mid_temp2))))\n",
    "\n",
    "\n",
    "\n",
    "# ax[1,1].plot(time, solution[:,-2], 'b-', label='Computed bark')\n",
    "# ax[1,1].plot(time, bark_temp, 'r-', label='Measured bark')\n",
    "# ax[1,1].legend(loc=\"upper left\")\n",
    "# ax[1,1].axis([0, 24, 294, 304])\n",
    "# ax[1,1].set_xlabel('Time (hrs)')\n",
    "# ax[1,1].set_ylabel('Temperature (K)')\n",
    "# ax[0,1].title.set_text('Max error:' + str(np.max(np.abs(solution[:,-2]-bark_temp))))\n",
    "\n",
    "\n",
    "plt.show()\n",
    "\n"
   ]
  },
  {
   "cell_type": "code",
   "execution_count": null,
   "id": "c380782b",
   "metadata": {},
   "outputs": [],
   "source": [
    "# search literature for temperature variation inside the tree trunk"
   ]
  },
  {
   "cell_type": "code",
   "execution_count": null,
   "id": "7ca59f5f",
   "metadata": {},
   "outputs": [],
   "source": []
  }
 ],
 "metadata": {
  "kernelspec": {
   "display_name": "Python 3 (ipykernel)",
   "language": "python",
   "name": "python3"
  },
  "language_info": {
   "codemirror_mode": {
    "name": "ipython",
    "version": 3
   },
   "file_extension": ".py",
   "mimetype": "text/x-python",
   "name": "python",
   "nbconvert_exporter": "python",
   "pygments_lexer": "ipython3",
   "version": "3.8.10"
  }
 },
 "nbformat": 4,
 "nbformat_minor": 5
}
