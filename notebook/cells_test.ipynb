{
 "cells": [
  {
   "cell_type": "markdown",
   "id": "d8a33a45",
   "metadata": {},
   "source": [
    "# This notebook is copied from treePower.ipynb for parameter testing. "
   ]
  },
  {
   "cell_type": "code",
   "execution_count": 1,
   "id": "13b57a09",
   "metadata": {},
   "outputs": [
    {
     "name": "stdout",
     "output_type": "stream",
     "text": [
      "Python 3 version is 3.8.10 (default, Mar 13 2023, 10:26:41) \n",
      "[GCC 9.4.0]\n",
      "Matplotlib version is 3.5.1\n",
      "Numpy version is 1.22.3\n",
      "Scipy version is 1.8.0\n",
      "System information:  uname_result(system='Linux', node='yajun-ThinkPad-T490s', release='5.4.0-146-generic', version='#163-Ubuntu SMP Fri Mar 17 18:26:02 UTC 2023', machine='x86_64', processor='x86_64')\n"
     ]
    }
   ],
   "source": [
    "import platform\n",
    "import numpy as np\n",
    "import pandas\n",
    "from scipy import sparse\n",
    "from scipy.optimize import broyden1\n",
    "from functools import partial\n",
    "from matplotlib import pyplot as plt\n",
    "from mpl_toolkits.mplot3d import Axes3D \n",
    "%matplotlib inline\n",
    "\n",
    "import sys\n",
    "print(\"Python 3 version is\", sys.version)\n",
    "import matplotlib\n",
    "print(\"Matplotlib version is\", matplotlib.__version__)\n",
    "print(\"Numpy version is\", np.__version__)\n",
    "import scipy\n",
    "print(\"Scipy version is\", scipy.__version__)\n",
    "\n",
    "print(\"System information: \", platform.uname())"
   ]
  },
  {
   "cell_type": "code",
   "execution_count": 2,
   "id": "df3944be",
   "metadata": {},
   "outputs": [
    {
     "name": "stdout",
     "output_type": "stream",
     "text": [
      "Parameters defined\n"
     ]
    }
   ],
   "source": [
    "#Define parameters\n",
    "\"\"\"\n",
    "n_x -- number of grid points, radially; interior points index from 1 to n_x - 1; bdry points are 0 and n_x.\n",
    "n_t -- number of time steps\n",
    "plot_at -- grid point at which a temperature curve is drawn\n",
    "diff_at -- list of two grid points where the temp difference is computed\n",
    "radius -- radius of tree, m\n",
    "height -- height of tree, m\n",
    "thermal_conductivity -- thermal conductivity of the tree, unit W/(mK)\n",
    "rho -- density of tree trunk, unit kg/m^3\n",
    "specific_heat -- specific_heat, unit J/(kgK)\n",
    "albedo -- albedo constant; taken to be 0.3 from Potter Andresen pg.3\n",
    "sigma -- Stefan–Boltzmann constant, 5.67 × 10 − 8 W ⋅ m − 2 ⋅ K − 4\n",
    "\"\"\"\n",
    "n_x = 2000\n",
    "n_t = 4000 \n",
    "sigma = 5.76e-8\n",
    "radius = 0.135 # unit m\n",
    "thermal_conductivity = 0.16 # Notation k in paper # pg 3-17, wood handbook.\n",
    "rho = 720 # kg /m**3\n",
    "specific_heat = 1300 # table 3-12, at 27 degrees, MC 12% (wood handbook)\n",
    "albedo = 0.3 # 0.3 is concrete; 0.18, is grass#\n",
    "\n",
    "time = np.linspace(0, 24, n_t, endpoint = False)\n",
    "dt = time[1] - time[0]\n",
    "# Boundary conditions at trunk[0] and trunk[n_x]; Temperature[j] at trunk[j]; in matrix, only index from 1 to n_x-1 (labeled m)\n",
    "trunk = np.linspace(0, radius, n_x + 1)   \n",
    "dr = radius / n_x\n",
    "\n",
    "index1 = int(n_x/3)\n",
    "index2 = 2 * index1\n",
    "\n",
    "print(\"Parameters defined\")"
   ]
  },
  {
   "cell_type": "code",
   "execution_count": 3,
   "id": "976595ee",
   "metadata": {},
   "outputs": [
    {
     "name": "stdout",
     "output_type": "stream",
     "text": [
      "testing data read\n"
     ]
    }
   ],
   "source": [
    "#### Read measured temp data-- only need bark and a mid point for validation\n",
    "\n",
    "colnames = ['datetime', 's45_1', 'e9_1', 'n135_1','e45_2', 'n9_2', 'w135_2', 'n45_3', 'w9_3','s135_3', 'w_ext_35']\n",
    "dataTemp = pandas.read_excel('Tree_Temp_Values_OCT21_to_OCT28_2022.xlsx', names=colnames)\n",
    "\n",
    "    ##########\n",
    "coreTemp = dataTemp.s135_3[2:416].tolist() # Oct 21 -- core temp is west, at 13.5cm, at 2m high\n",
    "coreTempnp = np.asarray([float(t) for t in coreTemp])\n",
    "coreTempnp = coreTempnp + 273.15\n",
    "core_temp = np.interp(np.linspace(0,24,n_t), np.linspace(0,24,coreTempnp.size),coreTempnp)\n",
    "\n",
    "    ##########\n",
    "midTemp1 = dataTemp.w9_3[2:416].tolist() # Oct 21 -- West, at 9cm, at 3m high\n",
    "midTemp1np = np.asarray([float(t) for t in midTemp1])\n",
    "midTemp1np = midTemp1np + 273.15\n",
    "mid_temp1 = np.interp(np.linspace(0,24,n_t), np.linspace(0,24,midTemp1np.size),midTemp1np)\n",
    "    ##########\n",
    "    \n",
    "midTemp2 = dataTemp.n45_3[2:416].tolist() # Oct 21 -- North, at 4.5cm, at 3m high\n",
    "midTemp2np = np.asarray([float(t) for t in midTemp2])\n",
    "midTemp2np = midTemp2np + 273.15\n",
    "mid_temp2 = np.interp(np.linspace(0,24,n_t), np.linspace(0,24,midTemp2np.size),midTemp2np)\n",
    "\n",
    "    ##########\n",
    "    \n",
    "barkTemp = dataTemp.w_ext_35[2:416].tolist() # Oct 21 -- bark temp is West, at bark, at 3.5m high\n",
    "barkTempnp = np.asarray([float(v) for v in barkTemp])\n",
    "barkTempnp = barkTempnp + 273.15\n",
    "bark_temp = np.interp(np.linspace(0,24,n_t), np.linspace(0,24,barkTempnp.size),barkTempnp)\n",
    "    \n",
    "    ##########\n",
    "    \n",
    "initTemp = np.array([core_temp[0], mid_temp1[0], mid_temp2[0], bark_temp[0]])\n",
    "init_temp = np.interp(np.linspace(0,radius,n_x), np.linspace(0,radius,initTemp.size),initTemp)\n",
    "    ##########\n",
    "print(\"testing data read\")"
   ]
  },
  {
   "cell_type": "code",
   "execution_count": 4,
   "id": "ff8de5a7",
   "metadata": {},
   "outputs": [
    {
     "name": "stdout",
     "output_type": "stream",
     "text": [
      "weather data read\n",
      "heat convection coeff computed\n",
      "heat convection computed\n",
      "source term defined, with size 4000\n",
      "max and min of source terms 0.029235911021124324 0.0002269148437057664\n"
     ]
    }
   ],
   "source": [
    "### Read weather data-- do not need when use measured bark data as outer boundary condition\n",
    "\n",
    "colnames = ['datetime', 'wind_speed', 'wind_direction', 'humidity', 'temperature', 'air_pressure', 'solar_DNI']\n",
    "dataWeather = pandas.read_excel('Weather_Station_OCT21_to_OCT28_2022.xlsx', names = colnames)\n",
    "   \n",
    "temp = dataWeather.temperature[2:145].tolist() # use data from Oct 21\n",
    "tempnp = np.asarray([float(t) for t in temp])\n",
    "tempnp = tempnp + 273.15\n",
    "\n",
    "windspeed = dataWeather.wind_speed[2:145].tolist()\n",
    "windspeednp = np.asarray([float(v) for v in windspeed])\n",
    "\n",
    "solar = dataWeather.solar_DNI[2:145].tolist()\n",
    "solarnp = np.asarray([float(v) for v in solar])\n",
    "\n",
    "air_temp = np.interp(np.linspace(0,24,n_t), np.linspace(0,24,tempnp.size),tempnp)\n",
    "wind_speed = np.interp(np.linspace(0,24,n_t), np.linspace(0,24,windspeednp.size),windspeednp)\n",
    "solar_input = np.interp(np.linspace(0,24,n_t), np.linspace(0,24,solarnp.size),solarnp)\n",
    "\n",
    "print(\"weather data read\")\n",
    "\n",
    "nu = 15.89e-6 # m^2/s kinematic viscosity of air\n",
    "Pr = 0.707 \n",
    "ka = 26.3e-3 # W/mK conductivity of air\n",
    "coeff = 2 * radius / nu\n",
    "Re = wind_speed * coeff\n",
    "C = []\n",
    "m = []\n",
    "for j in range(wind_speed.size):\n",
    "    temp = Re[j]\n",
    "    if temp < 0.4:\n",
    "        temp1 = [0, 0] \n",
    "    if 0.4<=temp<= 4:\n",
    "        temp1 = [0.989, 0.330]\n",
    "    if 4<temp<= 40:\n",
    "        temp1 = [0.911, 0.385]\n",
    "    if 40<temp<= 4e3:\n",
    "        temp1 = [0.683, 0.466]\n",
    "    if 4e3<temp<= 4e4:\n",
    "        temp1 = [0.193, 0.618]\n",
    "    if 4e4<temp<= 4e5:\n",
    "        temp1 = [0.027, 0.805]\n",
    "    C.append(temp1[0])\n",
    "    m.append(temp1[1])\n",
    "    \n",
    "Nu = C * Re ** m * Pr ** (1/3)\n",
    "h = Nu * ka / (2 * radius)\n",
    "print(\"heat convection coeff computed\")\n",
    "\n",
    "convect = h * (bark_temp - air_temp)\n",
    "print(\"heat convection computed\")\n",
    "\n",
    "sourceTerm = (1 - albedo) * solar_input + sigma * (air_temp**4 - bark_temp**4) + convect\n",
    "\n",
    "print(\"source term defined, with size\", sourceTerm.size)\n",
    "\n",
    "coeffSource = dt / (2 * rho * specific_heat * dr)\n",
    "\n",
    "s = coeffSource * sourceTerm\n",
    "\n",
    "print(\"max and min of source terms\", s.max(), s.min())"
   ]
  },
  {
   "cell_type": "code",
   "execution_count": 118,
   "id": "cce4c588",
   "metadata": {},
   "outputs": [
    {
     "name": "stdout",
     "output_type": "stream",
     "text": [
      "function mol defined- testing specific heat, heat conductivity, and density rho\n"
     ]
    }
   ],
   "source": [
    "### test parameters: Kt -- thermal conductivity; rho--density; c -- specific heat\n",
    "\n",
    "def mol(specific_heat = 1380.0, thermal_conductivity = 0.12, rho = 510): #\n",
    "\n",
    "    heat_capacity = rho * specific_heat\n",
    "    a = heat_capacity / thermal_conductivity\n",
    "    coeffSource = dt / (2 * heat_capacity * dr)\n",
    "    beta = dt / (a * dr ** 2)\n",
    "    \n",
    "    T0 = init_temp # initialize temperature with measured initial condition\n",
    "\n",
    "    alpha = np.linspace(1, n_x - 1, n_x - 1)# index from 0 to n_x - 2; cor. to points at 1 to n_x - 1\n",
    "    for j in range(alpha.size):\n",
    "        alpha[j] = dt / (4 * a * trunk[j + 2] * dr) - 0.5 * beta\n",
    "        \n",
    "    \n",
    "    gamma = np.linspace(1, n_x - 1, n_x - 1)\n",
    "    for j in range(gamma.size):\n",
    "        gamma[j] = dt / (4 * a * trunk[j + 1] * dr) + 0.5 * beta\n",
    "        \n",
    "    # for the right hand side vector-- gammam is used for Dirichlet at the bark\n",
    "    \n",
    "    gammam = dt / (4 * a * trunk[-1] * dr) + 0.5 * beta\n",
    "    \n",
    "    # system of Ax_{n+1} = Bx_{n} + v    \n",
    "    \n",
    "    # use Neumann condition-- no flux condition\n",
    "    gamma[0] = beta\n",
    "\n",
    "    A = sparse.diags([alpha, np.ones(n_x) + beta, -gamma], [-1, 0, 1], shape=(n_x, n_x)).toarray()\n",
    "    B = sparse.diags([-alpha, np.ones(n_x) - beta, gamma], [-1, 0, 1], shape=(n_x, n_x)).toarray()\n",
    "    \n",
    "    T1 = np.zeros((n_x,1))\n",
    "    \n",
    "    # soln to include initial temperature\n",
    "    soln = [T0]\n",
    "    \n",
    "    ## time stepping: step1 compute B * T0; step2 rhs = B * T0 + v; step2 solve for T1 with T1 = A^-1 * rhs\n",
    "    for time in range(n_t - 1):\n",
    "        rhs = B.dot(T0)\n",
    "        # with measured bark temperature; plus source term\n",
    "        rhs[-1] = rhs[-1] + gammam * (bark_temp[time] + bark_temp[time + 1]) + coeffSource * (sourceTerm[time] + sourceTerm[time + 1])\n",
    "        # with measured air temperature\n",
    "#         rhs[-1] = rhs[-1] + gammam * (air_temp[time] + air_temp[time + 1]) + coeffSource * (sourceTerm[time] + sourceTerm[time + 1])\n",
    "        T1 = np.linalg.solve(A, rhs) \n",
    "        T0 = T1\n",
    "        \n",
    "        soln.append(T0) # start saving the solutions from time step 1 \n",
    "        solnArray = np.array(soln)\n",
    "        \n",
    "    return solnArray \n",
    "print(\"function mol defined- testing specific heat, heat conductivity, and density rho\")\n",
    "\n"
   ]
  },
  {
   "cell_type": "code",
   "execution_count": 5,
   "id": "c800838e",
   "metadata": {},
   "outputs": [
    {
     "name": "stdout",
     "output_type": "stream",
     "text": [
      "function explicit defined- testing specific heat, heat conductivity, and density rho\n"
     ]
    }
   ],
   "source": [
    "### test with explicit method: parameters Kt -- thermal conductivity; rho--density; c -- specific heat\n",
    "\n",
    "def explicit(specific_heat = 1380.0, thermal_conductivity = 0.12, rho = 510): #\n",
    "\n",
    "    heat_capacity = rho * specific_heat\n",
    "    a = thermal_conductivity / heat_capacity\n",
    "    lamb = dt/dr\n",
    "    coeffSource = dt / (2 * heat_capacity * dr)\n",
    "    beta = 1 - (2 * a * lamb) / dr \n",
    "    \n",
    "    T0 = init_temp # initialize temperature with measured initial condition\n",
    "\n",
    "    alpha = np.linspace(1, n_x - 1, n_x - 1)# index from 0 to n_x - 2; cor. to points at 1 to n_x - 1\n",
    "    for j in range(alpha.size):\n",
    "        alpha[j] =  a * lamb / dr - a * lamb /(2 * trunk[j + 2] ) # trunk[j + 2]\n",
    "        \n",
    "    \n",
    "    gamma = np.linspace(1, n_x - 1, n_x - 1)\n",
    "    for j in range(gamma.size):\n",
    "        gamma[j] = a * lamb / dr + a * lamb /(2 * trunk[j + 1] )\n",
    "        \n",
    "    # gammam multiplies by measured temp for Dirichlet at the bark\n",
    "    \n",
    "    gammam = a * lamb / dr + a * lamb /(2 * trunk[-1] )\n",
    "    \n",
    "    # system of x_{n+1} = Bx_{n} + v    \n",
    "    \n",
    "    # use Neumann condition-- no flux condition\n",
    "    gamma[0] = 1 - beta\n",
    "\n",
    "    B = sparse.diags([alpha, beta, gamma], [-1, 0, 1], shape=(n_x, n_x)).toarray()\n",
    "    \n",
    "    T1 = np.zeros((n_x,1))\n",
    "    \n",
    "    # soln to include initial temperature\n",
    "    soln = [T0]\n",
    "    \n",
    "    ## time stepping: step1 compute B * T0; step2 T1 = B * T0 + v\n",
    "    for time in range(n_t - 1):\n",
    "        T1 = B.dot(T0)\n",
    "        # with measured bark temperature; plus source term\n",
    "        T1[-1] = T1[-1] + gammam * bark_temp[time] + coeffSource * sourceTerm[time]\n",
    "        # with measured air temperature\n",
    "#         T1[-1] = T1[-1] + gammam * air_temp[time] + coeffSource * sourceTerm[time]\n",
    "        T0 = T1\n",
    "        \n",
    "        soln.append(T0) # start saving the solutions from time step 1 \n",
    "        solnArray = np.array(soln)\n",
    "        \n",
    "    return solnArray \n",
    "print(\"function explicit defined- testing specific heat, heat conductivity, and density rho\")\n",
    "\n"
   ]
  },
  {
   "cell_type": "code",
   "execution_count": 6,
   "id": "31dc4bbd",
   "metadata": {},
   "outputs": [
    {
     "name": "stdout",
     "output_type": "stream",
     "text": [
      "Solution computed by explicit method\n"
     ]
    }
   ],
   "source": [
    "#solution1 = explicit(specific_heat = 1.380, thermal_conductivity = 0.3, rho = 510)\n",
    "solution1 = explicit(specific_heat = 1380.0, thermal_conductivity = 0.12, rho = 510)  \n",
    "print(\"Solution computed by explicit method\")"
   ]
  },
  {
   "cell_type": "code",
   "execution_count": 119,
   "id": "8adb9148",
   "metadata": {},
   "outputs": [
    {
     "name": "stdout",
     "output_type": "stream",
     "text": [
      "Solution computed by Crank-Nicolson method\n"
     ]
    }
   ],
   "source": [
    "## test function mol\n",
    "## looks good specific_heat = 1.380, thermal_conductivity = 0.3/0.4, rho = 510 when varying thermal conductivity\n",
    "solution2 = mol(specific_heat = 1.380, thermal_conductivity = 0.12, rho = 510)\n",
    "print(\"Solution computed by Crank-Nicolson method\")"
   ]
  },
  {
   "cell_type": "code",
   "execution_count": 7,
   "id": "6fc2e32a",
   "metadata": {},
   "outputs": [
    {
     "name": "stdout",
     "output_type": "stream",
     "text": [
      "Ready for visualization\n"
     ]
    }
   ],
   "source": [
    "# rename for plotting\n",
    "solution = solution1\n",
    "print(\"Ready for visualization\")"
   ]
  },
  {
   "cell_type": "code",
   "execution_count": 8,
   "id": "cf75f268",
   "metadata": {
    "scrolled": true
   },
   "outputs": [
    {
     "data": {
      "image/png": "[encoded data removed]",
      "text/plain": [
       "<Figure size 792x504 with 4 Axes>"
      ]
     },
     "metadata": {
      "needs_background": "light"
     },
     "output_type": "display_data"
    }
   ],
   "source": [
    "# visualize\n",
    "fig, (ax1, ax2, ax3, ax4) = plt.subplots(nrows=1, ncols=4,figsize=(11, 7))\n",
    "\n",
    "grid = plt.GridSpec(2, 2, wspace=0.2, hspace=0.5)\n",
    "\n",
    "ax1 = plt.subplot(grid[0, 0])\n",
    "ax2 = plt.subplot(grid[0, 1:])\n",
    "ax3 = plt.subplot(grid[1, :1])\n",
    "ax4 = plt.subplot(grid[1, 1:])\n",
    "\n",
    "ax1.plot(time, solution[:,0], 'b-', label='Computed core')\n",
    "ax1.plot(time, core_temp, 'r-', label='Measured core')\n",
    "ax1.legend(loc=\"upper left\")\n",
    "ax1.axis([0, 24, 294, 304])\n",
    "ax1.set_xlabel('Time (hrs)')\n",
    "ax1.set_ylabel('Temperature (K)')\n",
    "ax1.title.set_text('Max error:' + str(np.max(np.abs(solution[:,0]-core_temp))))\n",
    "\n",
    "\n",
    "ax2.plot(time, solution[:,index1], 'b-', label='Computed at 9cm')\n",
    "ax2.plot(time, mid_temp1, 'r-', label='Measured at 9cm')\n",
    "ax2.legend(loc=\"upper left\")\n",
    "ax2.axis([0, 24, 294, 304])\n",
    "ax2.set_xlabel('Time (hrs)')\n",
    "ax2.set_ylabel('Temperature (K)')\n",
    "ax2.title.set_text('Max error:' + str(np.max(np.abs(solution[:,index1]-mid_temp1))))\n",
    "\n",
    "\n",
    "ax3.plot(time, solution[:,index2], 'b-', label='Computed at 4.5cm')\n",
    "ax3.plot(time, mid_temp2, 'r-', label='Measured at 4.5cm')\n",
    "ax3.legend(loc=\"upper left\")\n",
    "ax3.axis([0, 24, 294, 304])\n",
    "ax3.set_xlabel('Time (hrs)')\n",
    "ax3.set_ylabel('Temperature (K)')\n",
    "ax3.title.set_text('Max error:' + str(np.max(np.abs(solution[:,index2]-mid_temp2))))\n",
    "\n",
    "\n",
    "\n",
    "ax4.plot(time, solution[:,-2], 'b-', label='Computed bark')\n",
    "ax4.plot(time, bark_temp, 'r-', label='Measured bark')\n",
    "ax4.legend(loc=\"upper left\")\n",
    "ax4.axis([0, 24, 294, 304])\n",
    "ax4.set_xlabel('Time (hrs)')\n",
    "ax4.set_ylabel('Temperature (K)')\n",
    "ax4.title.set_text('Max error:' + str(np.max(np.abs(solution[:,-2]-bark_temp))))\n",
    "\n",
    "\n",
    "################################\n",
    "\n",
    "# fig, ax = plt.subplots(nrows=2, ncols=2, figsize=(10, 5))\n",
    "\n",
    "# ax[0,0].plot(time, solution[:,0], 'b-', label='Computed core')\n",
    "# ax[0,0].plot(time, core_temp, 'r-', label='Measured core')\n",
    "# ax[0,0].legend(loc=\"upper left\")\n",
    "# ax[0,0].axis([0, 24, 294, 304])\n",
    "# ax[0,0].set_xlabel('Time (hrs)')\n",
    "# ax[0,0].set_ylabel('Temperature (K)')\n",
    "# ax[0,0].title.set_text('Max error:' + str(np.max(np.abs(solution[:,0]-core_temp))))\n",
    "\n",
    "\n",
    "# ax[0,1].plot(time, solution[:,index1], 'b-', label='Computed at 9cm')\n",
    "# ax[0,1].plot(time, mid_temp1, 'r-', label='Measured at 9cm')\n",
    "# ax[0,1].legend(loc=\"upper left\")\n",
    "# ax[0,1].axis([0, 24, 294, 304])\n",
    "# ax[0,1].set_xlabel('Time (hrs)')\n",
    "# ax[0,1].set_ylabel('Temperature (K)')\n",
    "# ax[0,1].title.set_text('Max error:' + str(np.max(np.abs(solution[:,index1]-mid_temp1))))\n",
    "\n",
    "\n",
    "# ax[1,0].plot(time, solution[:,index2], 'b-', label='Computed at 4.5cm')\n",
    "# ax[1,0].plot(time, mid_temp2, 'r-', label='Measured at 4.5cm')\n",
    "# ax[1,0].legend(loc=\"upper left\")\n",
    "# ax[1,0].axis([0, 24, 294, 304])\n",
    "# ax[1,0].set_xlabel('Time (hrs)')\n",
    "# ax[1,0].set_ylabel('Temperature (K)')\n",
    "# ax[0,1].title.set_text('Max error:' + str(np.max(np.abs(solution[:,index2]-mid_temp2))))\n",
    "\n",
    "\n",
    "\n",
    "# ax[1,1].plot(time, solution[:,-2], 'b-', label='Computed bark')\n",
    "# ax[1,1].plot(time, bark_temp, 'r-', label='Measured bark')\n",
    "# ax[1,1].legend(loc=\"upper left\")\n",
    "# ax[1,1].axis([0, 24, 294, 304])\n",
    "# ax[1,1].set_xlabel('Time (hrs)')\n",
    "# ax[1,1].set_ylabel('Temperature (K)')\n",
    "# ax[0,1].title.set_text('Max error:' + str(np.max(np.abs(solution[:,-2]-bark_temp))))\n",
    "\n",
    "#plt.savefig('/Users/yajuna/Desktop/' + 'for_poster' + '.eps', format='eps', dpi=180,bbox_inches='tight')\n",
    "plt.show()\n",
    "\n"
   ]
  },
  {
   "cell_type": "code",
   "execution_count": 9,
   "id": "dcdbf769",
   "metadata": {},
   "outputs": [
    {
     "name": "stdout",
     "output_type": "stream",
     "text": [
      "Max and min current error are  103.1327653352937 -135.57265590124825 at time 1326 1636\n"
     ]
    },
    {
     "data": {
      "image/png": "[encoded data removed]",
      "text/plain": [
       "<Figure size 792x504 with 2 Axes>"
      ]
     },
     "metadata": {
      "needs_background": "light"
     },
     "output_type": "display_data"
    }
   ],
   "source": [
    "# Use Seebeck to compute generated current\n",
    "\n",
    "s = 48 # mV/K\n",
    "\n",
    "E = np.zeros((n_t,1))\n",
    "\n",
    "TempDiff = np.abs(solution[:, 0] - solution[:, -3])\n",
    "\n",
    "TempDiff_measure = np.abs(core_temp - bark_temp)\n",
    "\n",
    "E = s * TempDiff\n",
    "\n",
    "E_measured = s * TempDiff_measure\n",
    "\n",
    "error = E - E_measured\n",
    "\n",
    "\n",
    "print(\"Max and min current error are \", error.max(), error.min(), \"at time\", np.argmax(error), np.argmin(error))   \n",
    "\n",
    "t = np.linspace(0, 24, E.size, endpoint=False) \n",
    "\n",
    "fig, (ax1, ax2 ) = plt.subplots(nrows=1, ncols=2,figsize=(11, 7))\n",
    "\n",
    "grid = plt.GridSpec(2, 2, wspace=0.2, hspace=0.5)\n",
    "\n",
    "ax1 = plt.subplot(grid[0, 0])\n",
    "ax2 = plt.subplot(grid[0, 1:])\n",
    "\n",
    "ax1.plot(t, E, '.r-')\n",
    "ax1.axis([0,24,-50,250])\n",
    "ax1.set_xlabel('Time (hrs)')\n",
    "ax1.set_ylabel('Voltage (mV)')\n",
    "ax1.title.set_text('Current generated with simulated temperature')\n",
    "\n",
    "\n",
    "ax2.plot(t, E_measured, '.r-')\n",
    "ax2.axis([0,24,-50,250])\n",
    "ax2.set_xlabel('Time (hrs)')\n",
    "ax2.set_ylabel('Voltage (mV)')\n",
    "ax2.title.set_text('Current generated with measured temperature')\n",
    "\n",
    "\n",
    "# plt.plot(t, E, '.r-')\n",
    "# message = f\"Current generated with simulated temperature\"\n",
    "# plt.title(message)\n",
    "# plt.axis([0,24,-50,250])\n",
    "# plt.xlabel('Time (hrs)')\n",
    "# plt.ylabel('Voltage (mV)')\n",
    "#plt.savefig('/Users/yajuna/Desktop/' + 'for_poster_current_core_bark' + '.eps', format='eps', dpi=180,bbox_inches='tight')\n",
    "plt.show()"
   ]
  },
  {
   "cell_type": "code",
   "execution_count": 79,
   "id": "3756979b",
   "metadata": {},
   "outputs": [
    {
     "name": "stdout",
     "output_type": "stream",
     "text": [
      "Max and min current error are  105.43575254907137 -119.90105336891884 at time 1322 1636\n"
     ]
    },
    {
     "data": {
      "image/png": "[encoded data removed]",
      "text/plain": [
       "<Figure size 792x504 with 2 Axes>"
      ]
     },
     "metadata": {
      "needs_background": "light"
     },
     "output_type": "display_data"
    }
   ],
   "source": [
    "# Use Seebeck to compute generated current-- bark and 9cm\n",
    "\n",
    "s = 48 # mV/K\n",
    "\n",
    "E = np.zeros((n_t,1))\n",
    "\n",
    "TempDiff = np.abs(solution[:, -3] - solution[:, index1])\n",
    "\n",
    "TempDiff_measure = np.abs(bark_temp - mid_temp1)\n",
    "\n",
    "E = s * TempDiff\n",
    "\n",
    "E_measured = s * TempDiff_measure\n",
    "\n",
    "error = E - E_measured\n",
    "\n",
    "\n",
    "print(\"Max and min current error are \", error.max(), error.min(), \"at time\", np.argmax(error), np.argmin(error))   \n",
    "\n",
    "t = np.linspace(0, 24, E.size, endpoint=False) \n",
    "\n",
    "fig, (ax1, ax2 ) = plt.subplots(nrows=1, ncols=2,figsize=(11, 7))\n",
    "\n",
    "grid = plt.GridSpec(2, 2, wspace=0.2, hspace=0.5)\n",
    "\n",
    "ax1 = plt.subplot(grid[0, 0])\n",
    "ax2 = plt.subplot(grid[0, 1:])\n",
    "\n",
    "ax1.plot(t, E, '.r-')\n",
    "ax1.axis([0,24,-50,250])\n",
    "ax1.set_xlabel('Time (hrs)')\n",
    "ax1.set_ylabel('Voltage (mV)')\n",
    "ax1.title.set_text('Current generated with simulated temperature')\n",
    "\n",
    "\n",
    "ax2.plot(t, E_measured, '.r-')\n",
    "ax2.axis([0,24,-50,250])\n",
    "ax2.set_xlabel('Time (hrs)')\n",
    "ax2.set_ylabel('Voltage (mV)')\n",
    "ax2.title.set_text('Current generated with measured temperature')\n",
    "\n",
    "\n",
    "# plt.plot(t, E, '.r-')\n",
    "# message = f\"Current generated with simulated temperature\"\n",
    "# plt.title(message)\n",
    "# plt.axis([0,24,-50,250])\n",
    "# plt.xlabel('Time (hrs)')\n",
    "# plt.ylabel('Voltage (mV)')\n",
    "#plt.savefig('/Users/yajuna/Desktop/' + 'for_poster_current_9cm_bark' + '.eps', format='eps', dpi=180,bbox_inches='tight')\n",
    "plt.show()"
   ]
  },
  {
   "cell_type": "code",
   "execution_count": 80,
   "id": "340e78fd",
   "metadata": {},
   "outputs": [
    {
     "data": {
      "image/png": "[encoded data removed]",
      "text/plain": [
       "<Figure size 792x504 with 4 Axes>"
      ]
     },
     "metadata": {
      "needs_background": "light"
     },
     "output_type": "display_data"
    }
   ],
   "source": [
    "# visualize-- relative error\n",
    "fig, (ax1, ax2, ax3, ax4) = plt.subplots(nrows=1, ncols=4,figsize=(11, 7))\n",
    "\n",
    "grid = plt.GridSpec(2, 2, wspace=0.3, hspace=0.5)\n",
    "\n",
    "ax1 = plt.subplot(grid[0, 0])\n",
    "ax2 = plt.subplot(grid[0, 1:])\n",
    "ax3 = plt.subplot(grid[1, :1])\n",
    "ax4 = plt.subplot(grid[1, 1:])\n",
    "\n",
    "ax1.plot(time, np.abs(solution[:,0]-core_temp)/core_temp, 'b-', label='Relative error at core')\n",
    "ax1.legend(loc=\"upper left\")\n",
    "ax1.axis([0, 24, -0.0, 0.0125])\n",
    "ax1.set_xlabel('Time (hrs)')\n",
    "ax1.set_ylabel('Relative error')\n",
    "ax1.title.set_text('Max error:' + str(np.max(np.abs(solution[:,0]-core_temp)/core_temp)))\n",
    "\n",
    "\n",
    "ax2.plot(time, np.abs(solution[:,index1]-mid_temp1)/mid_temp1, 'b-', label='Relative error at 9cm')\n",
    "ax2.legend(loc=\"upper left\")\n",
    "ax2.axis([0, 24, -0.0, 0.0125])\n",
    "ax2.set_xlabel('Time (hrs)')\n",
    "ax2.set_ylabel('Relative error')\n",
    "ax2.title.set_text('Max error:' + str(np.max(np.abs(solution[:,index1]-mid_temp1)/mid_temp1)))\n",
    "\n",
    "\n",
    "ax3.plot(time, np.abs(solution[:,index2]-mid_temp2)/mid_temp2, 'b-', label='Relative error at 4.5cm')\n",
    "ax3.legend(loc=\"upper left\")\n",
    "ax3.axis([0, 24, -0.0, 0.0125])\n",
    "ax3.set_xlabel('Time (hrs)')\n",
    "ax3.set_ylabel('Relative error')\n",
    "ax3.title.set_text('Max error:' + str(np.max(np.abs(solution[:,index2]-mid_temp2)/mid_temp2)))\n",
    "\n",
    "\n",
    "\n",
    "ax4.plot(time, np.abs(solution[:,-2]-bark_temp)/bark_temp, 'b-', label='Relative error at bark')\n",
    "ax4.legend(loc=\"upper left\")\n",
    "ax4.axis([0, 24, -0.0, 0.0125])\n",
    "ax4.set_xlabel('Time (hrs)')\n",
    "ax4.set_ylabel('Relative error')\n",
    "ax4.title.set_text('Max error:' + str(np.max(np.abs(solution[:,-2]-bark_temp)/bark_temp)))\n",
    "\n",
    "\n",
    "\n",
    "\n",
    "#plt.savefig('/Users/yajuna/Desktop/' + 'for_poster_relative error' + '.eps', format='eps', dpi=180,bbox_inches='tight')\n",
    "plt.show()\n"
   ]
  },
  {
   "cell_type": "code",
   "execution_count": 6,
   "id": "f226b3c3",
   "metadata": {},
   "outputs": [
    {
     "name": "stdout",
     "output_type": "stream",
     "text": [
      "function mol2 defined- testing heat diffusivity\n"
     ]
    }
   ],
   "source": [
    "def mol2(a = 357142.85714286): \n",
    "#     Eliminate the heat source term as it depends on heat_capacity\n",
    "    coeffSource = 0 # dt / (2 * heat_capacity * dr)\n",
    "#     a = 1/8.2e-5# https://en.wikipedia.org/wiki/Thermal_diffusivity# 1/0.005 # thermal diffusivity is 0.005m2/s https://link.springer.com/content/pdf/10.1007/s002260050130.pdf\n",
    "    beta = dt / (a * dr ** 2)\n",
    "    \n",
    "    T0 = init_temp # initialize temperature with measured initial condition\n",
    "\n",
    "    alpha = np.linspace(1, n_x - 1, n_x - 1)# index from 0 to n_x - 2; cor. to points at 1 to n_x - 1\n",
    "    for j in range(alpha.size):\n",
    "        alpha[j] = dt / (4 * a * trunk[j + 2] * dr) - 0.5 * beta\n",
    "        \n",
    "    \n",
    "    gamma = np.linspace(1, n_x - 1, n_x - 1)\n",
    "    for j in range(gamma.size):\n",
    "        gamma[j] = dt / (4 * a * trunk[j + 1] * dr) + 0.5 * beta\n",
    "        \n",
    "    # for the right hand side vector-- gammam is used for Dirichlet at the bark\n",
    "    \n",
    "    gammam = dt / (4 * a * trunk[-1] * dr) + 0.5 * beta\n",
    "    \n",
    "    # system of Ax_{n+1} = Bx_{n} + v    \n",
    "    \n",
    "    # use Neumann condition-- no flux condition\n",
    "    gamma[0] = beta\n",
    "\n",
    "    A = sparse.diags([alpha, np.ones(n_x) + beta, -gamma], [-1, 0, 1], shape=(n_x, n_x)).toarray()\n",
    "    B = sparse.diags([-alpha, np.ones(n_x) - beta, gamma], [-1, 0, 1], shape=(n_x, n_x)).toarray()\n",
    "    \n",
    "    T1 = np.zeros((n_x,1))\n",
    "    \n",
    "    # soln to include initial temperature\n",
    "    soln = [T0]\n",
    "    \n",
    "    ## time stepping: step1 compute B * T0; step2 rhs = B * T0 + v; step2 solve for T1 with T1 = A^-1 * rhs\n",
    "    for time in range(n_t - 1):\n",
    "        rhs = B.dot(T0)\n",
    "        # with measured bark temperature; plus source term\n",
    "        rhs[-1] = rhs[-1] + gammam * (bark_temp[time] + bark_temp[time + 1]) + coeffSource * (sourceTerm[time] + sourceTerm[time + 1])\n",
    "        # with measured air temperature\n",
    "#         rhs[-1] = rhs[-1] + gammam * (air_temp[time] + air_temp[time + 1]) + coeffSource * (sourceTerm[time] + sourceTerm[time + 1])\n",
    "        T1 = np.linalg.solve(A, rhs) \n",
    "        T0 = T1\n",
    "        \n",
    "        soln.append(T0) # start saving the solutions from time step 1 \n",
    "        solnArray = np.array(soln)\n",
    "        \n",
    "    return solnArray \n",
    "print(\"function mol2 defined- testing heat diffusivity\")\n"
   ]
  },
  {
   "cell_type": "code",
   "execution_count": 7,
   "id": "66486df6",
   "metadata": {},
   "outputs": [
    {
     "name": "stdout",
     "output_type": "stream",
     "text": [
      "function mol3 defined- testing grid resolution\n"
     ]
    }
   ],
   "source": [
    "def mol3(n_x = 200, specific_heat = 1300, thermal_conductivity = 0.16, rho = 720): #\n",
    "    trunk = np.linspace(0, radius, n_x + 1) \n",
    "    heat_capacity = rho * specific_heat\n",
    "    a = heat_capacity / thermal_conductivity\n",
    "    coeffSource = dt / (2 * heat_capacity * dr)\n",
    "    beta = dt / (a * dr ** 2)\n",
    "    index1 = int(n_x/3)\n",
    "    index2 = 2 * index1\n",
    "#     print(\"where to print:\", index1, index2)\n",
    "    \n",
    "    initTemp = np.array([core_temp[0], mid_temp1[0], mid_temp2[0], bark_temp[0]])\n",
    "    init_temp = np.interp(np.linspace(0,radius,n_x), np.linspace(0,radius,initTemp.size),initTemp)\n",
    "    T0 = init_temp # initialize temperature with measured initial condition\n",
    "#     print(\"T0 size:\", T0.size)\n",
    "\n",
    "    alpha = np.linspace(1, n_x - 1, n_x - 1)# index from 0 to n_x - 2; cor. to points at 1 to n_x - 1\n",
    "    for j in range(alpha.size):\n",
    "        alpha[j] = dt / (4 * a * trunk[j + 2] * dr) - 0.5 * beta\n",
    "        \n",
    "    \n",
    "    gamma = np.linspace(1, n_x - 1, n_x - 1)\n",
    "    for j in range(gamma.size):\n",
    "        gamma[j] = dt / (4 * a * trunk[j + 1] * dr) + 0.5 * beta\n",
    "        \n",
    "    # for the right hand side vector-- gammam is used for Dirichlet at the bark\n",
    "    \n",
    "    gammam = dt / (4 * a * trunk[-1] * dr) + 0.5 * beta\n",
    "    \n",
    "    # system of Ax_{n+1} = Bx_{n} + v    \n",
    "    \n",
    "    # use Neumann condition-- no flux condition\n",
    "    gamma[0] = beta\n",
    "\n",
    "    A = sparse.diags([alpha, np.ones(n_x) + beta, -gamma], [-1, 0, 1], shape=(n_x, n_x)).toarray()\n",
    "    B = sparse.diags([-alpha, np.ones(n_x) - beta, gamma], [-1, 0, 1], shape=(n_x, n_x)).toarray()\n",
    "    \n",
    "    T1 = np.zeros((n_x,1))\n",
    "    \n",
    "    # soln to include initial temperature\n",
    "    soln = [T0]\n",
    "    \n",
    "    ## time stepping: step1 compute B * T0; step2 rhs = B * T0 + v; step2 solve for T1 with T1 = A^-1 * rhs\n",
    "    for time in range(n_t - 1):\n",
    "        rhs = B.dot(T0)\n",
    "        # with measured bark temperature; plus source term\n",
    "        rhs[-1] = rhs[-1] + gammam * (bark_temp[time] + bark_temp[time + 1]) + coeffSource * (sourceTerm[time] + sourceTerm[time + 1])\n",
    "        # with measured air temperature\n",
    "#         rhs[-1] = rhs[-1] + gammam * (air_temp[time] + air_temp[time + 1]) + coeffSource * (sourceTerm[time] + sourceTerm[time + 1])\n",
    "        T1 = np.linalg.solve(A, rhs) \n",
    "        T0 = T1\n",
    "        \n",
    "        soln.append(T0) # start saving the solutions from time step 1 \n",
    "        solnArray = np.array(soln)\n",
    "        \n",
    "    return solnArray[:,0],  solnArray[:,index1], solnArray[:,index2], solnArray[:,-3]\n",
    "print(\"function mol3 defined- testing grid resolution\")\n"
   ]
  },
  {
   "cell_type": "code",
   "execution_count": 9,
   "id": "ed27e2ed",
   "metadata": {},
   "outputs": [],
   "source": [
    "## test function mol2-- test the diffusivity coefficients\n",
    "# \"\"\"a = rho * c/ k; max a at: rho = 720, c = 3000, k = 0.059; min a at : rho = 550, c = 1, k = 1.4\"\"\"\n",
    "# amax = 720 * 3000 / 0.059\n",
    "# amin = 550 * 1.000 / 1.4\n",
    "\n",
    "# num = 1000\n",
    "# a = np.linspace(amin, amax, num)\n",
    "# error2 = np.zeros((4, num))\n",
    "\n",
    "# for j in range(num):\n",
    "#     solution = mol2(a[j])\n",
    "#     temporary = np.array([np.max(np.abs(solution[:,0]-core_temp)), np.max(np.abs(solution[:,index1]-mid_temp1)), np.max(np.abs(solution[:,index2]-mid_temp2)), np.max(np.abs(solution[:,-2]-bark_temp))])\n",
    "#     error2[:,j] = temporary\n",
    "    \n",
    "# print(\"parameter testing is done\")   "
   ]
  },
  {
   "cell_type": "code",
   "execution_count": 10,
   "id": "df63593a",
   "metadata": {},
   "outputs": [],
   "source": [
    "# for j in range(4):\n",
    "#     print(np.where(error2[j,:]==np.min(error2[j,:]))[0], error2[j,:].min())"
   ]
  },
  {
   "cell_type": "code",
   "execution_count": null,
   "id": "5eefd12f",
   "metadata": {},
   "outputs": [],
   "source": [
    "# ## test function mol3-- test n_x grid resolution\n",
    "# num = 1000\n",
    "# N_x = np.linspace(20, 20000, num)\n",
    "# error3 = np.zeros((4,num))\n",
    "\n",
    "# for j in range(num):\n",
    "#     solution = mol3(int(N_x[j]), specific_heat = 1300, thermal_conductivity = 0.16, rho = 720)\n",
    "#     temporary = np.array([np.max(np.abs(solution[0]-core_temp)), np.max(np.abs(solution[1]-mid_temp1)), np.max(np.abs(solution[2]-mid_temp2)), np.max(np.abs(solution[-1]-bark_temp))])\n",
    "#     error3[:,j] = temporary\n",
    "    \n",
    "# print(\"parameter testing is done for grid resolution analysis\")"
   ]
  },
  {
   "cell_type": "code",
   "execution_count": null,
   "id": "f759064e",
   "metadata": {},
   "outputs": [],
   "source": [
    "# grid_points = np.zeros((1,num))\n",
    "# e3 = np.sum(error3, axis = 1)\n",
    "# print(\"e3 should be an array of size num\", e3.shape)\n",
    "# # for j in range(num):\n",
    "# #     grid_points[j] = \n",
    "# #     print(np.where(error3[j,:]==np.min(error3[j,:]))[0], error3[j,:].min())"
   ]
  },
  {
   "cell_type": "markdown",
   "id": "d735f39d",
   "metadata": {},
   "source": [
    "## Compute error at: 13.5cm deep, 9cm deep, 4.5cm deep, and bark."
   ]
  },
  {
   "cell_type": "code",
   "execution_count": null,
   "id": "fceea690",
   "metadata": {},
   "outputs": [],
   "source": [
    "## test cell-- parameter combo -- test case: solution = mol() with default parameter\n",
    "\n",
    "# K = np.linspace(0.05, 2.0, 196)\n",
    "# # error_Kt = np.zeros((4,196))\n",
    "# infinite_error_Kt = np.zeros((196,1))\n",
    "# for j in range(196):\n",
    "#     solution = mol(c = 10, Kt = K[j], rho = 720)\n",
    "#     temp = np.array([np.max(np.abs(solution[:,0]-core_temp))+ np.max(np.abs(solution[:,index1]-mid_temp1))+ np.max(np.abs(solution[:,index2]-mid_temp2))+ np.max(np.abs(solution[:,-2]-bark_temp))])\n",
    "# #     temp = np.array([np.max(np.abs(solution[:,0]-core_temp)), np.max(np.abs(solution[:,index1]-mid_temp1)), np.max(np.abs(solution[:,index2]-mid_temp2)), np.max(np.abs(solution[:,-2]-bark_temp))])\n",
    "#     infinite_error_Kt[j] = temp\n",
    "\n",
    "    \n",
    "# C = np.linspace(1, 3700, 370)\n",
    "# # error_C = np.zeros((4,370))\n",
    "# infinite_error_C = np.zeros((370,1))\n",
    "# for j in range(370):\n",
    "#     solution = mol(c = C[j], Kt = 1.6, rho = 720)\n",
    "#     temp = np.array([np.max(np.abs(solution[:,0]-core_temp))+ np.max(np.abs(solution[:,index1]-mid_temp1))+ np.max(np.abs(solution[:,index2]-mid_temp2))+ np.max(np.abs(solution[:,-2]-bark_temp))])\n",
    "# #     temp = np.array([np.max(np.abs(solution[:,0]-core_temp)), np.max(np.abs(solution[:,index1]-mid_temp1)), np.max(np.abs(solution[:,index2]-mid_temp2)), np.max(np.abs(solution[:,-2]-bark_temp))])\n",
    "#     infinite_error_C[j] = temp\n",
    "    \n",
    "    \n",
    "# rho1 = np.linspace(570, 780, 22)\n",
    "# # error_rho = np.zeros((4,22))\n",
    "# infinite_error_rho = np.zeros((22,1))\n",
    "# for j in range(22):\n",
    "#     solution = mol(c = 10, Kt = 1.6, rho = rho1[j])\n",
    "#     temp = np.array([np.max(np.abs(solution[:,0]-core_temp))+ np.max(np.abs(solution[:,index1]-mid_temp1))+ np.max(np.abs(solution[:,index2]-mid_temp2))+ np.max(np.abs(solution[:,-2]-bark_temp))])\n",
    "# #     temp = np.array([np.max(np.abs(solution[:,0]-core_temp)), np.max(np.abs(solution[:,index1]-mid_temp1)), np.max(np.abs(solution[:,index2]-mid_temp2)), np.max(np.abs(solution[:,-2]-bark_temp))])\n",
    "#     infinite_error_rho[j] = temp\n",
    "    \n",
    "# print(\"parameter testing done\")\n",
    "# print(infinite_error_Kt.shape,infinite_error_C.shape, infinite_error_rho.shape)"
   ]
  },
  {
   "cell_type": "code",
   "execution_count": null,
   "id": "eb923bee",
   "metadata": {},
   "outputs": [],
   "source": [
    "## print index and the corresponding values of c, Kt, rho\n",
    "\n",
    "# dex_Kt = np.where(infinite_error_Kt[j]==np.min(infinite_error_Kt[j]))\n",
    "# dex_C = np.where(infinite_error_C[j]==np.min(infinite_error_C[j]))\n",
    "# dex_rho = np.where(infinite_error_rho[j]==np.min(infinite_error_rho[j]))\n",
    "\n",
    "# print(\"Kt varies with c = 10, rho = 720\", \"error is: \", infinite_error_Kt[j].min())\n",
    "# print(\"Index of smallest error\", dex_Kt, \"Kt=\", K[dex_Kt], \";\")\n",
    "# print(\"c varies with Kt = 1.6, rho = 720\", \"error is: \", infinite_error_C[j].min())\n",
    "# print(\"Index of smallest error\", dex_C, \"c=\", C[dex_C], \";\")\n",
    "# print(\"rho varies with Kt = 1.6, c = 10\", \"error is: \", infinite_error_rho[j].min())\n",
    "# print(\"Index of smallest error\", dex_rho, \"rho=\", rho1[dex_rho], \";\")\n",
    "\n",
    "# for j in range(4):\n",
    "#     dex = np.where(error_Kt[j,:]==np.min(error_Kt[j,:]))[0]\n",
    "#     print(\"Kt varies with c = 10, rho = 720\", \"error is: \", error_Kt[j,:].min())\n",
    "#     print(\"Index of smallest error\", dex, \"Kt=\", K[dex], \";\")\n",
    "\n",
    "# for j in range(4):\n",
    "#     dex = np.where(error_C[j,:]==np.min(error_C[j,:]))[0]\n",
    "#     print(\"c varies with Kt = 1.6, rho = 720\", \"error is: \", error_C[j,:].min())\n",
    "#     print(\"Index of smallest error\", dex, \"c=\", C[dex], \";\")\n",
    "\n",
    "# for j in range(4):\n",
    "#     dex = np.where(error_rho[j,:]==np.min(error_rho[j,:]))[0]\n",
    "#     print(\"rho varies with Kt = 1.6, c = 10\", \"error is: \", error_rho[j,:].min())\n",
    "#     print(\"Index of smallest error\", dex, \"rho=\", rho1[dex], \";\")\n",
    "\n"
   ]
  },
  {
   "cell_type": "code",
   "execution_count": null,
   "id": "1b0f272c",
   "metadata": {},
   "outputs": [],
   "source": [
    "\"\"\"compute Kt and c from FireStem2D, and compute temperature with these Kt and c values; GM = specific gravity;\n",
    "M=moisture content\"\"\"\n",
    "# GM = 0.5 # https://www.wagnermeters.com/specific-gravity/m/\n",
    "# M = 0.13 # wood handbook, Table 4-2, temp at 21, humidity at 75%\n",
    "\n",
    "# Kt = GM * (0.1941 + 0.4064 * M) + 0.01864\n",
    "# print(\"Thermal conductivity\", Kt)\n",
    "\n",
    "# T = 300 # ~ 300\n",
    "# cp0 = 0.1031 + 0.00386 * T\n",
    "# cpw = 3.8 + 130/(645 + T)\n",
    "# Ac = M * (-0.06191 + 2.36e-4 * T - 1.33e-4)\n",
    "\n",
    "# cp = (cp0 + cpw * M)/(1+M) + Ac\n",
    "\n",
    "# print(\"heat capacity\", cp)\n",
    "\n",
    "# #with above cp, and Kt values, run code\n",
    "# solution = mol(c = 1.57e3, Kt = 0.14, rho = 720)\n"
   ]
  },
  {
   "cell_type": "code",
   "execution_count": null,
   "id": "a5c7a499",
   "metadata": {},
   "outputs": [],
   "source": [
    "# for j in range(4):\n",
    "#     print(\"At the\", j, \"-th measurement:\")\n",
    "#     dex = np.where(error[j,:]==np.min(error[j,:]))[0]\n",
    "#     print(\"rho * c /kt varies with smallest error:\", error[j,:].min())\n",
    "#     print(\"Index of smallest error\", dex, \"a=\", a[dex])"
   ]
  },
  {
   "cell_type": "code",
   "execution_count": null,
   "id": "5d67f399",
   "metadata": {},
   "outputs": [],
   "source": []
  },
  {
   "cell_type": "code",
   "execution_count": null,
   "id": "996449b1",
   "metadata": {},
   "outputs": [],
   "source": []
  }
 ],
 "metadata": {
  "kernelspec": {
   "display_name": "Python 3 (ipykernel)",
   "language": "python",
   "name": "python3"
  },
  "language_info": {
   "codemirror_mode": {
    "name": "ipython",
    "version": 3
   },
   "file_extension": ".py",
   "mimetype": "text/x-python",
   "name": "python",
   "nbconvert_exporter": "python",
   "pygments_lexer": "ipython3",
   "version": "3.8.10"
  }
 },
 "nbformat": 4,
 "nbformat_minor": 5
}
