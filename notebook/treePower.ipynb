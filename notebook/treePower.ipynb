{
 "cells": [
  {
   "cell_type": "markdown",
   "metadata": {},
   "source": [
    "# In this notebook, we visualize the measured data, parameters\n",
    "\n",
    "  1. import all libraries and packages\n",
    "  2. import all data files in csv format\n",
    "  3. define hyperparameters\n",
    "  4. define parameters\n",
    "  5. generate boundary condition data\n",
    "  6. main time stepping code\n",
    "  7. compute generated current\n",
    "  8. visualization"
   ]
  },
  {
   "cell_type": "markdown",
   "metadata": {},
   "source": [
    "Import packages; numpy and scipy are for simulations; pandas for reading data; matplotlib and mpl_tookits.mplot3d for visualization. All experiments are run in Python3."
   ]
  },
  {
   "cell_type": "code",
   "execution_count": 1,
   "metadata": {},
   "outputs": [
    {
     "name": "stdout",
     "output_type": "stream",
     "text": [
      "Python 3 version is 3.7.4 (default, Aug 13 2019, 15:17:50) \n",
      "[Clang 4.0.1 (tags/RELEASE_401/final)]\n",
      "Matplotlib version is 3.1.1\n",
      "Numpy version is 1.17.2\n",
      "Scipy version is 1.3.1\n",
      "System information:  uname_result(system='Darwin', node='uwtlocaladmins-iMac.local', release='20.6.0', version='Darwin Kernel Version 20.6.0: Mon Aug 30 06:12:21 PDT 2021; root:xnu-7195.141.6~3/RELEASE_X86_64', machine='x86_64', processor='i386')\n"
     ]
    }
   ],
   "source": [
    "import platform\n",
    "import numpy as np\n",
    "import pandas\n",
    "from scipy import sparse\n",
    "from scipy.optimize import broyden1\n",
    "from functools import partial\n",
    "from matplotlib import pyplot as plt\n",
    "from mpl_toolkits.mplot3d import Axes3D \n",
    "%matplotlib inline\n",
    "\n",
    "import sys\n",
    "print(\"Python 3 version is\", sys.version)\n",
    "import matplotlib\n",
    "print(\"Matplotlib version is\", matplotlib.__version__)\n",
    "print(\"Numpy version is\", np.__version__)\n",
    "import scipy\n",
    "print(\"Scipy version is\", scipy.__version__)\n",
    "\n",
    "print(\"System information: \", platform.uname())"
   ]
  },
  {
   "cell_type": "code",
   "execution_count": 2,
   "metadata": {},
   "outputs": [],
   "source": [
    "# regular save on laptop\n",
    "# savefigpath = 'fig/'\n",
    "# save on laptop for testing\n",
    "# savefigpath = 'figTest/'\n",
    "\n",
    "# save absolute path desktop\n",
    "savefigpath = '/Users/yajuna/Development/tree/notebook/fig_new_data/'\n",
    "\n",
    "# if use air temperature as boudary condition\n",
    "# airbdryFlag = '_airTempbdry'\n",
    "# if use measured bark temperature as boudary condition\n",
    "airbdryFlag = '_'"
   ]
  },
  {
   "cell_type": "markdown",
   "metadata": {},
   "source": [
    "Define parameters used in time stepping- related to the properties of the trees and weather: thermal conductivity (W/(mK), $\\rho$ the density (kg/m^3), specific heat (J/(kgK)); $\\rho$ mutiplies specific heat gives the heat capacity; finally\n",
    "albedo which impacts how much solar radiation is absorbed (taken to be 0.3 from Potter and Andresen 2002).\n",
    "\n",
    "We choose a constant thermal conductivity, as numerical experiments show little difference.\n",
    "\n",
    "Update (Nov 16): use Neumann condition at the core. Look for error at the implementation for mistakenly divided $\\Delta x$; if not, make tables to test parameters: thermal conductivity; rho (density), and specific heat.\n",
    "\n",
    "Wood handbook, wood as an engieering material: Table 4-8 gives heat capacity"
   ]
  },
  {
   "cell_type": "code",
   "execution_count": 3,
   "metadata": {},
   "outputs": [],
   "source": [
    "#Define parameters\n",
    "\"\"\"\n",
    "n_x -- number of grid points, radially; interior points index from 1 to n_x - 1; bdry points are 0 and n_x.\n",
    "n_t -- number of time steps\n",
    "plot_at -- grid point at which a temperature curve is drawn\n",
    "diff_at -- list of two grid points where the temp difference is computed\n",
    "radius -- radius of tree, m\n",
    "height -- height of tree, m\n",
    "thermal_conductivity -- thermal conductivity of the tree, unit W/(mK)\n",
    "rho -- density of tree trunk, unit kg/m^3\n",
    "specific_heat -- specific_heat, unit J/(kgK)\n",
    "albedo -- albedo constant; taken to be 0.3 for concrete\n",
    "sigma -- Stefan–Boltzmann constant, 5.67 × 10 − 8 W ⋅ m − 2 ⋅ K − 4\n",
    "\"\"\"\n",
    "parameters = {\"n_x\": 150,#5000,\n",
    "              \"n_t\": 150,\n",
    "              \"sigma\":5.76e-8,\n",
    "              \"plot_at\": 3,\n",
    "              \"diff_at\": [0, -1],\n",
    "              \"radius\": 0.135,\n",
    "              \"thermal_conductivity\": 1.8,#0.16,# Notation Kt in code; k in paper # pg 4-10, wood handbook, wood as an engieering material\n",
    "              \"rho\": 720,\n",
    "              \"specific_heat\": 10, #1300, # table 3-12, at 27 degrees, MC 12% (wood handbook)\n",
    "              \"albedo\": 0.3, # 0.3 is concrete; 0.18, is grass#\n",
    "              \"boundary_type\": \"Neumann\"\n",
    "             } "
   ]
  },
  {
   "cell_type": "code",
   "execution_count": 4,
   "metadata": {},
   "outputs": [
    {
     "name": "stdout",
     "output_type": "stream",
     "text": [
      "{'n_x': 150, 'n_t': 150, 'sigma': 5.76e-08, 'plot_at': 3, 'diff_at': [0, -1], 'radius': 0.135, 'thermal_conductivity': 1.8, 'rho': 720, 'specific_heat': 10, 'albedo': 0.3, 'boundary_type': 'Neumann'}\n",
      "150\n",
      "<class 'float'>\n"
     ]
    }
   ],
   "source": [
    "# testing cell\n",
    "\n",
    "print(parameters)\n",
    "print(parameters[\"n_x\"])\n",
    "print(type(parameters[\"radius\"]))\n",
    "\n",
    "\n",
    "n_t = parameters[\"n_t\"]\n",
    "time = np.linspace(0, 24, n_t, endpoint = False)\n",
    "dt = time[1] - time[0]\n",
    "    \n",
    "n_x = parameters[\"n_x\"]\n",
    "radius = parameters[\"radius\"]\n",
    "space = np.linspace(0, radius, n_x)\n",
    "    # Boundary conditions at trunk[0] and trunk[n_x]; Temperature[j] at trunk[j]; in matrix, only index from 1 to n_x-1 (labeled m)\n",
    "# trunk = np.linspace(0, radius, n_x+1)   \n",
    "# dr = radius / n_x\n",
    "# dr1 = trunk[1] - trunk[0]\n",
    "\n",
    "# print(dr - dr1)\n",
    "# print(trunk.size)"
   ]
  },
  {
   "cell_type": "markdown",
   "metadata": {},
   "source": [
    "### Import data from Weather_Station_OCT21_to_OCT28_2022.xlsx. \n",
    "\n",
    "Anemometer;wind_speed;Avg (m/s): Average wind speed in m/s measured by a anemometer\n",
    "\n",
    "Wind Vane TMR;wind_direction;Avg (°): Average wind direction in ° measured by a Wind Vane\n",
    "\n",
    "Hygro/Thermo;humidity;Avg (%): Average  humidity  in % measured by a Hygrometer\n",
    "\n",
    "Hygro/Thermo;temperature;Avg (°C): Average temperature  in °C measured by a Hygrometer\n",
    "\n",
    "Barometer;air_pressure;Avg (hPa): Average  air pressure  in  hPa   measured by a Barometer\n",
    "\n",
    "DNI (Direct Normal Irradiance) Pyrheliometer;solar_DNI;Avg (W/m²):  Average Direct Normal Irradiance in W/m² measured by a Pyrheliometer.\n",
    "\n",
    "OBS: The Direct Normal Irradiance is a measurement of the Solar Irradiance. The Global Irradiance is the sum of the DNI and the Diffuse Irradiance (https://www.sciencedirect.com/topics/engineering/direct-normal-irradiance [sciencedirect.com]). They say that DNI is the most important parameter in a solar plant installation. So, we need to see if the use of DNI (that is a fraction of the global solar irradiation is better for the model)."
   ]
  },
  {
   "cell_type": "code",
   "execution_count": 5,
   "metadata": {},
   "outputs": [],
   "source": [
    "def make_weather_input(parameters):\n",
    "    \n",
    "    n_t = parameters[\"n_t\"]\n",
    "    \n",
    "    colnames = ['datetime', 'wind_speed', 'wind_direction', 'humidity', 'temperature', 'air_pressure', 'solar_DNI']\n",
    "\n",
    "    dataWeather = pandas.read_excel('Weather_Station_OCT21_to_OCT28_2022.xlsx', names = colnames)\n",
    "   \n",
    "    temp = dataWeather.temperature[2:145].tolist() # use data from Oct 21\n",
    "    tempnp = np.asarray([float(t) for t in temp])\n",
    "    \n",
    "    tempnp = tempnp + 273.15\n",
    "\n",
    "    windspeed = dataWeather.wind_speed[2:145].tolist()\n",
    "    windspeednp = np.asarray([float(v) for v in windspeed])\n",
    "\n",
    "    solar = dataWeather.solar_DNI[2:145].tolist()\n",
    "    solarnp = np.asarray([float(v) for v in solar])\n",
    "\n",
    "    air_temp = np.interp(np.linspace(0,24,n_t), np.linspace(0,24,tempnp.size),tempnp)\n",
    "    windspeed = np.interp(np.linspace(0,24,n_t), np.linspace(0,24,windspeednp.size),windspeednp)\n",
    "    solar = np.interp(np.linspace(0,24,n_t), np.linspace(0,24,solarnp.size),solarnp)\n",
    "    \n",
    "    weather_input = {\"air_temp\": air_temp,\n",
    "                  \"windspeed\": windspeed,\n",
    "                  \"solar\": solar}\n",
    "    return weather_input"
   ]
  },
  {
   "cell_type": "markdown",
   "metadata": {},
   "source": [
    "### Plot the weather conditions"
   ]
  },
  {
   "cell_type": "code",
   "execution_count": 6,
   "metadata": {
    "scrolled": true
   },
   "outputs": [
    {
     "data": {
      "image/png": "[encoded data removed]",
      "text/plain": [
       "<Figure size 432x288 with 1 Axes>"
      ]
     },
     "metadata": {
      "needs_background": "light"
     },
     "output_type": "display_data"
    },
    {
     "data": {
      "image/png": "[encoded data removed]",
      "text/plain": [
       "<Figure size 432x288 with 1 Axes>"
      ]
     },
     "metadata": {
      "needs_background": "light"
     },
     "output_type": "display_data"
    },
    {
     "data": {
      "image/png": "[encoded data removed]",
      "text/plain": [
       "<Figure size 432x288 with 1 Axes>"
      ]
     },
     "metadata": {
      "needs_background": "light"
     },
     "output_type": "display_data"
    }
   ],
   "source": [
    "test_weather = make_weather_input(parameters)\n",
    "\n",
    "Va = test_weather[\"windspeed\"]\n",
    "T_air = test_weather[\"air_temp\"]\n",
    "qrads = test_weather[\"solar\"]\n",
    "\n",
    "plt.plot(time, Va, 'r-')\n",
    "\n",
    "message = f\"Windspeed in 24 hours\"\n",
    "plt.title(message)\n",
    "plt.axis([0, 24, Va.min() - Va.min() * 0.2, Va.max() + Va.max() * 0.2])\n",
    "plt.xlabel('Time (hrs)')\n",
    "plt.ylabel('Windspeed (m/s)')\n",
    "plt.savefig(savefigpath + 'windspeed' + '.eps', format='eps', dpi=300,bbox_inches='tight')\n",
    "plt.show()    \n",
    "\n",
    "plt.plot(time, T_air, 'r-')\n",
    "\n",
    "message = f\"Air temperature in 24 hours\"\n",
    "plt.title(message)\n",
    "plt.axis([0, 24, T_air.min() - T_air.min() * 0.01, T_air.max() + T_air.max() * 0.01])\n",
    "plt.xlabel('Time (hrs)')\n",
    "plt.ylabel('Air temperature (K)')\n",
    "plt.savefig(savefigpath + 'T_air' + '.eps', format='eps', dpi=300,bbox_inches='tight')\n",
    "plt.show()  \n",
    "\n",
    "plt.plot(time, qrads, 'r-')\n",
    "\n",
    "message = f\"Solar radiation in 24 hours\"\n",
    "plt.title(message)\n",
    "plt.axis([0, 24, qrads.min() - qrads.min() * 0.1, qrads.max() + qrads.max() * 0.1])\n",
    "plt.xlabel('Time (hrs)')\n",
    "plt.ylabel('Solar radiation (W/m²)')\n",
    "plt.savefig(savefigpath + 'qrads' + '.eps', format='eps', dpi=300,bbox_inches='tight')\n",
    "plt.show()  "
   ]
  },
  {
   "cell_type": "markdown",
   "metadata": {},
   "source": [
    "### Compute Reynolds numbers, Nusselt correlation, and heat convection (h) at each time step."
   ]
  },
  {
   "cell_type": "code",
   "execution_count": 7,
   "metadata": {},
   "outputs": [
    {
     "data": {
      "image/png": "[encoded data removed]",
      "text/plain": [
       "<Figure size 432x288 with 1 Axes>"
      ]
     },
     "metadata": {
      "needs_background": "light"
     },
     "output_type": "display_data"
    },
    {
     "data": {
      "image/png": "[encoded data removed]",
      "text/plain": [
       "<Figure size 432x288 with 1 Axes>"
      ]
     },
     "metadata": {
      "needs_background": "light"
     },
     "output_type": "display_data"
    },
    {
     "data": {
      "image/png": "[encoded data removed]",
      "text/plain": [
       "<Figure size 432x288 with 1 Axes>"
      ]
     },
     "metadata": {
      "needs_background": "light"
     },
     "output_type": "display_data"
    },
    {
     "data": {
      "image/png": "[encoded data removed]",
      "text/plain": [
       "<Figure size 432x288 with 1 Axes>"
      ]
     },
     "metadata": {
      "needs_background": "light"
     },
     "output_type": "display_data"
    },
    {
     "name": "stdout",
     "output_type": "stream",
     "text": [
      "<class 'numpy.ndarray'> 150 21.110590822268364 5.59604515671283 12.407242936375853\n"
     ]
    }
   ],
   "source": [
    "\n",
    "nu = 15.89e-6 # m^2/s kinematic viscosity of air\n",
    "Pr = 0.707 \n",
    "ka = 26.3e-3 # W/mK conductivity of air\n",
    "\n",
    "coeff = 2 * radius/nu\n",
    "\n",
    "Re = Va * coeff\n",
    "\n",
    "C = []\n",
    "m = []\n",
    "\n",
    "for j in range(Va.size):\n",
    "    temp = Re[j]\n",
    "    if temp < 0.4:\n",
    "        temp1 = [0, 0] \n",
    "    if 0.4<=temp<= 4:\n",
    "        temp1 = [0.989, 0.330]\n",
    "    if 4<temp<= 40:\n",
    "        temp1 = [0.911, 0.385]\n",
    "    if 40<temp<= 4e3:\n",
    "        temp1 = [0.683, 0.466]\n",
    "    if 4e3<temp<= 4e4:\n",
    "        temp1 = [0.193, 0.618]\n",
    "    if 4e4<temp<= 4e5:\n",
    "        temp1 = [0.027, 0.805]\n",
    "    \n",
    "    C.append(temp1[0])\n",
    "    m.append(temp1[1])\n",
    "    \n",
    "\n",
    "plt.plot(time, m, 'r-')\n",
    "\n",
    "message = f\"m in 24 hours\"\n",
    "plt.title(message)\n",
    "plt.axis([0, 24, min(m) - min(m) * 0.1, max(m) + max(m) * 0.1])\n",
    "plt.xlabel('Time (hrs)')\n",
    "plt.ylabel('Parameter m (unit)')\n",
    "plt.savefig(savefigpath + 'm' + '.eps', format='eps', dpi=300,bbox_inches='tight')\n",
    "plt.show()  \n",
    "\n",
    "plt.plot(time, C, 'r-')\n",
    "\n",
    "message = f\"C in 24 hours\"\n",
    "plt.title(message)\n",
    "plt.axis([0, 24, min(C) - min(C) * 0.1, max(C) + max(C) * 0.1])\n",
    "plt.xlabel('Time (hrs)')\n",
    "plt.ylabel('Parameter C (unit)')\n",
    "plt.savefig(savefigpath + 'C' + '.eps', format='eps', dpi=300,bbox_inches='tight')\n",
    "plt.show()  \n",
    "\n",
    "\n",
    "## Add computation for Nu for h at each time\n",
    "\n",
    "Nu = C * Re ** m * Pr ** (1/3)\n",
    "\n",
    "\n",
    "plt.plot(time, Nu, 'r-')\n",
    "message = f\"Nusselt correlation in 24 hours\"\n",
    "plt.title(message)\n",
    "plt.axis([0, 24, Nu.min() - Nu.min() * 0.1, Nu.max() + Nu.max() * 0.1])\n",
    "plt.xlabel('Time (hrs)')\n",
    "plt.ylabel('Parameter Nu (unit)')\n",
    "#plt.savefig(savefigpath + 'Nu' + '.eps', format='eps', dpi=300,bbox_inches='tight')\n",
    "plt.show() \n",
    "\n",
    "# print(\"size of Nu, max of Nu, min of Nu, and mean of Nu\", Nu.size, Nu.max(), Nu.min(), Nu.mean())\n",
    "\n",
    "h = Nu * ka / (2 * radius)\n",
    "\n",
    "\n",
    "plt.plot(time, h, 'r-')\n",
    "message = f\"Heat transfer coefficient in 24 hours\"\n",
    "plt.title(message)\n",
    "plt.axis([0, 24, h.min() - h.min() * 0.1, h.max() + h.max() * 0.1])\n",
    "plt.xlabel('Time (hrs)')\n",
    "plt.ylabel('Heat convection coefficient h (unit)')\n",
    "plt.savefig(savefigpath + 'h' + '.eps', format='eps', dpi=300,bbox_inches='tight')\n",
    "plt.show() \n",
    "\n",
    "print(type(h), h.size, h.max(), h.min(), h.mean())"
   ]
  },
  {
   "cell_type": "markdown",
   "metadata": {},
   "source": [
    "Import tree temperature data from Oct 21. \n",
    "\n",
    "The Tree Data Spreadsheet (Tree_Temp_Values_OCT21_to_OCT28_2022.xlsx) has the following notation: \n",
    "\n",
    "DXX@YY where D = direction (N = North, S = South, E =East, W =West), XX = depth of the temperature sensor toward the tree core and YY= height of the temperature sensor. \n",
    "\n",
    "For example: S4.5cm@1m = sensor to the South 4.5 cm depth at 1 m height. \n",
    "\n",
    "Only the external sensor has a different notation, namely W_Ext_Temp@3.5m = to the West at 3.5 m height."
   ]
  },
  {
   "cell_type": "code",
   "execution_count": 8,
   "metadata": {},
   "outputs": [],
   "source": [
    "def make_temp_input(parameters):\n",
    "    n_t = parameters[\"n_t\"]\n",
    "    n_x = parameters[\"n_x\"]\n",
    "    radius = parameters[\"radius\"]\n",
    "    \n",
    "    colnames = ['datetime', 's45_1', 'e9_1', 'n135_1','e45_2', 'n9_2', 'w135_2', 'n45_3', 'w9_3','s135_3', 'w_ext_35']\n",
    "    dataTemp = pandas.read_excel('Tree_Temp_Values_OCT21_to_OCT28_2022.xlsx', names=colnames)\n",
    "\n",
    "    ##########\n",
    "    coreTemp = dataTemp.s135_3[2:416].tolist() # Oct 21 -- core temp is west, at 13.5cm, at 2m high\n",
    "    coreTempnp = np.asarray([float(t) for t in coreTemp])\n",
    "    coreTempnp = coreTempnp + 273.15\n",
    "    core_temp = np.interp(np.linspace(0,24,n_t), np.linspace(0,24,coreTempnp.size),coreTempnp)\n",
    "    ##########\n",
    "    \n",
    "    barkTemp = dataTemp.w_ext_35[2:416].tolist() # Oct 21 -- bark temp is West, at bark, at 3.5m high\n",
    "    barkTempnp = np.asarray([float(v) for v in barkTemp])\n",
    "    barkTempnp = barkTempnp + 273.15\n",
    "    bark_temp = np.interp(np.linspace(0,24,n_t), np.linspace(0,24,barkTempnp.size),barkTempnp)\n",
    "    \n",
    "    ##########\n",
    "    midTemp1 = dataTemp.w9_3[2:416].tolist() # Oct 21 -- West, at 9cm, at 3m high\n",
    "    midTemp1np = np.asarray([float(t) for t in midTemp1])\n",
    "    midTemp1np = midTemp1np + 273.15\n",
    "    mid_temp1 = np.interp(np.linspace(0,24,n_t), np.linspace(0,24,midTemp1np.size),midTemp1np)\n",
    "    ##########\n",
    "    \n",
    "    midTemp2 = dataTemp.n45_3[2:416].tolist() # Oct 21 -- North, at 4.5cm, at 3m high\n",
    "    midTemp2np = np.asarray([float(t) for t in midTemp2])\n",
    "    midTemp2np = midTemp2np + 273.15\n",
    "    mid_temp2 = np.interp(np.linspace(0,24,n_t), np.linspace(0,24,midTemp2np.size),midTemp2np)\n",
    "    ##########\n",
    "    \n",
    "    initTemp = np.array([core_temp[0], mid_temp1[0], mid_temp2[0], bark_temp[0]])\n",
    "    init_temp = np.interp(np.linspace(0,radius,n_x), np.linspace(0,radius,initTemp.size),initTemp)\n",
    "    ##########\n",
    "    \n",
    "    diff_temp = bark_temp - core_temp\n",
    "    \n",
    "    temp_input = {\"bark_temp\": bark_temp,\n",
    "                  \"core_temp\": core_temp,\n",
    "                  \"diff_temp\": diff_temp,\n",
    "                  \"init_temp\": init_temp}\n",
    "    \n",
    "    return temp_input    "
   ]
  },
  {
   "cell_type": "code",
   "execution_count": 12,
   "metadata": {},
   "outputs": [
    {
     "name": "stderr",
     "output_type": "stream",
     "text": [
      "The PostScript backend does not support transparency; partially transparent artists will be rendered opaque.\n",
      "The PostScript backend does not support transparency; partially transparent artists will be rendered opaque.\n",
      "The PostScript backend does not support transparency; partially transparent artists will be rendered opaque.\n",
      "The PostScript backend does not support transparency; partially transparent artists will be rendered opaque.\n"
     ]
    },
    {
     "data": {
      "image/png": "[encoded data removed]",
      "text/plain": [
       "<Figure size 432x288 with 1 Axes>"
      ]
     },
     "metadata": {
      "needs_background": "light"
     },
     "output_type": "display_data"
    }
   ],
   "source": [
    "temp_input = make_temp_input(parameters)\n",
    "\n",
    "\n",
    "bark_temp = temp_input[\"bark_temp\"]\n",
    "core_temp = temp_input[\"core_temp\"]\n",
    "diff_temp = temp_input[\"diff_temp\"]\n",
    "init_temp = temp_input[\"init_temp\"]\n",
    "\n",
    "space = np.linspace(0,radius,n_x)\n",
    "\n",
    "plt.plot(space, init_temp, 'r-', label='Interpolated initial condition')\n",
    "plt.legend(loc=\"upper left\")\n",
    "message = f\"Interpolated initial condition\"\n",
    "plt.title(message)\n",
    "plt.axis([0, radius, init_temp.min() - 1, init_temp.max() + 1])\n",
    "plt.xlabel('Radius (m)')\n",
    "plt.ylabel('Temperature (K)')\n",
    "plt.savefig(savefigpath + 'init_temp' + '.eps', format='eps', dpi=300,bbox_inches='tight')\n",
    "plt.show()\n",
    "\n",
    "# plt.plot(time, bark_temp, 'r-', label='bark')\n",
    "# plt.plot(time, core_temp, 'b-', label='core')\n",
    "# plt.legend(loc=\"upper left\")\n",
    "# message = f\"Measured bark and core temperature in 24 hours\"\n",
    "# plt.title(message)\n",
    "# plt.axis([0, 24, 294, 304])\n",
    "# plt.xlabel('Time (hrs)')\n",
    "# plt.ylabel('Temperature (K)')\n",
    "# plt.savefig(savefigpath + 'measured_temp' + '.eps', format='eps', dpi=300,bbox_inches='tight')\n",
    "# plt.show() \n",
    "\n",
    "# plt.plot(time, diff_temp, 'r-', label='Difference between bark and core')\n",
    "# plt.legend(loc=\"upper left\")\n",
    "# message = f\"Measured bark and core temperature difference in 24 hours\"\n",
    "# plt.title(message)\n",
    "# plt.axis([0, 24, -4.5, 4])\n",
    "# plt.xlabel('Time (hrs)')\n",
    "# plt.ylabel('Temperature (K)')\n",
    "# plt.savefig(savefigpath + 'measured_diff_temp' + '.eps', format='eps', dpi=300,bbox_inches='tight')\n",
    "# plt.show() \n",
    "\n",
    "# print(diff_temp.max(), diff_temp.min())\n",
    "\n",
    "################\n",
    "\n",
    "# plt.plot(time, diff_temp, 'r-', label='Difference between bark and core')\n",
    "# plt.legend(loc=\"upper left\")\n",
    "# message = f\"Measured bark and core temperature difference in 24 hours\"\n",
    "# plt.title(message)\n",
    "# plt.axis([0, 24, -4.5, 4])\n",
    "# plt.xlabel('Time (hrs)')\n",
    "# plt.ylabel('Temperature (K)')\n",
    "# plt.savefig(savefigpath + 'measured_diff_temp' + '.eps', format='eps', dpi=300,bbox_inches='tight')\n",
    "# plt.show()"
   ]
  },
  {
   "cell_type": "markdown",
   "metadata": {},
   "source": [
    "In the one dimensional model, we see that temperature distribution depends on time $t$ and distance from the center $r$. \n",
    "\n",
    "\\begin{equation}\n",
    "\\rho c\\frac{\\partial T}{\\partial t}=\\frac{1}{r}\\frac{\\partial}{\\partial r}\\bigg(kr\\frac{\\partial T}{\\partial r}\\bigg)+\\text{ source terms}\n",
    "=\\frac{\\partial k}{\\partial r}\\frac{\\partial T}{\\partial r}+\\frac{k}{r}\\frac{\\partial T}{\\partial r}+k\\frac{\\partial^2T}{\\partial r^2}+\\text{ source terms}.\\label{heat1d}\n",
    "\\end{equation}\n",
    "\n",
    "In the equation, $\\rho$ represents density of the tree trunk; $c$ is the specific heat, and $k$ the thermal conductivity. \n",
    "\n",
    "Let $T^n_{i} \\approx T(r_i,t_n)$ denote the numerical solution at the point $(r_i,t_n)$, $\\Delta t$ the time step, and $\\Delta r$ grid size. In this formulation, we have taken the thermal conductivity to be constant within the tree trunk. We denote the total source term to be $g_s(r,t)$, and use the source value $g_s(t)\\frac{1}{\\Delta r}$, because the sources are all surface energy fluxes, while the conduction terms apply to the model element volume. \n",
    "\n",
    "With second order central difference in space \n",
    "\\begin{equation}\\frac{\\partial T}{\\partial r}\\approx\\frac{T_{i+1}-T_{i-1}}{2\\Delta r}\\end{equation}\n",
    "\\begin{equation}\\frac{\\partial^2 T}{\\partial r^2}\\approx\\frac{T_{i-1}-2T_{i}+T_{i+1}}{(\\Delta r)^2}\\end{equation}\n",
    "and first order forward in time\n",
    "\\begin{equation}\\frac{\\partial T}{\\partial t}\\approx\\frac{T^1-T^0}{\\Delta t},\\end{equation}\n",
    "we obtain the Crank-Nicolson method by averaging the above spatial differences in time (no source):\n",
    "\\begin{align}\n",
    "&(T^{n+1}_i - T^n_i)/\\Delta t = 1/(4ar_i\\Delta r)(T^n_{i+1}-T^n_{i-1} + T^{n+1}_{i+1}-T^{n+1}_{i-1} )\\nonumber\\\\\n",
    "&+1/(2a(\\Delta r)^2)(T^n_{i-1} - 2T^n_i + T^n_{i+1} + T^{n+1}_{i-1} - 2T^{n+1}_i + T^{n+1}_{i+1}),\\ (1)\\label{1dCNscheme}\n",
    "\\end{align}\n",
    "where $a = \\frac{\\rho c}{k}$. With the source value, we obtain\n",
    "\n",
    "\\begin{align}\n",
    "&(T^{n+1}_i - T^n_i)/\\Delta t = 1/(4ar_i\\Delta r)(T^n_{i+1}-T^n_{i-1} + T^{n+1}_{i+1}-T^{n+1}_{i-1} )\\nonumber\\\\\n",
    "&+1/(2a(\\Delta r)^2)(T^n_{i-1} - 2T^n_i + T^n_{i+1} + T^{n+1}_{i-1} - 2T^{n+1}_i + T^{n+1}_{i+1})+\\frac{1}{2\\rho c\\Delta r}(g_s(r_i,t) + g_s(r_i,t+\\Delta t)),\\ (2)\\label{1dCNschemeSource}\n",
    "\\end{align}\n",
    "\n",
    "Separating terms from two time steps gives the following\n",
    "\\begin{equation}\n",
    "\\alpha_i T^1_{i-1} +(1+\\beta)T^1_i-\\gamma_iT^1_{i+1}=-\\alpha_i T^0_{i-1} +(1-\\beta)T^0_i+\\gamma_iT^0_{i+1}+\\frac{\\Delta t}{2\\rho c\\Delta r}(g_s(r_i,t) + g_s(r_i,t+\\Delta t)),\\ (3)\\end{equation}\n",
    "where $\\beta = \\frac{\\Delta t}{a(\\Delta r)^2}$, $\\alpha_i = \\frac{\\Delta t}{4ar_i\\Delta r}-\\frac{\\Delta t}{2a(\\Delta r)^2}$, and $\\gamma_i = \\frac{\\Delta t}{4ar_i\\Delta r}+\\frac{\\Delta t}{2a(\\Delta r)^2}$"
   ]
  },
  {
   "cell_type": "markdown",
   "metadata": {},
   "source": [
    "We implement two types of boundary conditions at the inner boundary:\n",
    "\n",
    "1. no-flux condition (Neumann)\n",
    "\\begin{equation}\n",
    "    \\frac{\\partial T}{\\partial r}\\bigg|_{r=0}=0,\n",
    "\\end{equation} \n",
    "\n",
    "for numerical simplicity (referenced in FireStem2D). Numerically, we use the second order central difference approximation $ \\frac{\\partial T}{\\partial r}\\bigg|_{r=0}\\approx \\frac{T_2-T_0}{2\\Delta r}=0$, and the above equation gives a representation for the ghost cell value $T_0$ in terms of $T_2$. \n",
    "\n",
    "2. we enforce experimental data measured at the center of the tree trunk (Dirichlet)\n",
    "\\begin{equation}\n",
    "    T(r=0, t)=g_0(t),\\ \\text{ where $g_0(t)$ is the measured data},\n",
    "\\end{equation} \n",
    "\n",
    "For the outer boundary, we implement three types of Dirichlet boundary condition:\n",
    "\n",
    "1. with experimental data measured at location\n",
    "\\begin{equation}\n",
    "    T(r=R, t)=g_1(t),\\ \\text{ measured data},\n",
    "\\end{equation} \n",
    "\n",
    "2. with experimental data measured at location, but approximated by the measured air temperature.\n",
    "\\begin{equation}\n",
    "    T(r=0, t)=T_{air}(t),\\ \\text{ approximate air temperature},\n",
    "\\end{equation} \n",
    "\n",
    "3. with simulated data generated with the steady state solution.\n",
    "\\begin{equation}\n",
    "    T(r=0, t)=T_{simulated}(t),\\ \\text{ simulated data},\n",
    "\\end{equation} \n",
    "\n",
    "The first row of the following matrix equation implements the inner boundary condtion, and the last row the outter boundary condition. The source term is also added to the last row. "
   ]
  },
  {
   "cell_type": "markdown",
   "metadata": {},
   "source": [
    "The following equations are similar to equation (9.9) in LeVeque's book on Finite Difference methods. Here the matrix is of size $(n_x -1)\\times (n_x -1)$, with $T[0]$ the core and $T[n_x]$ the bark temperature that we do not solve- these are either read from experimental data, or simulated from weather data and pre obtained parameters. Here the index satisfies $n_x-1=m$. (for example, when $n_x = 160$, $m=159$,we solve for temperature values indexed 1 to 159)\n",
    "\n",
    "If we apply Neumann condition at the center, and Dirichlet boundary condition at the tree bark:\n",
    "\n",
    "\\begin{equation*}\n",
    "    \\left( \\begin{array}{cccc}\n",
    "1+\\beta & -\\beta & & 0\\\\\n",
    "\\alpha_2 & 1+\\beta & -\\gamma_2 & \\\\\n",
    "\\ddots& \\ddots & \\ddots  & \\\\\n",
    "& \\alpha_{m-1} & 1+\\beta & -\\gamma_{m-1} \\\\\n",
    "0 & & \\alpha_m & 1+\\beta \\end{array} \\right)\\left(\\begin{array}{c}\n",
    "     T^1_1  \\\\\n",
    "     T^1_2 \\\\\n",
    "     \\vdots\\\\\n",
    "     T^1_{m-1}\\\\\n",
    "     T^1_m\n",
    "\\end{array}\\right)=\\left( \\begin{array}{cccc}\n",
    "1-\\beta & \\beta & & 0\\\\\n",
    "-\\alpha_2 & 1-\\beta & \\gamma_2 & \\\\\n",
    "\\ddots& \\ddots & \\ddots  & \\\\\n",
    "& -\\alpha_{m-1} & 1-\\beta & \\gamma_{m-1} \\\\\n",
    "0 & & -\\alpha_m & 1-\\beta \\end{array} \\right)\\left(\\begin{array}{c}\n",
    "     T^0_1  \\\\\n",
    "     T^0_2 \\\\\n",
    "     \\vdots\\\\\n",
    "     T^0_{m-1}\\\\\n",
    "     T^0_m\n",
    "\\end{array}\\right)+\\left(\\begin{array}{c}\n",
    "     0  \\\\\n",
    "     0 \\\\\n",
    "     \\vdots\\\\\n",
    "     0\\\\\n",
    "     \\gamma_m(g_1(t)+g_1(t+\\Delta t))+\\frac{\\Delta t}{2\\rho c\\Delta r}(g_s(t)+g_s(t+\\Delta t))\n",
    "\\end{array}\\right).\n",
    "\\end{equation*}\n",
    "\n",
    "\n",
    "Notice that the first row of the matrix represents the inner boundary condition: we first approximate $\\partial T/\\partial r \\approx (T_2-T_0)/(2\\Delta r)=0$, then the relation involving $T_1$ and $T_2$ is derived from equation (2) using $T_0 = T_2$. \n",
    "\n",
    "The last row of the matrix represents the outer boundary condition: $T(r = R, t) = g_1(t)$, and equation (2) implies\n",
    "\\begin{equation}\n",
    "\\alpha_m T^1_{m-1}+(1+\\beta)T^1_m-\\gamma_mg_1(t+\\Delta t)=-\\alpha_m T^0_{m-1}+(1-\\beta)T^0_m+\\gamma_mg_1(t)\n",
    "\\end{equation}\n",
    "when we replace the ghost cell $T(r = R+\\Delta r, t) \\approx T^0_{m+1}$ by $g_1(t)$, and this becomes \n",
    "\\begin{equation}\n",
    "\\alpha_m T^1_{m-1}+(1+\\beta)T^1_m=-\\alpha_m T^0_{m-1}+(1-\\beta)T^0_m+\\gamma_m(g_1(t) +g_1(t+\\Delta t))\n",
    "\\end{equation}"
   ]
  },
  {
   "cell_type": "markdown",
   "metadata": {},
   "source": [
    "Similarly, if we apply Dirichlet boundary condition at both the center and the tree bark,\n",
    "\n",
    "\\begin{equation*}\n",
    "    \\left( \\begin{array}{cccc}\n",
    "1+\\beta & -\\gamma_1 & & 0\\\\\n",
    "\\alpha_2 & 1+\\beta & -\\gamma_2 & \\\\\n",
    "\\ddots& \\ddots & \\ddots  & \\\\\n",
    "& \\alpha_{m-1} & 1+\\beta & -\\gamma_{m-1} \\\\\n",
    "0 & & \\alpha_m & 1+\\beta \\end{array} \\right)\\left(\\begin{array}{c}\n",
    "     T^1_1  \\\\\n",
    "     T^1_2 \\\\\n",
    "     \\vdots\\\\\n",
    "     T^1_{m-1}\\\\\n",
    "     T^1_m\n",
    "\\end{array}\\right)=\\left( \\begin{array}{cccc}\n",
    "1-\\beta & \\gamma_1 & & 0\\\\\n",
    "-\\alpha_2 & 1-\\beta & \\gamma_2 & \\\\\n",
    "\\ddots& \\ddots & \\ddots  & \\\\\n",
    "& -\\alpha_{m-1} & 1-\\beta & \\gamma_{m-1} \\\\\n",
    "0 & & -\\alpha_m & 1-\\beta \\end{array} \\right)\\left(\\begin{array}{c}\n",
    "     T^0_1  \\\\\n",
    "     T^0_2 \\\\\n",
    "     \\vdots\\\\\n",
    "     T^0_{m-1}\\\\\n",
    "     T^0_m\n",
    "\\end{array}\\right)+\\left(\\begin{array}{c}\n",
    "     -\\alpha_1(g_0(t)+g_0(t+\\Delta t))  \\\\\n",
    "     0 \\\\\n",
    "     \\vdots\\\\\n",
    "     0\\\\\n",
    "     \\gamma_m(g_1(t)+g_1(t+\\Delta t))+\\frac{\\Delta t}{2\\rho c\\Delta r}(g_s(t)+g_s(t+\\Delta t))\n",
    "\\end{array}\\right).\n",
    "\\end{equation*}\n",
    "\n",
    "Define the right hand side vectors for Neumann and Dirichlet conditions. Consider the system $AT^1 = BT^0 + v$, first row of $v$ would be 0 if Neumann at the core; and $-\\alpha_1(T^1_0+T^0_0)$ if Dirichlet at core. Since both formulation uses Dirichlet outter boundary condition, and source terms are also at the bark, the last row in both cases is $\\gamma_m(T^1_{m+1}+T^0_{m+1})+\\frac{\\Delta t}{2\\rho c}(f_s(R,t)+f_s(R,t + \\Delta t))$."
   ]
  },
  {
   "cell_type": "code",
   "execution_count": 10,
   "metadata": {},
   "outputs": [
    {
     "data": {
      "image/png": "[encoded data removed]",
      "text/plain": [
       "<Figure size 432x288 with 1 Axes>"
      ]
     },
     "metadata": {
      "needs_background": "light"
     },
     "output_type": "display_data"
    }
   ],
   "source": [
    "# Make source terms based on Potter and Andresen\n",
    "sigma = 5.67e-8\n",
    "albedo = parameters[\"albedo\"]\n",
    "sourceTerm = (1 - albedo) * qrads + sigma * (T_air**4 - bark_temp**4) + h * (bark_temp - T_air)\n",
    "\n",
    "plt.plot(time, sourceTerm, 'b-', label='2022 source term')\n",
    "# plt.plot(time, sourceTerm1, 'r-', label='2021 source term')\n",
    "plt.legend(loc=\"upper left\")\n",
    "message = f\"Source term computed with 2022 data\"\n",
    "plt.title(message)\n",
    "plt.axis([0, 24, sourceTerm.min()-1, sourceTerm.max()+1])\n",
    "plt.xlabel('Time (hrs)')\n",
    "plt.ylabel('source term unit')\n",
    "plt.show() \n"
   ]
  },
  {
   "cell_type": "code",
   "execution_count": 11,
   "metadata": {},
   "outputs": [
    {
     "ename": "SyntaxError",
     "evalue": "invalid syntax (<ipython-input-11-4d37c50b22b2>, line 27)",
     "output_type": "error",
     "traceback": [
      "\u001b[0;36m  File \u001b[0;32m\"<ipython-input-11-4d37c50b22b2>\"\u001b[0;36m, line \u001b[0;32m27\u001b[0m\n\u001b[0;31m    coeffSource = dt / (2 * heat_capacity) * dr)\u001b[0m\n\u001b[0m                                               ^\u001b[0m\n\u001b[0;31mSyntaxError\u001b[0m\u001b[0;31m:\u001b[0m invalid syntax\n"
     ]
    }
   ],
   "source": [
    "# matrix needs to be made so that it is of size n_x - 1 by n_x - 1. m = n_x - 1\n",
    "\n",
    "def time_stepping(parameters, bdry_type):\n",
    "    \n",
    "    sigma = 5.67e-8\n",
    "    \n",
    "    Kt = parameters[\"thermal_conductivity\"]\n",
    "    albedo = parameters[\"albedo\"]\n",
    "    n_x = parameters[\"n_x\"]\n",
    "    n_t = parameters[\"n_t\"]\n",
    "    radius = parameters[\"radius\"]\n",
    "    rho = parameters[\"rho\"]\n",
    "    specific_heat = parameters[\"specific_heat\"]\n",
    "    \n",
    "    ### make utilities\n",
    "    time = np.linspace(0, 24, n_t, endpoint = False)\n",
    "    dt = time[1] - time[0]\n",
    "    # Boundary conditions at trunk[0] and trunk[n_x]; Temperature[j] at trunk[j]; in matrix, only index from 1 to n_x-1 (labeled m)\n",
    "    trunk = np.linspace(0, radius, n_x + 1)   \n",
    "    dr = radius / n_x\n",
    "    #dr = trunk[1] - trunk[0]\n",
    "    \n",
    "    heat_capacity = rho * specific_heat\n",
    "    \n",
    "    a = heat_capacity / Kt\n",
    "    beta = dt / (a * dr ** 2)\n",
    "    coeffSource = dt / (2 * heat_capacity) * dr)\n",
    "    \n",
    "    # import measured temperature data\n",
    "    temp_input = make_temp_input(parameters)\n",
    "    core_temp = temp_input[\"core_temp\"]\n",
    "    bark_temp = temp_input[\"bark_temp\"]\n",
    "    init_temp = temp_input[\"init_temp\"]\n",
    "    \n",
    "    # import weather condition\n",
    "    weather_input = make_weather_input(parameters)\n",
    "    air_temp = weather_input[\"air_temp\"]\n",
    "    windspeed = weather_input[\"windspeed\"]\n",
    "    solar = weather_input[\"solar\"]\n",
    "    \n",
    "    convect = h * (bark_temp - air_temp)\n",
    "#     print(h,convect)\n",
    "    \n",
    "    \"\"\"\n",
    "    compute source terms and then sum\n",
    "    solar radiation = (1-albedo) * solar\n",
    "    blackbody/long radiation = sigma * (Tair^4 - Tsfc^4)\n",
    "    convection = h * (Tsfc - Tair)\n",
    "    \"\"\"\n",
    "    # convect might change based on experimental data to reflect h * (Tsfc - Tair)\n",
    "\n",
    "    sourceTerm = (1 - albedo) * solar + sigma * (air_temp**4 - bark_temp**4) + convect # \n",
    "    \n",
    "    T0 = init_temp # initialize temperature with measured initial condition\n",
    "\n",
    "    \n",
    "    alpha = np.linspace(1, n_x - 1, n_x - 1)# index from 0 to n_x - 2; cor. to points at 1 to n_x - 1\n",
    "    for j in range(alpha.size):\n",
    "        alpha[j] = dt / (4 * a * trunk[j + 2] * dr) - 0.5 * beta\n",
    "    \n",
    "    gamma = np.linspace(1, n_x - 1, n_x - 1)\n",
    "    for j in range(gamma.size):\n",
    "        gamma[j] = dt / (4 * a * trunk[j + 1] * dr) + 0.5 * beta\n",
    "    \n",
    "    # for the right hand side vector- alpha1 if Dirichlet at center; gammam is used for Dirichlet at the bark\n",
    "    \n",
    "    alpha1 = dt / (4 * a * trunk[1] * dr) - 0.5 * beta\n",
    "    gammam = dt / (4 * a * trunk[-1] * dr) + 0.5 * beta\n",
    "    \n",
    "    # system of Ax_{n+1} = Bx_{n} + v    \n",
    "    \n",
    "    if bdry_type == \"neumann\":\n",
    "        gamma[0] = beta  # define inner neumann bdry condition 1st row\n",
    "        \n",
    "   \n",
    "    elif bdry_type == \"dirichlet\": \n",
    "        gamma[0] = dt / (4 * a * trunk[1] * dr) + 0.5 * beta\n",
    "\n",
    "#     print(bdry_type, gamma[0])\n",
    "    A = sparse.diags([alpha, np.ones(n_x) + beta, -gamma], [-1, 0, 1], shape=(n_x, n_x)).toarray()\n",
    "    B = sparse.diags([-alpha, np.ones(n_x) - beta, gamma], [-1, 0, 1], shape=(n_x, n_x)).toarray()\n",
    "    \n",
    "    T1 = np.zeros((n_x,1))\n",
    "    \n",
    "    # soln to include initial temperature\n",
    "    soln = [T0]\n",
    "    \n",
    "    ## time stepping: step1 compute B * T0; step2 rhs = B * T0 + v; step2 solve for T1 with T1 = A^-1 * rhs\n",
    "    for time in range(n_t - 1):\n",
    "        rhs = B.dot(T0)\n",
    "        # with measured bark temperature\n",
    "        rhs[-1] = rhs[-1] + gammam * (bark_temp[time] + bark_temp[time + 1]) + coeffSource * (sourceTerm[time] + sourceTerm[time + 1])\n",
    "        # with measured air temperature\n",
    "#         rhs[-1] = rhs[-1] + gammam * (air_temp[time] + air_temp[time + 1]) + coeffSource * (sourceTerm[time] + sourceTerm[time + 1])\n",
    "        if bdry_type == \"dirichlet\": \n",
    "            rhs[0] = rhs[0] - alpha1 * (core_temp[time] + core_temp[time + 1])\n",
    "        \n",
    "        T1 = np.linalg.solve(A, rhs) \n",
    "        T0 = T1\n",
    "        \n",
    "        soln.append(T0) # start saving the solutions from time step 1 \n",
    "    \n",
    "    step_in_time = {\"A\": A,\n",
    "                     \"B\": B,\n",
    "                     \"beta\": beta,\n",
    "                     \"alpha\": alpha,\n",
    "                     \"gamma\": gamma,\n",
    "                     \"sourceTerm\": sourceTerm,\n",
    "                     \"solution\": soln}\n",
    "    \n",
    "    return step_in_time  \n",
    "    "
   ]
  },
  {
   "cell_type": "code",
   "execution_count": null,
   "metadata": {
    "scrolled": true
   },
   "outputs": [],
   "source": [
    "# test for different boundary conditions-- use Neumann condition to compute core temperature\n",
    "\n",
    "step_neumann = time_stepping(parameters, bdry_type = \"neumann\")\n",
    "\n",
    "solutionN = step_neumann[\"solution\"]\n",
    "\n",
    "solutionArrayN = np.asarray(solutionN)\n",
    "print(solutionArrayN.shape)\n",
    "\n",
    "step_dirichlet = time_stepping(parameters, bdry_type = \"dirichlet\")\n",
    "\n",
    "solutionD = step_dirichlet[\"solution\"]\n",
    "\n",
    "solutionArrayD = np.asarray(solutionD)\n",
    "print(solutionArrayD.shape)\n",
    "\n",
    "plt.plot(time, solutionArrayN[:,0], 'b-', label='Computed core with Neumann')\n",
    "plt.plot(time, solutionArrayD[:,0], 'r-', label='Computed core with Dirichlet')\n",
    "plt.plot(time, solutionArrayN[:,-1], 'g-', label='Computed bark with Neumann')\n",
    "plt.plot(time, solutionArrayD[:,-1], 'k-', label='Computed bark with Dirichlet')\n",
    "# plt.plot(time, solutionArrayN[:,79], 'c-', label='Computed middle with Neumann')\n",
    "# plt.plot(time, solutionArrayD[:,79], 'm-', label='Computed middle with Dirichlet')\n",
    "plt.legend(loc=\"upper left\")\n",
    "message = f\"Computed bark and core temperature with \\n different types of boundary condition at the core\"\n",
    "plt.title(message)\n",
    "plt.axis([0, 24, 294, 304])\n",
    "plt.xlabel('Time (hrs)')\n",
    "plt.ylabel('Temperature (K)')\n",
    "plt.savefig(savefigpath + 'computed_temp_compare'+ airbdryFlag + '.eps', format='eps', dpi=300,bbox_inches='tight')\n",
    "plt.show() \n",
    "\n",
    "boundary_type = parameters[\"boundary_type\"]\n",
    "\n",
    "if boundary_type == \"Dirichlet\":\n",
    "    solutionArray = solutionArrayD\n",
    "if boundary_type == \"Neumann\":\n",
    "    solutionArray = solutionArrayN   \n",
    "    \n",
    "\n",
    "plt.plot(time, solutionArray[:,0], 'b-', label='Computed core')\n",
    "plt.plot(time, solutionArray[:,-1], 'r-', label='Computed bark')\n",
    "# plt.plot(time, solutionArrayN[:,79], 'b-', label='Computed middle')\n",
    "plt.legend(loc=\"upper left\")\n",
    "message = f\"Computed bark and core temperature in 24 hours\"\n",
    "plt.title(message)\n",
    "plt.axis([0, 24, 294, 304])\n",
    "plt.xlabel('Time (hrs)')\n",
    "plt.ylabel('Temperature (K)')\n",
    "\n",
    "plt.savefig(savefigpath + 'computed_temp' + airbdryFlag + '.eps', format='eps', dpi=300,bbox_inches='tight')\n",
    "\n",
    "plt.show() \n",
    "\n",
    "plt.plot(time, solutionArray[:,-1] - solutionArray[:,0], 'b-', label='Computed difference')\n",
    "plt.plot(time, bark_temp - core_temp, 'r-', label='Measured difference')\n",
    "plt.legend(loc=\"upper left\")\n",
    "message = f\"Computed and measured bark and core temperature difference in 24 hours\"\n",
    "plt.title(message)\n",
    "plt.axis([0, 24, -4, 4])\n",
    "plt.xlabel('Time (hrs)')\n",
    "plt.ylabel('Temperature (K)')\n",
    "plt.savefig(savefigpath + 'computed_temp_diff'+ airbdryFlag + '.eps', format='eps', dpi=300,bbox_inches='tight')\n",
    "\n",
    "plt.show() \n"
   ]
  },
  {
   "cell_type": "code",
   "execution_count": null,
   "metadata": {},
   "outputs": [],
   "source": [
    "plt.plot(time, solutionArray[:,0], 'b-', label='Computed core')\n",
    "plt.plot(time, core_temp, 'r-', label='Measured core')\n",
    "plt.legend(loc=\"upper left\")\n",
    "message = f\"Computed vs Measured core temperature in 24 hours\"\n",
    "plt.title(message)\n",
    "plt.axis([0, 24, 294, 304])\n",
    "plt.xlabel('Time (hrs)')\n",
    "plt.ylabel('Temperature (K)')\n",
    "plt.savefig(savefigpath + 'compare_core_temp'+ airbdryFlag + '.eps', format='eps', dpi=300,bbox_inches='tight')\n",
    "\n",
    "plt.show() "
   ]
  },
  {
   "cell_type": "code",
   "execution_count": null,
   "metadata": {
    "scrolled": true
   },
   "outputs": [],
   "source": [
    "plt.plot(time, solutionArray[:,-1], 'b-', label='Computed bark')\n",
    "plt.plot(time, bark_temp, 'r-', label='Measured bark')\n",
    "plt.legend(loc=\"upper left\")\n",
    "message = f\"Computed vs Measured bark temperature in 24 hours\"\n",
    "plt.title(message)\n",
    "plt.axis([0, 24, 294, 304])\n",
    "plt.xlabel('Time (hrs)')\n",
    "plt.ylabel('Temperature (K)')\n",
    "plt.savefig(savefigpath + 'compare_bark_temp' + airbdryFlag + '.eps', format='eps', dpi=300,bbox_inches='tight')\n",
    "\n",
    "plt.show()\n",
    "\n",
    "print(solutionArray[:,-1].max(), solutionArray[:,-1].min(), bark_temp.max(), bark_temp.min())"
   ]
  },
  {
   "cell_type": "code",
   "execution_count": null,
   "metadata": {},
   "outputs": [],
   "source": [
    "error_bark = (solutionArray[:,-1] - bark_temp)/bark_temp\n",
    "error_core = (solutionArray[:,0] - core_temp)/core_temp\n",
    "\n",
    "####### compute relative error of temperature difference\n",
    "# error_diff = (solutionArray[:,-1] - solutionArray[:,0])/(bark_temp - core_temp)\n",
    "# print(error_diff.max(), error_diff.min())\n",
    "\n",
    "\n",
    "plt.plot(time, error_bark, 'r-', label='Error in bark')\n",
    "plt.plot(time, error_core, 'b-', label='Error in core')\n",
    "# plt.plot(time, error_diff, 'k-', label='Error in difference')\n",
    "\n",
    "plt.legend(loc=\"upper left\")\n",
    "message = f\"Relative error of bark and core temperature in 24 hours\"\n",
    "plt.title(message)\n",
    "plt.axis([0, 24, -0.015, 0.015])\n",
    "plt.xlabel('Time (hrs)')\n",
    "plt.ylabel('Temperature (K)')\n",
    "plt.savefig(savefigpath + 'compare_error_temp' + airbdryFlag + '.eps', format='eps', dpi=300,bbox_inches='tight')\n",
    "\n",
    "plt.show() \n",
    "\n",
    "print(error_bark.max(), error_bark.min(), error_core.max(), error_core.min())"
   ]
  },
  {
   "cell_type": "code",
   "execution_count": null,
   "metadata": {},
   "outputs": [],
   "source": [
    "# # Plot measured air and bark temperature\n",
    "\n",
    "# plt.plot(time, T_air, 'b-', label='Measured air ')\n",
    "# plt.plot(time, bark_temp, 'r-', label='Measured bark')\n",
    "# plt.legend(loc=\"lower right\")\n",
    "# message = f\"Measured air and bark temperature in 24 hours\"\n",
    "# plt.title(message)\n",
    "# plt.axis([0, 24, 294, 304])\n",
    "# plt.xlabel('Time (hrs)')\n",
    "# plt.ylabel('Temperature (K)')\n",
    "# #plt.savefig(savefigpath + 'compare_measured_bark_air_temp' + '.eps', format='eps', dpi=300,bbox_inches='tight')\n",
    "# plt.show()"
   ]
  },
  {
   "cell_type": "code",
   "execution_count": null,
   "metadata": {},
   "outputs": [],
   "source": [
    "# Plot measured temperature difference and computed temperature difference\n",
    "\n",
    "plt.plot(time, bark_temp - core_temp, 'b-', label='Measured difference')\n",
    "plt.plot(time, solutionArray[:,-1] - solutionArray[:,0], 'r-', label='Computed difference')\n",
    "plt.legend(loc=\"upper left\")\n",
    "message = f\"Measured vs. computed temperature difference in 24 hours\"\n",
    "plt.title(message)\n",
    "plt.axis([0, 24, -4, 4])\n",
    "plt.xlabel('Time (hrs)')\n",
    "plt.ylabel('Temperature (K)')\n",
    "plt.savefig(savefigpath + 'compare_diff_temp' + airbdryFlag + '.eps', format='eps', dpi=300,bbox_inches='tight')\n",
    "plt.show()"
   ]
  },
  {
   "cell_type": "markdown",
   "metadata": {},
   "source": [
    "### Compute the voltage generated by the temperature difference."
   ]
  },
  {
   "cell_type": "code",
   "execution_count": null,
   "metadata": {},
   "outputs": [],
   "source": [
    "\"\"\"\n",
    "convert temperature difference (core minus bark) to voltage\n",
    "\n",
    "How to calculate the current (E) using the temperature difference. We will be \n",
    "using the Seebeck effect, so the calculation is super simple. E=-S*DeltaT. S \n",
    "is the Seebeck coefficient for wood, but the experimental project team already \n",
    "found this for us. So S=-0.259 mV/K if the outside temperature is colder than \n",
    "the tree (like night), and S=0.207 mV/K if the outside temperature is warmer \n",
    "than the tree [Cite Orlando Paper]. The DeltaT will be the difference between \n",
    "the core temperature and the bark temperature (in either C or K). The current \n",
    "you calculate E, will be in mV, and we should have a different value of E for \n",
    "each point in time we do the calculation for. \n",
    "\n",
    "Protasio Seebeck coeff: 120e-6K/V # 48mV/K (material: bismuth telluride, for a semi conductor), \n",
    "no switch of sign\n",
    "\n",
    "TEG model: SP1848-27145 TEG Peltier Module Thermoelectric Power Generator \n",
    "\n",
    "run voltage\n",
    "\n",
    "\"\"\"\n",
    "s = 48 # mV/K\n",
    "\n",
    "E = np.zeros((n_t,1))\n",
    "\n",
    "diff_at = parameters[\"diff_at\"]\n",
    "TempDiff = np.abs(solutionArray[:, diff_at[0]] - solutionArray[:, diff_at[-1]])\n",
    "\n",
    "weather = make_weather_input(parameters)\n",
    "airTemp = weather[\"air_temp\"]\n",
    "\n",
    "E = s * TempDiff\n",
    "\n",
    "print(\"Max and min temperature difference are \", TempDiff.max(), TempDiff.min(), \"at time\", np.argmax(TempDiff), np.argmin(TempDiff))\n",
    "print(\"Max and min current are \", E.max(), E.min(), \"at time\", np.argmax(E), np.argmin(E))   \n",
    "\n",
    "t = np.linspace(0, 24, E.size, endpoint=False) \n",
    "\n",
    "plt.plot(t, E, '.r-')\n",
    "message = f\"Current generated at {diff_at}\"\n",
    "plt.title(message)\n",
    "plt.axis([0,24,-50,250])\n",
    "plt.xlabel('Time (hrs)')\n",
    "plt.ylabel('Voltage (mV)')\n",
    "plt.savefig(savefigpath + airbdryFlag + str(diff_at[0]) +str(diff_at[1]) + '.eps', format='eps', dpi=300,bbox_inches='tight')\n",
    "plt.show()    \n"
   ]
  },
  {
   "cell_type": "markdown",
   "metadata": {},
   "source": [
    "In the following, we consider the boundary condition from heat conduction, convection, as well as radiation. The temperature is computed with the assumption that there is a energy steady state at the tree bark, where the incoming conduction energy balances with the outgoing convection and radiation energy."
   ]
  },
  {
   "cell_type": "markdown",
   "metadata": {},
   "source": [
    "### Use measured mid trunk temperature (in different direction and height) as bench mark to compare with computed mid trunk temperature "
   ]
  },
  {
   "cell_type": "code",
   "execution_count": null,
   "metadata": {},
   "outputs": [],
   "source": [
    "def make_mid_temp(parameters):\n",
    "    n_t = parameters[\"n_t\"]\n",
    "    colnames = ['datetime', 's45_1', 'e9_1', 'n135_1','e45_2', 'n9_2', 'w135_2', 'n45_3', 'w9_3','s135_3', 'w_ext_35']\n",
    "    \n",
    "    dataTemp = pandas.read_excel('Tree_Temp_Values_OCT21_to_OCT28_2022.xlsx', names=colnames)\n",
    "\n",
    "    s45_1Temp = dataTemp.s45_1[2:416].tolist() # Oct 21 -- \n",
    "    s45_1Tempnp = np.asarray([float(t) for t in s45_1Temp])\n",
    "    \n",
    "    s45_1Tempnp = s45_1Tempnp + 273.15\n",
    "\n",
    "    w135_2Temp = dataTemp.w135_2[2:416].tolist() # Oct 21 -- \n",
    "    w135_2Tempnp = np.asarray([float(v) for v in w135_2Temp])\n",
    "    \n",
    "    w135_2Tempnp = w135_2Tempnp + 273.15\n",
    "    \n",
    "    s45_1_temp = np.interp(np.linspace(0,24,n_t), np.linspace(0,24,s45_1Tempnp.size),s45_1Tempnp)\n",
    "    w135_2_temp = np.interp(np.linspace(0,24,n_t), np.linspace(0,24,w135_2Tempnp.size),w135_2Tempnp)\n",
    "    \n",
    "    mid_temp_input = {\"s45_1_temp\": s45_1_temp,\n",
    "                  \"w135_2_temp\": w135_2_temp}\n",
    "    \n",
    "    return mid_temp_input  "
   ]
  },
  {
   "cell_type": "code",
   "execution_count": null,
   "metadata": {},
   "outputs": [],
   "source": [
    "mid_temp = make_mid_temp(parameters)\n",
    "\n",
    "\n",
    "s45_1_temp = mid_temp[\"s45_1_temp\"]\n",
    "w135_2_temp = mid_temp[\"w135_2_temp\"]\n",
    "\n",
    "plt.plot(time, s45_1_temp, 'r-', label='measured at depth 4.5cm height 1m')\n",
    "plt.plot(time, solutionArray[:,50], 'b-', label='computed at depth 4.5cm')\n",
    "plt.legend(loc=\"upper left\")\n",
    "message = f\"Measured and computed mid trunk temperature in 24 hours\"\n",
    "plt.title(message)\n",
    "plt.axis([0, 24, 294, 304])\n",
    "plt.xlabel('Time (hrs)')\n",
    "plt.ylabel('Temperature (K)')\n",
    "# plt.savefig(savefigpath + 'measured_mid_temp' + airbdryFlag +'.eps', format='eps', dpi=300,bbox_inches='tight')\n",
    "plt.show() "
   ]
  },
  {
   "cell_type": "code",
   "execution_count": null,
   "metadata": {},
   "outputs": [],
   "source": [
    "print(solutionArray.shape)\n",
    "print(time.shape)\n",
    "print(n_x)"
   ]
  },
  {
   "cell_type": "code",
   "execution_count": null,
   "metadata": {},
   "outputs": [],
   "source": [
    "# from matplotlib import pyplot as plt\n",
    "# from mpl_toolkits.mplot3d import Axes3D # matplotlib version 3.1.0\n",
    "\n",
    "# timelist = time.tolist()\n",
    "\n",
    "# fig = plt.figure()\n",
    "# ax = fig.add_subplot(111, projection='3d')\n",
    "\n",
    "# X, Y = np.meshgrid(space, time)\n",
    "# solnFig = solutionArray[time, :]\n",
    "# #    zs = np.array([solnFig for r, timelist in zip(np.ravel(X), np.ravel(Y))])\n",
    "# Z = solnFig.reshape(X.shape)\n",
    "\n",
    "# ax.plot_wireframe(X, Y, Z, rstride=1, cstride=1)\n",
    "\n",
    "# ax.set_xlabel('Radius grid')\n",
    "# ax.set_ylabel('Time step')\n",
    "# ax.set_zlabel('Temperature (K)')\n",
    "\n",
    "# ax.set_title('Temperature distribution')\n",
    "# #    plt.savefig('/home/yajun/Documents/treePower/figs/' + 'Stemp' + str(at_point) + '.eps', format='eps', dpi=300,bbox_inches='tight')\n",
    "# plt.show()"
   ]
  },
  {
   "cell_type": "code",
   "execution_count": null,
   "metadata": {},
   "outputs": [],
   "source": [
    "# Print for each time step j, plot all temperature\n",
    "space = np.linspace(0, 0.135, n_x, endpoint = False)\n",
    "for j in range(0, n_t, 10):\n",
    "    plt.close()\n",
    "    plt.plot(space, solutionArray[j,:], 'b-', label='temp')\n",
    "    plt.legend(loc=\"upper left\")\n",
    "    plt.axis([0, 0.135, 294, 304])\n",
    "    plt.xlabel('Space (m)')\n",
    "    plt.ylabel('Temperature (K)')\n",
    "#     plt.savefig(savefigpath + 'measured_mid_temp' + airbdryFlag +'.eps', format='eps', dpi=300,bbox_inches='tight')\n",
    "    plt.show() \n",
    "    "
   ]
  },
  {
   "cell_type": "code",
   "execution_count": null,
   "metadata": {},
   "outputs": [],
   "source": [
    "# Print for each grid point n, plot temperature throughout the day\n",
    "for n in range(0, n_x, 8):\n",
    "    plt.close()\n",
    "    plt.plot(time, solutionArray[:,n], 'b-', label='temp')\n",
    "    plt.legend(loc=\"upper left\")\n",
    "    plt.axis([0, 24, 294, 304])\n",
    "    plt.xlabel('Time (hr)')\n",
    "    plt.ylabel('Temperature (K)')\n",
    "#     plt.savefig(savefigpath + 'measured_mid_temp' + airbdryFlag +'.eps', format='eps', dpi=300,bbox_inches='tight')\n",
    "    plt.show() "
   ]
  },
  {
   "cell_type": "code",
   "execution_count": null,
   "metadata": {},
   "outputs": [],
   "source": [
    "# ## test with cartesian implementation with LeVeque's method on page 183 of FDM textbook.\n",
    "# # A*U^(n+1) = rhs\n",
    "# # goal is to observe interior temp variation \n",
    "# # Define matrix \n",
    "\n",
    "# h = dr \n",
    "# k = dt\n",
    "# r = k/h**2 * parameters[\"thermal_conductivity\"]/(parameters[\"rho\"] * parameters[\"specific_heat\"])\n",
    "\n",
    "# A = sparse.diags([-r, np.ones(n_x) + 2 * r, -r], [-1, 0, 1], shape=(n_x, n_x)).toarray()\n",
    "# B = sparse.diags([r, np.ones(n_x) - 2 * r, r], [-1, 0, 1], shape=(n_x, n_x)).toarray()\n",
    "\n",
    "# U0 = np.linspace(core_temp[0], bark_temp[0], n_x)\n",
    "# cartesianSolution = [U0]\n",
    "\n",
    "# for time in range(n_t - 1):\n",
    "#     rhs = B.dot(U0)\n",
    "#     rhs[0] = rhs[0] - k/2 * (core_temp[time] + core_temp[time + 1])\n",
    "#     rhs[-1] = rhs[-1] + k/2 * (bark_temp[time] + bark_temp[time + 1]) + (sourceTerm[time] + sourceTerm[time + 1])\n",
    "#     U1 = np.linalg.solve(A,rhs)\n",
    "#     U0 = U1\n",
    "#     cartesianSolution.append(U0)\n",
    "        \n",
    "# cartesianSolutionArray = np.array(cartesianSolution)\n",
    "# print(cartesianSolutionArray.shape)\n",
    "    "
   ]
  },
  {
   "cell_type": "code",
   "execution_count": null,
   "metadata": {},
   "outputs": [],
   "source": [
    "# visualize\n",
    "# for j in range(0, n_t, 50):\n",
    "#     plt.close()\n",
    "#     plt.plot(space, cartesianSolutionArray[j,:], 'b-', label='temp')\n",
    "#     plt.legend(loc=\"upper left\")\n",
    "#     plt.axis([0, 0.18, 294, 304])\n",
    "#     plt.xlabel('Space (m)')\n",
    "#     plt.ylabel('Temperature (K)')\n",
    "# #     plt.savefig(savefigpath + 'measured_mid_temp' + airbdryFlag +'.eps', format='eps', dpi=300,bbox_inches='tight')\n",
    "#     plt.show() "
   ]
  },
  {
   "cell_type": "code",
   "execution_count": null,
   "metadata": {},
   "outputs": [],
   "source": [
    "# time = np.linspace(0, 24, n_t, endpoint = False)\n",
    "# for n in range(0, n_x, 8):\n",
    "#     plt.close()\n",
    "#     plt.plot(time, cartesianSolutionArray[:,n], 'b-', label='temp')\n",
    "#     plt.legend(loc=\"upper left\")\n",
    "#     plt.axis([0, 24, 294, 304])\n",
    "#     plt.xlabel('Time (hr)')\n",
    "#     plt.ylabel('Temperature (K)')\n",
    "# #     plt.savefig(savefigpath + 'measured_mid_temp' + airbdryFlag +'.eps', format='eps', dpi=300,bbox_inches='tight')\n",
    "#     plt.show() "
   ]
  }
 ],
 "metadata": {
  "kernelspec": {
   "display_name": "Python 3",
   "language": "python",
   "name": "python3"
  },
  "language_info": {
   "codemirror_mode": {
    "name": "ipython",
    "version": 3
   },
   "file_extension": ".py",
   "mimetype": "text/x-python",
   "name": "python",
   "nbconvert_exporter": "python",
   "pygments_lexer": "ipython3",
   "version": "3.7.4"
  }
 },
 "nbformat": 4,
 "nbformat_minor": 5
}
