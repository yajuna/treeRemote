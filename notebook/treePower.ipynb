{
 "cells": [
  {
   "cell_type": "markdown",
   "metadata": {},
   "source": [
    "# In this notebook, we compile all programs used to generate power from tree trunk temperature differences. To run the code, hit \"Run\" above, and make sure to run all cells above the target cell.\n",
    "\n",
    "## The structure of the notebook is :\n",
    "\n",
    "  1. import all libraries and packages\n",
    "  2. import all data files in csv format\n",
    "  3. define hyperparameters\n",
    "  4. define parameters\n",
    "  5. generate boundary condition data\n",
    "  6. main time stepping code\n",
    "  7. compute generated current\n",
    "  8. visualization"
   ]
  },
  {
   "cell_type": "markdown",
   "metadata": {},
   "source": [
    "Import packages; numpy and scipy are for simulations; pandas for reading data; matplotlib and mpl_tookits.mplot3d for visualization. All experiments are run in Python3.6.9."
   ]
  },
  {
   "cell_type": "code",
   "execution_count": 1,
   "metadata": {},
   "outputs": [],
   "source": [
    "import numpy as np\n",
    "import pandas\n",
    "from scipy import sparse\n",
    "from scipy.optimize import broyden1\n",
    "from functools import partial\n",
    "from matplotlib import pyplot as plt\n",
    "from mpl_toolkits.mplot3d import Axes3D # matplotlib version 3.1.2\n",
    "%matplotlib inline"
   ]
  },
  {
   "cell_type": "markdown",
   "metadata": {},
   "source": [
    "Define hyperparameters- these are non-physical parameters whose values are used to control the simulation process via the Crank-Nicolson method. In particular, we define the number of grid points, and the number of time steps. There is no built in CFL check, as Crank-Nicolson is unconditionally stable. \n",
    "\n",
    "**Need to look at the definition of n_t**"
   ]
  },
  {
   "cell_type": "code",
   "execution_count": 2,
   "metadata": {},
   "outputs": [],
   "source": [
    "def make_hyper_parameters(n_x, n_t, plot_at, diff_at, radius, height):\n",
    "    \"\"\"\n",
    "    Argument:\n",
    "    n_x -- number of grid points, radially\n",
    "    n_t -- number of time steps\n",
    "    plot_at -- grid point at which a temperature curve is drawn\n",
    "    diff_at -- list of two grid points where the temp difference is computed\n",
    "    radius -- radius of tree, m\n",
    "    height -- height of tree, m\n",
    "    \n",
    "    Returns:\n",
    "    hyper_parameters -- python dictionary containing hyper parameters:\n",
    "                    n_x -- number of grid points, radially\n",
    "                    n_t -- number of time steps\n",
    "                    time -- time sample from 0 to n_t\n",
    "                    plot_at -- example grid point \n",
    "                    diff_at -- temperature difference\n",
    "                    radius -- radius of tree, m\n",
    "                    height -- height of tree, m\n",
    "                    dr -- step size \n",
    "    \"\"\"\n",
    "    time = np.linspace(0, 24, n_t, endpoint = False)\n",
    "    dt = time[1] - time[0]\n",
    "    if plot_at > n_x - 1:\n",
    "        print(\"Point out of range, can not plot!\")\n",
    "    trunk = np.linspace(0, radius, n_x, endpoint = False)    \n",
    "    dr = radius / n_x\n",
    "    \n",
    "    hyper_parameters = {\"n_x\": int(n_x),\n",
    "                  \"n_t\": int(n_t),\n",
    "                  \"time\": time,\n",
    "                  \"trunk\": trunk,\n",
    "                  \"plot_at\": plot_at,\n",
    "                  \"diff_at\": diff_at,\n",
    "                  \"radius\": radius,\n",
    "                  \"height\": height,\n",
    "                  \"dr\": dr,\n",
    "                  \"dt\": dt}\n",
    "    \n",
    "    return hyper_parameters  "
   ]
  },
  {
   "cell_type": "code",
   "execution_count": 3,
   "metadata": {},
   "outputs": [
    {
     "name": "stdout",
     "output_type": "stream",
     "text": [
      "n_x = 160\n",
      "n_t = 1000\n",
      "time.shape = (1000,)\n",
      "trunk.shape = (160,)\n",
      "radius = 0.18\n",
      "height = 10\n",
      "plot_at = 53\n",
      "diff_at = [1, -3]\n",
      "dr = 0.001125\n",
      "dt = 0.024\n"
     ]
    }
   ],
   "source": [
    "# test hyper parameters\n",
    "hyper_parameters = make_hyper_parameters(160, 1000, 53, [1, -3], 0.18, 10)\n",
    "\n",
    "print(\"n_x = \" + str(hyper_parameters[\"n_x\"]))\n",
    "print(\"n_t = \" + str(hyper_parameters[\"n_t\"]))\n",
    "print(\"time.shape = \" + str(hyper_parameters[\"time\"].shape))\n",
    "print(\"trunk.shape = \" + str(hyper_parameters[\"trunk\"].shape))\n",
    "print(\"radius = \" + str(hyper_parameters[\"radius\"]))\n",
    "print(\"height = \" + str(hyper_parameters[\"height\"]))\n",
    "print(\"plot_at = \" + str(hyper_parameters[\"plot_at\"]))\n",
    "print(\"diff_at = \" + str(hyper_parameters[\"diff_at\"]))\n",
    "print(\"dr = \" + str(hyper_parameters[\"dr\"]))\n",
    "print(\"dt = \" + str(hyper_parameters[\"dt\"]))"
   ]
  },
  {
   "cell_type": "markdown",
   "metadata": {},
   "source": [
    "Import data from TNTweather.csv; we use data within 24 hours from Feb 16, 2021. Data includes date, time, temperature (ambient), windspeed, and solar radiation; measured starting from 0 am to 23:59pm. With piece wise linear interpolation. "
   ]
  },
  {
   "cell_type": "code",
   "execution_count": 4,
   "metadata": {},
   "outputs": [],
   "source": [
    "def make_weather_input(n_t):\n",
    "    \n",
    "    colnames = ['date', 'time', 'temperature', 'windspeed', 'solar']\n",
    "\n",
    "    dataWeather = pandas.read_csv('TNTweather.csv', names = colnames)\n",
    "\n",
    "    #date16 = dataWeather.date[4:27].tolist()\n",
    "    #time16 = dataWeather.time[4:27].tolist()\n",
    "\n",
    "    temp16 = dataWeather.temperature[4:27].tolist() # row 6 ro 29\n",
    "    temp16np = np.asarray([float(t) for t in temp16])\n",
    "\n",
    "    windspeed16 = dataWeather.windspeed[4:27].tolist()\n",
    "    windspeed16np = np.asarray([float(v) for v in windspeed16])\n",
    "\n",
    "    solar16 = dataWeather.solar[4:27].tolist()\n",
    "    solar16np = np.asarray([float(v) for v in solar16])\n",
    "\n",
    "    air_temp = np.interp(np.linspace(0,24,n_t), np.linspace(0,24,temp16np.size),temp16np)\n",
    "    windspeed = np.interp(np.linspace(0,24,n_t), np.linspace(0,24,windspeed16np.size),windspeed16np)\n",
    "    solar = np.interp(np.linspace(0,24,n_t), np.linspace(0,24,solar16np.size),solar16np)\n",
    "    \n",
    "    weather_input = {\"air_temp\": air_temp,\n",
    "                  \"windspeed\": windspeed,\n",
    "                  \"solar\": solar}\n",
    "    return weather_input"
   ]
  },
  {
   "cell_type": "code",
   "execution_count": 5,
   "metadata": {},
   "outputs": [
    {
     "name": "stdout",
     "output_type": "stream",
     "text": [
      "air_temp = [300.15 300.15]\n",
      "windspeed = [3.601108 3.086664]\n",
      "solar = [0. 0.]\n"
     ]
    }
   ],
   "source": [
    "# to run in code: weather_input = weather_input(hyper_parameters[\"n_t\"])\n",
    "weather_input = make_weather_input(2)\n",
    "print(\"air_temp = \" + str(weather_input[\"air_temp\"]))\n",
    "print(\"windspeed = \" + str(weather_input[\"windspeed\"]))\n",
    "print(\"solar = \" + str(weather_input[\"solar\"]))"
   ]
  },
  {
   "cell_type": "markdown",
   "metadata": {},
   "source": [
    "Import tree temperature data from Protasio, including core and bark temperature; use data measured within 24 hours from Feb 16, 2021."
   ]
  },
  {
   "cell_type": "code",
   "execution_count": 6,
   "metadata": {},
   "outputs": [],
   "source": [
    "def make_temp_input(n_t):\n",
    "    colnames = ['date1', 'time1', 'barkTemp', 'coreTemp']\n",
    "    \n",
    "    dataTemp = pandas.read_csv('TNTtemp.csv', names=colnames)\n",
    "    \n",
    "    #datet16 = dataTemp.date1[367:781].tolist()\n",
    "    #timet16 = dataTemp.time1[367:781].tolist()\n",
    "\n",
    "    coreTemp16 = dataTemp.coreTemp[367:781].tolist() # row 6 ro 29\n",
    "    coreTemp16np = np.asarray([float(t) for t in coreTemp16])\n",
    "\n",
    "    barkTemp16 = dataTemp.barkTemp[367:781].tolist()\n",
    "    barkTemp16np = np.asarray([float(v) for v in barkTemp16])\n",
    "    \n",
    "    bark_temp = np.interp(np.linspace(0,24,n_t), np.linspace(0,24,barkTemp16np.size),barkTemp16np)\n",
    "    core_temp = np.interp(np.linspace(0,24,n_t), np.linspace(0,24,coreTemp16np.size),coreTemp16np)\n",
    "    diff_temp = np.average(bark_temp - core_temp)\n",
    "    \n",
    "    temp_input = {\"bark_temp\": bark_temp,\n",
    "                  \"core_temp\": core_temp,\n",
    "                  \"diff_temp\": diff_temp}\n",
    "    \n",
    "    return temp_input    "
   ]
  },
  {
   "cell_type": "code",
   "execution_count": 7,
   "metadata": {},
   "outputs": [
    {
     "name": "stdout",
     "output_type": "stream",
     "text": [
      "bark_temp = [300.21 300.84 302.9  303.84 303.65 302.4  301.71 301.27 300.92 300.59]\n",
      "core_temp = [300.64 300.43 300.45 301.01 301.45 301.79 301.89 301.7  301.47 301.14]\n",
      "diff_temp = 0.6359999999999844\n"
     ]
    }
   ],
   "source": [
    "temp_input = make_temp_input(10)\n",
    "print(\"bark_temp = \" + str(temp_input[\"bark_temp\"]))\n",
    "print(\"core_temp = \" + str(temp_input[\"core_temp\"]))\n",
    "print(\"diff_temp = \" + str(temp_input[\"diff_temp\"]))"
   ]
  },
  {
   "cell_type": "markdown",
   "metadata": {},
   "source": [
    "Define parameters used in time stepping- related to the properties of the trees and weather: thermal conductivity (W/(mK), $\\rho$ the density (kg/m^3), specific heat (J/(kgK)); $\\rho$ mutiplies specific heat gives the heat capacity; finally\n",
    "albedo which impacts how much solar radiation is absorbed (taken to be 0.3 from Potter and Andresen 2002).\n",
    "\n",
    "We choose a constant thermal conductivity, as numerical experiments show little difference."
   ]
  },
  {
   "cell_type": "code",
   "execution_count": 8,
   "metadata": {},
   "outputs": [],
   "source": [
    "def make_step_parameters(Kt, rho, specific_heat, albedo):\n",
    "    \"\"\"\n",
    "    Argument:\n",
    "    Kt -- thermal conductivity of the tree, unit W/(mK)\n",
    "    rho -- density of tree trunk, unit kg/m^3\n",
    "    specific_heat -- specific_heat, unit J/(kgK)\n",
    "    albedo -- albedo constant; taken to be 0.3 from Potter Andresen pg.3\n",
    "    \n",
    "    Returns:\n",
    "    step_parameters -- python dictionary containing hyper parameters:\n",
    "                    thermal_conductivity -- thermal conductivity vector\n",
    "                    heat_capacity -- rho * specific_heat\n",
    "                    albedo -- albedo constant\n",
    "    \"\"\"\n",
    "    thermal_conductivity = Kt  \n",
    "    \n",
    "    # may delete if can broadcast\n",
    "    heat_capacity = rho * specific_heat\n",
    "    \n",
    "    step_parameters = {\"Kt\": Kt,\n",
    "                  \"heat_capacity\": heat_capacity,\n",
    "                  \"albedo\": albedo}\n",
    "    \n",
    "    return step_parameters  "
   ]
  },
  {
   "cell_type": "code",
   "execution_count": 10,
   "metadata": {
    "scrolled": true
   },
   "outputs": [
    {
     "name": "stdout",
     "output_type": "stream",
     "text": [
      "Kt = 0.12\n",
      "heat_capacity = 703800\n",
      "albedo = 0.3\n"
     ]
    }
   ],
   "source": [
    "# test time stepping parameters\n",
    "step_parameters = make_step_parameters(0.12, 510, 1380, 0.3)\n",
    "\n",
    "print(\"Kt = \" + str(step_parameters[\"Kt\"]))\n",
    "print(\"heat_capacity = \" + str(step_parameters[\"heat_capacity\"]))\n",
    "print(\"albedo = \" + str(step_parameters[\"albedo\"]))"
   ]
  },
  {
   "cell_type": "markdown",
   "metadata": {},
   "source": [
    "In the one dimensional model, we see that temperature distribution depends on time $t$ and distance from the center $r$. \n",
    "\n",
    "\\begin{equation}\n",
    "\\rho c\\frac{\\partial T}{\\partial t}=\\frac{1}{r}\\frac{\\partial}{\\partial r}\\bigg(kr\\frac{\\partial T}{\\partial r}\\bigg)+\\text{ source terms}\n",
    "=\\frac{\\partial k}{\\partial r}\\frac{\\partial T}{\\partial r}+\\frac{k}{r}\\frac{\\partial T}{\\partial r}+k\\frac{\\partial^2T}{\\partial r^2}+\\text{ source terms}.\\label{heat1d}\n",
    "\\end{equation}\n",
    "\n",
    "Let $T^n_{i} \\approx T(r_i,t_n)$ denote the numerical solution at the point $(r_i,t_n)$, $\\Delta t$ the time step, and $\\Delta r$ grid size. We write the source term as $g_s(t)\\frac{1}{\\Delta r}$, because the sources are all surface energy fluxes, while the conduction terms apply to the model element volume. **experiment with/out division of Delta r**. In this formulation, we have taken the thermal conductivity to be constant within the tree trunk.\n",
    "\n",
    "\n",
    "With second order central difference in space \n",
    "\\begin{equation}\\frac{\\partial T}{\\partial r}\\approx\\frac{T_{i+1}-T_{i-1}}{2\\Delta r}\\end{equation}\n",
    "\\begin{equation}\\frac{\\partial^2 T}{\\partial r^2}\\approx\\frac{T_{i-1}-2T_{i}+T_{i+1}}{(\\Delta r)^2}\\end{equation}\n",
    "and first order forward in time\n",
    "\\begin{equation}\\frac{\\partial T}{\\partial t}\\approx\\frac{T^1-T^0}{\\Delta t},\\end{equation}\n",
    "we obtain the Crank-Nicolson method by averaging the above spatial differences in time:\n",
    "\\begin{align}\n",
    "&(T^{n+1}_i - T^n_i)/\\Delta t = 1/(4ar_i\\Delta r)(T^n_{i+1}-T^n_{i-1} + T^{n+1}_{i+1}-T^{n+1}_{i-1} )\\nonumber\\\\\n",
    "&+1/(2a(\\Delta r)^2)(T^n_{i-1} - 2T^n_i + T^n_{i+1} + T^{n+1}_{i-1} - 2T^{n+1}_i + T^{n+1}_{i+1}),\\ (1)\\label{1dCNscheme}\n",
    "\\end{align}\n",
    "where $a = \\frac{\\rho c}{k}$. With the source term, we obtain\n",
    "\n",
    "\\begin{align}\n",
    "&(T^{n+1}_i - T^n_i)/\\Delta t = 1/(4ar_i\\Delta r)(T^n_{i+1}-T^n_{i-1} + T^{n+1}_{i+1}-T^{n+1}_{i-1} )\\nonumber\\\\\n",
    "&+1/(2a(\\Delta r)^2)(T^n_{i-1} - 2T^n_i + T^n_{i+1} + T^{n+1}_{i-1} - 2T^{n+1}_i + T^{n+1}_{i+1})+\\frac{1}{2\\rho c}(f(r_i,t) + f(r_i,t+\\Delta t)),\\ (2)\\label{1dCNschemeSource}\n",
    "\\end{align}\n",
    "\n",
    "Separating terms from two time steps gives the following\n",
    "\\begin{equation}\n",
    "\\alpha_i T^1_{i-1} +(1+\\beta)T^1_i-\\gamma_iT^1_{i+1}=-\\alpha_i T^0_{i-1} +(1-\\beta)T^0_i+\\gamma_iT^0_{i+1},\\ (3)\\end{equation}\n",
    "where $\\alpha_i = \\frac{\\Delta t}{4ar_i\\Delta r}-\\frac{\\Delta t}{2a(\\Delta r)^2}$, $\\beta = \\frac{\\Delta t}{a(\\Delta r)^2}$, and $\\gamma_i = \\frac{\\Delta t}{4ar_i\\Delta r}+\\frac{\\Delta t}{2a(\\Delta r)^2}$"
   ]
  },
  {
   "cell_type": "markdown",
   "metadata": {},
   "source": [
    "We implement two types of boundary conditions at the inner boundary:\n",
    "\n",
    "1. no-flux condition\n",
    "\\begin{equation}\n",
    "    \\frac{\\partial T}{\\partial r}\\bigg|_{r=0}=0,\n",
    "\\end{equation} \n",
    "\n",
    "for numerical simplicity (referenced in FireStem2D). Numerically, we use the second order central difference approximation $ \\frac{\\partial T}{\\partial r}\\bigg|_{r=0}\\approx \\frac{T_2-T_0}{2\\Delta r}=0,$, and the above equation gives a representation for the ghost cell value $T_0$ in terms of $T_2$. \n",
    "\n",
    "2. we enforce experimental data measured at the center of the tree trunk\n",
    "\\begin{equation}\n",
    "    T(r=0, t)=\\text{ measured data},\n",
    "\\end{equation} \n",
    "\n",
    "For the outer boundary, we implement three types of boundary condition:\n",
    "\n",
    "1. with experimental data measured at location (Dirichlet condition)\n",
    "\\begin{equation}\n",
    "    T(r=R, t)=\\text{ measured data},\n",
    "\\end{equation} \n",
    "\n",
    "2. with experimental data measured at location, but approximated by the measured air temperature.\n",
    "\\begin{equation}\n",
    "    T(r=0, t)=\\text{ approximate air temperature},\n",
    "\\end{equation} \n",
    "\n",
    "3. with simulated data generated with the steady state solution (?) **read Slack history**\n",
    "\\begin{equation}\n",
    "    T(r=0, t)=\\text{ simulated data},\n",
    "\\end{equation} \n",
    "\n",
    "The first row of the following matrix equation implements the inner boundary condtion, and the last row the outter boundary condition. The source term is also added to the last row. "
   ]
  },
  {
   "cell_type": "markdown",
   "metadata": {},
   "source": [
    "The following equation is similar to equation (9.9) in LeVeque's book on Finite Difference methods.\n",
    "\n",
    "\\begin{equation*}\n",
    "    \\left( \\begin{array}{cccc}\n",
    "1+\\beta & -\\beta & & 0\\\\\n",
    "\\alpha_2 & 1+\\beta & -\\gamma_2 & \\\\\n",
    "\\ddots& \\ddots & \\ddots  & \\\\\n",
    "& \\alpha_{m-1} & 1+\\beta & -\\gamma_{m-1} \\\\\n",
    "0 & & \\alpha_m & 1+\\beta \\end{array} \\right)\\left(\\begin{array}{c}\n",
    "     T^1_1  \\\\\n",
    "     T^1_2 \\\\\n",
    "     \\vdots\\\\\n",
    "     T^1_{m-1}\\\\\n",
    "     T^1_m\n",
    "\\end{array}\\right)=\\end{equation*}\n",
    "\n",
    "\\begin{equation}\\left( \\begin{array}{cccc}\n",
    "1-\\beta & \\beta & & 0\\\\\n",
    "-\\alpha_2 & 1-\\beta & \\gamma_2 & \\\\\n",
    "\\ddots& \\ddots & \\ddots  & \\\\\n",
    "& -\\alpha_{m-1} & 1-\\beta & \\gamma_{m-1} \\\\\n",
    "0 & & -\\alpha_m & 1-\\beta \\end{array} \\right)\\left(\\begin{array}{c}\n",
    "     T^0_1  \\\\\n",
    "     T^0_2 \\\\\n",
    "     \\vdots\\\\\n",
    "     T^0_{m-1}\\\\\n",
    "     T^0_m\n",
    "\\end{array}\\right)+\\left(\\begin{array}{c}\n",
    "     0  \\\\\n",
    "     0 \\\\\n",
    "     \\vdots\\\\\n",
    "     0\\\\\n",
    "     \\gamma_m(g_1(t)+g_1(t+\\Delta t))\n",
    "\\end{array}\\right).\n",
    "\\end{equation}\n",
    "\n",
    "\n",
    "Notice that the first row of the matrix represents the inner boundary condition: we first approximate $\\partial T/\\partial r \\approx (T_2-T_0)/(2\\Delta r)=0$, then the relation involving $T_1$ and $T_2$ is derived from equation (2) using $T_0 = T_2$. \n",
    "\n",
    "The last row of the matrix represents the outer boundary condition: $T(r = R, t) = g_1(t)$, and equation (2) implies\n",
    "\\begin{equation}\n",
    "\\alpha_m T^1_{m-1}+(1+\\beta)T^1_m-\\gamma_mg_1(t+\\Delta t)=-\\alpha_m T^0_{m-1}+(1-\\beta)T^0_m+\\gamma_mg_1(t)\n",
    "\\end{equation}\n",
    "when we replace the ghost cell $T(r = R+\\Delta r, t) \\approx T^0_{m+1}$ by $g_1(t)$, and this becomes \n",
    "\\begin{equation}\n",
    "\\alpha_m T^1_{m-1}+(1+\\beta)T^1_m=-\\alpha_m T^0_{m-1}+(1-\\beta)T^0_m+\\gamma_m(g_1(t) +g_1(t+\\Delta t))\n",
    "\\end{equation}\n",
    "\n",
    "*idea: try integrate Matlab and use ode23/45 for MOL*"
   ]
  },
  {
   "cell_type": "code",
   "execution_count": 11,
   "metadata": {},
   "outputs": [
    {
     "ename": "SyntaxError",
     "evalue": "invalid syntax (<ipython-input-11-b70073521fe0>, line 21)",
     "output_type": "error",
     "traceback": [
      "\u001b[0;36m  File \u001b[0;32m\"<ipython-input-11-b70073521fe0>\"\u001b[0;36m, line \u001b[0;32m21\u001b[0m\n\u001b[0;31m    if bdry_type == \"neumann\"\u001b[0m\n\u001b[0m                             ^\u001b[0m\n\u001b[0;31mSyntaxError\u001b[0m\u001b[0;31m:\u001b[0m invalid syntax\n"
     ]
    }
   ],
   "source": [
    "def time_stepping_matrix(bdry_type, hyper_parameters, step_parameters):\n",
    "    \n",
    "    rhoc = step_parameters[\"heat_capacity\"]\n",
    "    Kt = step_parameters[\"Kt\"]\n",
    "    n_x = hyper_parameters[\"n_x\"]\n",
    "    n_t = hyper_parameters[\"n_t\"]\n",
    "    dt = hyper_parameters[\"dt\"]\n",
    "    dr = hyper_parameters[\"dr\"]\n",
    "    trunk = hyper_parameters[\"trunk\"]\n",
    "    a = rhoc / Kt\n",
    "    beta = dt / (a * dr ** 2)\n",
    "    \n",
    "    alpha = np.ones(n_x - 1)\n",
    "    for j in range(alpha.size):\n",
    "        alpha[j] = dt / (4 * a * trunk[j + 1] * dr) - 0.5 * beta\n",
    "    \n",
    "    gamma = np.ones(n_x - 1)\n",
    "    for j in range(1, gamma.size):\n",
    "        gamma[j] = dt / (4 * a * trunk[j] * dr) + 0.5 * beta\n",
    "    \n",
    "    if bdry_type == \"neumann\":\n",
    "        gamma[0] = beta  # define inner neumann bdry condition 1st row\n",
    "    elif bdry_type == \"dirichlet\": \n",
    "        \n",
    "\n",
    "    # we solve a system of Ax_{n+1} = Bx_{n} + f\n",
    "    A = sparse.diags([alpha, np.ones(n_x) + beta, -gamma], [-1, 0, 1], shape=(n_x, n_x)).toarray()\n",
    "    B = sparse.diags([-alpha, np.ones(n_x) - beta, gamma], [-1, 0, 1], shape=(n_x, n_x)).toarray()\n",
    "    \n",
    "    step_matrices = {\"A\": A,\n",
    "                     \"B\": B}\n",
    "    \n",
    "    return step_matrices  \n",
    "    "
   ]
  },
  {
   "cell_type": "code",
   "execution_count": 23,
   "metadata": {},
   "outputs": [
    {
     "name": "stdout",
     "output_type": "stream",
     "text": [
      "shape of A = (160, 160)\n",
      "shape of B = (160, 160)\n"
     ]
    }
   ],
   "source": [
    "# test step matrices\n",
    "step_matrices = time_stepping_matrix(hyper_parameters, step_parameters)\n",
    "print(\"shape of A = \" + str(step_matrices[\"A\"].shape))\n",
    "print(\"shape of B = \" + str(step_matrices[\"B\"].shape))"
   ]
  },
  {
   "cell_type": "code",
   "execution_count": null,
   "metadata": {},
   "outputs": [],
   "source": []
  }
 ],
 "metadata": {
  "kernelspec": {
   "display_name": "Python 3",
   "language": "python",
   "name": "python3"
  },
  "language_info": {
   "codemirror_mode": {
    "name": "ipython",
    "version": 3
   },
   "file_extension": ".py",
   "mimetype": "text/x-python",
   "name": "python",
   "nbconvert_exporter": "python",
   "pygments_lexer": "ipython3",
   "version": "3.7.4"
  }
 },
 "nbformat": 4,
 "nbformat_minor": 5
}
