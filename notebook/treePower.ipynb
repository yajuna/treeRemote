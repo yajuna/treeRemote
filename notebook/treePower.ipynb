{
 "cells": [
  {
   "cell_type": "markdown",
   "id": "26783a8d",
   "metadata": {},
   "source": [
    "# In this notebook, we compile all programs used to generate power from tree trunk temperature differences. To run the code, hit \"Run\" above, and make sure to run all cells above the target cell.\n",
    "\n",
    "## The structure of the notebook is :\n",
    "\n",
    "  1. import all libraries and packages\n",
    "  2. import all data files in csv format\n",
    "  3. define hyperparameters\n",
    "  4. define parameters\n",
    "  5. generate boundary condition data\n",
    "  6. main time stepping code\n",
    "  7. compute generated current\n",
    "  8. visualization"
   ]
  },
  {
   "cell_type": "markdown",
   "id": "cae68d82",
   "metadata": {},
   "source": [
    "Import packages; numpy and scipy are for simulations; pandas for reading data; matplotlib and mpl_tookits.mplot3d for visualization. All experiments are run in Python3."
   ]
  },
  {
   "cell_type": "code",
   "execution_count": 1,
   "id": "e3e168e4",
   "metadata": {},
   "outputs": [
    {
     "name": "stdout",
     "output_type": "stream",
     "text": [
      "Python 3 version is 3.8.10 (default, Jun 22 2022, 20:18:18) \n",
      "[GCC 9.4.0]\n",
      "Matplotlib version is 3.5.1\n",
      "Numpy version is 1.22.3\n",
      "Scipy version is 1.8.0\n"
     ]
    }
   ],
   "source": [
    "import numpy as np\n",
    "import pandas\n",
    "from scipy import sparse\n",
    "from scipy.optimize import broyden1\n",
    "from functools import partial\n",
    "from matplotlib import pyplot as plt\n",
    "from mpl_toolkits.mplot3d import Axes3D \n",
    "%matplotlib inline\n",
    "\n",
    "import sys\n",
    "print(\"Python 3 version is\", sys.version)\n",
    "import matplotlib\n",
    "print(\"Matplotlib version is\", matplotlib.__version__)\n",
    "print(\"Numpy version is\", np.__version__)\n",
    "import scipy\n",
    "\n",
    "print(\"Scipy version is\", scipy.__version__)"
   ]
  },
  {
   "cell_type": "markdown",
   "id": "1acf7912",
   "metadata": {},
   "source": [
    "Define parameters used in time stepping- related to the properties of the trees and weather: thermal conductivity (W/(mK), $\\rho$ the density (kg/m^3), specific heat (J/(kgK)); $\\rho$ mutiplies specific heat gives the heat capacity; finally\n",
    "albedo which impacts how much solar radiation is absorbed (taken to be 0.3 from Potter and Andresen 2002).\n",
    "\n",
    "We choose a constant thermal conductivity, as numerical experiments show little difference."
   ]
  },
  {
   "cell_type": "code",
   "execution_count": 2,
   "id": "7c6e1335",
   "metadata": {},
   "outputs": [],
   "source": [
    "#Define parameters\n",
    "\"\"\"\n",
    "n_x -- number of grid points, radially; interior points index from 1 to n_x - 1; bdry points are 0 and n_x.\n",
    "n_t -- number of time steps\n",
    "plot_at -- grid point at which a temperature curve is drawn\n",
    "diff_at -- list of two grid points where the temp difference is computed\n",
    "radius -- radius of tree, m\n",
    "height -- height of tree, m\n",
    "thermal_conductivity -- thermal conductivity of the tree, unit W/(mK)\n",
    "rho -- density of tree trunk, unit kg/m^3\n",
    "specific_heat -- specific_heat, unit J/(kgK)\n",
    "albedo -- albedo constant; taken to be 0.3 from Potter Andresen pg.3\n",
    "sigma -- Stefan–Boltzmann constant, 5.67 × 10 − 8 W ⋅ m − 2 ⋅ K − 4\n",
    "\"\"\"\n",
    "# test with n_x = 160 and n_t = 10\n",
    "parameters = {\"n_x\": 160,\n",
    "              \"n_t\": 1000,\n",
    "              \"sigma\":5.76e-8,\n",
    "              \"plot_at\": 3,\n",
    "              \"diff_at\": [0, -1],\n",
    "              \"radius\": 0.18,\n",
    "              \"height\": 10,\n",
    "              \"thermal_conductivity\": 0.12, # Notation Kt in code; k in paper\n",
    "              \"rho\": 510,\n",
    "              \"specific_heat\": 1380,\n",
    "              \"albedo\": 0.3} "
   ]
  },
  {
   "cell_type": "code",
   "execution_count": 3,
   "id": "657f40c8",
   "metadata": {},
   "outputs": [
    {
     "name": "stdout",
     "output_type": "stream",
     "text": [
      "{'n_x': 160, 'n_t': 1000, 'sigma': 5.76e-08, 'plot_at': 3, 'diff_at': [0, -1], 'radius': 0.18, 'height': 10, 'thermal_conductivity': 0.12, 'rho': 510, 'specific_heat': 1380, 'albedo': 0.3}\n",
      "160\n",
      "<class 'float'>\n",
      "0.0\n"
     ]
    }
   ],
   "source": [
    "## testing cell\n",
    "\n",
    "print(parameters)\n",
    "print(parameters[\"n_x\"])\n",
    "print(type(parameters[\"radius\"]))\n",
    "\n",
    "\n",
    "n_t = parameters[\"n_t\"]\n",
    "time = np.linspace(0, 24, n_t, endpoint = False)\n",
    "dt = time[1] - time[0]\n",
    "    \n",
    "n_x = parameters[\"n_x\"]\n",
    "radius = parameters[\"radius\"]\n",
    "    # Boundary conditions at trunk[0] and trunk[n_x]; Temperature[j] at trunk[j]; in matrix, only index from 1 to n_x-1 (labeled m)\n",
    "trunk = np.linspace(0, radius, n_x+1)   \n",
    "dr = radius / n_x\n",
    "dr1 = trunk[1] - trunk[0]\n",
    "\n",
    "print(dr - dr1)"
   ]
  },
  {
   "cell_type": "markdown",
   "id": "c8f39e9a",
   "metadata": {},
   "source": [
    "Define hyperparameters- these are non-physical parameters whose values are used to control the simulation process via the Crank-Nicolson method. In particular, we define the number of grid points, and the number of time steps. There is no built-in CFL check, as Crank-Nicolson is unconditionally stable. "
   ]
  },
  {
   "cell_type": "code",
   "execution_count": 4,
   "id": "cd2ec061",
   "metadata": {},
   "outputs": [
    {
     "name": "stdout",
     "output_type": "stream",
     "text": [
      "0.0 0.001125 0.18 0.18 (161,) (array([159]),) [0.178875] [0.18]\n"
     ]
    }
   ],
   "source": [
    "# testing cell for index study\n",
    "\n",
    "r = 0.18\n",
    "n_x = 160\n",
    "trunk = np.linspace(0, r, n_x + 1)\n",
    "itemindex = np.where(trunk==trunk[-2])\n",
    "print(trunk[0],trunk[1],trunk[-1],trunk[n_x],trunk.shape,itemindex,trunk[itemindex],trunk[itemindex] + trunk[1])"
   ]
  },
  {
   "cell_type": "markdown",
   "id": "7ff3fb9a",
   "metadata": {},
   "source": [
    "Import data from TNTweather.csv; we use data within 24 hours from Feb 16, 2021. Data includes date, time, temperature (ambient), windspeed, and solar radiation; measured starting from 0 am to 23:59pm. With piece wise linear interpolation. This piece is hard coded due to the format of data."
   ]
  },
  {
   "cell_type": "code",
   "execution_count": 5,
   "id": "161fe694",
   "metadata": {},
   "outputs": [],
   "source": [
    "def make_weather_input(parameters):\n",
    "    \n",
    "    n_t = parameters[\"n_t\"]\n",
    "    \n",
    "    colnames = ['date', 'time', 'temperature', 'windspeed', 'solar']\n",
    "\n",
    "    dataWeather = pandas.read_csv('TNTweather.csv', names = colnames)\n",
    "\n",
    "    #date16 = dataWeather.date[4:27].tolist()\n",
    "    #time16 = dataWeather.time[4:27].tolist()\n",
    "\n",
    "    temp16 = dataWeather.temperature[4:27].tolist() # row 6 ro 29\n",
    "    temp16np = np.asarray([float(t) for t in temp16])\n",
    "\n",
    "    windspeed16 = dataWeather.windspeed[4:27].tolist()\n",
    "    windspeed16np = np.asarray([float(v) for v in windspeed16])\n",
    "\n",
    "    solar16 = dataWeather.solar[4:27].tolist()\n",
    "    solar16np = np.asarray([float(v) for v in solar16])\n",
    "\n",
    "    air_temp = np.interp(np.linspace(0,24,n_t), np.linspace(0,24,temp16np.size),temp16np)\n",
    "    windspeed = np.interp(np.linspace(0,24,n_t), np.linspace(0,24,windspeed16np.size),windspeed16np)\n",
    "    solar = np.interp(np.linspace(0,24,n_t), np.linspace(0,24,solar16np.size),solar16np)\n",
    "    \n",
    "    weather_input = {\"air_temp\": air_temp,\n",
    "                  \"windspeed\": windspeed,\n",
    "                  \"solar\": solar}\n",
    "    return weather_input"
   ]
  },
  {
   "cell_type": "markdown",
   "id": "e088a5c6",
   "metadata": {},
   "source": [
    "### Plot the weather conditions"
   ]
  },
  {
   "cell_type": "code",
   "execution_count": 6,
   "id": "4da12790",
   "metadata": {
    "scrolled": true
   },
   "outputs": [
    {
     "data": {
      "image/png": "[encoded data removed]",
      "text/plain": [
       "<Figure size 432x288 with 1 Axes>"
      ]
     },
     "metadata": {
      "needs_background": "light"
     },
     "output_type": "display_data"
    },
    {
     "data": {
      "image/png": "[encoded data removed]",
      "text/plain": [
       "<Figure size 432x288 with 1 Axes>"
      ]
     },
     "metadata": {
      "needs_background": "light"
     },
     "output_type": "display_data"
    },
    {
     "data": {
      "image/png": "[encoded data removed]",
      "text/plain": [
       "<Figure size 432x288 with 1 Axes>"
      ]
     },
     "metadata": {
      "needs_background": "light"
     },
     "output_type": "display_data"
    }
   ],
   "source": [
    "test_weather = make_weather_input(parameters)\n",
    "\n",
    "Va = test_weather[\"windspeed\"]\n",
    "T_air = test_weather[\"air_temp\"]\n",
    "qrads = test_weather[\"solar\"]\n",
    "\n",
    "\n",
    "plt.plot(time, Va, '.r-')\n",
    "message = f\"Windspeed within 24 hours\"\n",
    "plt.title(message)\n",
    "plt.axis([0, 24, Va.min() - Va.min() * 0.2, Va.max() + Va.max() * 0.2])\n",
    "plt.xlabel('Time (hrs)')\n",
    "plt.ylabel('Windspeed (unit)')\n",
    "#plt.savefig('/Users/yajuna/Development/tree/notebook/' + 'windspeed' + '.eps', format='eps', dpi=300,bbox_inches='tight')\n",
    "plt.show()    \n",
    "\n",
    "plt.plot(time, T_air, '.r-')\n",
    "message = f\"Air temperature within 24 hours\"\n",
    "plt.title(message)\n",
    "plt.axis([0, 24, T_air.min() - T_air.min() * 0.01, T_air.max() + T_air.max() * 0.01])\n",
    "plt.xlabel('Time (hrs)')\n",
    "plt.ylabel('Air temperature (K)')\n",
    "#plt.savefig('/Users/yajuna/Development/tree/notebook/' + 'T_air' + '.eps', format='eps', dpi=300,bbox_inches='tight')\n",
    "plt.show()  \n",
    "\n",
    "plt.plot(time, qrads, '.r-')\n",
    "message = f\"Solar radiation within 24 hours\"\n",
    "plt.title(message)\n",
    "plt.axis([0, 24, qrads.min() - qrads.min() * 0.1, qrads.max() + qrads.max() * 0.1])\n",
    "plt.xlabel('Time (hrs)')\n",
    "plt.ylabel('Solar radiation (unit)')\n",
    "#plt.savefig('/Users/yajuna/Development/tree/notebook/' + 'qrads' + '.eps', format='eps', dpi=300,bbox_inches='tight')\n",
    "plt.show()  \n"
   ]
  },
  {
   "cell_type": "markdown",
   "id": "babaceb1",
   "metadata": {},
   "source": [
    "### Compute Reynolds numbers, Nusselt correlation, and heat convection (h) at each time step."
   ]
  },
  {
   "cell_type": "code",
   "execution_count": 7,
   "id": "fb4bf708",
   "metadata": {},
   "outputs": [
    {
     "data": {
      "image/png": "[encoded data removed]",
      "text/plain": [
       "<Figure size 432x288 with 1 Axes>"
      ]
     },
     "metadata": {
      "needs_background": "light"
     },
     "output_type": "display_data"
    },
    {
     "data": {
      "image/png": "[encoded data removed]",
      "text/plain": [
       "<Figure size 432x288 with 1 Axes>"
      ]
     },
     "metadata": {
      "needs_background": "light"
     },
     "output_type": "display_data"
    },
    {
     "data": {
      "image/png": "[encoded data removed]",
      "text/plain": [
       "<Figure size 432x288 with 1 Axes>"
      ]
     },
     "metadata": {
      "needs_background": "light"
     },
     "output_type": "display_data"
    },
    {
     "data": {
      "image/png": "[encoded data removed]",
      "text/plain": [
       "<Figure size 432x288 with 1 Axes>"
      ]
     },
     "metadata": {
      "needs_background": "light"
     },
     "output_type": "display_data"
    },
    {
     "name": "stdout",
     "output_type": "stream",
     "text": [
      "<class 'numpy.ndarray'> 1000 22.272441942773597 0.0 14.312461433874047\n"
     ]
    }
   ],
   "source": [
    "# test_weather = make_weather_input(parameters)\n",
    "\n",
    "# Va = test_weather[\"windspeed\"]\n",
    "\n",
    "# qrads = test_weather[\"solar\"]\n",
    "\n",
    "\n",
    "rb = 0.2 # m\n",
    "nu = 15.89e-6 # m^2/s\n",
    "Pr = 0.707 \n",
    "ka = 26.3e-3 # W/mK\n",
    "\n",
    "coeff = 2 * rb/nu\n",
    "\n",
    "Re = Va * coeff\n",
    "\n",
    "C = []\n",
    "m = []\n",
    "\n",
    "for j in range(Va.size):\n",
    "    temp = Re[j]\n",
    "    if temp < 0.4:\n",
    "        temp1 = [0, 0] #[1e8, 1e8]\n",
    "    if 0.4<=temp<= 4:\n",
    "        temp1 = [0.989, 0.330]\n",
    "    if 4<temp<= 40:\n",
    "        temp1 = [0.911, 0.385]\n",
    "    if 40<temp<= 4e3:\n",
    "        temp1 = [0.683, 0.466]\n",
    "    if 4e3<temp<= 4e4:\n",
    "        temp1 = [0.193, 0.618]\n",
    "    if 4e4<temp<= 4e5:\n",
    "        temp1 = [0.027, 0.805]\n",
    "    \n",
    "    C.append(temp1[0])\n",
    "    m.append(temp1[1])\n",
    "#     print(\"C for Re is \", temp1[0], \"m for Re is \", temp1[1])\n",
    "# print(m.count(0.805))\n",
    "\n",
    "plt.plot(time, m, '.r-')\n",
    "message = f\"m within 24 hours\"\n",
    "plt.title(message)\n",
    "plt.axis([0, 24, min(m) - min(m) * 0.1, max(m) + max(m) * 0.1])\n",
    "plt.xlabel('Time (hrs)')\n",
    "plt.ylabel('Parameter m (unit)')\n",
    "#plt.savefig('/Users/yajuna/Development/tree/notebook/' + 'm' + '.eps', format='eps', dpi=300,bbox_inches='tight')\n",
    "plt.show()  \n",
    "\n",
    "plt.plot(time, C, '.r-')\n",
    "message = f\"C within 24 hours\"\n",
    "plt.title(message)\n",
    "plt.axis([0, 24, min(C) - min(C) * 0.1, max(C) + max(C) * 0.1])\n",
    "plt.xlabel('Time (hrs)')\n",
    "plt.ylabel('Parameter C (unit)')\n",
    "#plt.savefig('/Users/yajuna/Development/tree/notebook/' + 'C' + '.eps', format='eps', dpi=300,bbox_inches='tight')\n",
    "plt.show()  \n",
    "\n",
    "\n",
    "## Add computation for Nu for h at each time\n",
    "\n",
    "Nu = C * Re ** m * Pr ** (1/3)\n",
    "\n",
    "plt.plot(time, Nu, '.r-')\n",
    "message = f\"Nu within 24 hours\"\n",
    "plt.title(message)\n",
    "plt.axis([0, 24, Nu.min() - Nu.min() * 0.1, Nu.max() + Nu.max() * 0.1])\n",
    "plt.xlabel('Time (hrs)')\n",
    "plt.ylabel('Parameter Nu (unit)')\n",
    "#plt.savefig('/Users/yajuna/Development/tree/notebook/' + 'Nu' + '.eps', format='eps', dpi=300,bbox_inches='tight')\n",
    "plt.show() \n",
    "\n",
    "# print(\"size of Nu, max of Nu, min of Nu, and mean of Nu\", Nu.size, Nu.max(), Nu.min(), Nu.mean())\n",
    "\n",
    "h = Nu * ka / (2 * rb)\n",
    "\n",
    "plt.plot(time, h, '.r-')\n",
    "message = f\"h within 24 hours\"\n",
    "plt.title(message)\n",
    "plt.axis([0, 24, h.min() - h.min() * 0.1, h.max() + h.max() * 0.1])\n",
    "plt.xlabel('Time (hrs)')\n",
    "plt.ylabel('Parameter h (unit)')\n",
    "#plt.savefig('/Users/yajuna/Development/tree/notebook/' + 'h' + '.eps', format='eps', dpi=300,bbox_inches='tight')\n",
    "plt.show() \n",
    "\n",
    "print(type(h), h.size, h.max(), h.min(), h.mean())\n",
    "\n",
    "\n"
   ]
  },
  {
   "cell_type": "code",
   "execution_count": 8,
   "id": "60cbedfa",
   "metadata": {},
   "outputs": [],
   "source": [
    "# to run in code: weather_input = weather_input(hyper_parameters[\"n_t\"])\n",
    "# weather_input = make_weather_input(parameters)\n",
    "# print(\"air_temp = \" + str(weather_input[\"air_temp\"]))\n",
    "# print(\"windspeed = \" + str(weather_input[\"windspeed\"]))\n",
    "# print(\"solar = \" + str(weather_input[\"solar\"]))\n",
    "\n",
    "# print(type(weather_input[\"solar\"]))"
   ]
  },
  {
   "cell_type": "markdown",
   "id": "6a6a92cb",
   "metadata": {},
   "source": [
    "Import tree temperature data from Protasio, including core and bark temperature; use data measured within 24 hours from Feb 16, 2021."
   ]
  },
  {
   "cell_type": "code",
   "execution_count": 9,
   "id": "072abe9e",
   "metadata": {},
   "outputs": [],
   "source": [
    "def make_temp_input(parameters):\n",
    "    n_t = parameters[\"n_t\"]\n",
    "    colnames = ['date1', 'time1', 'barkTemp', 'coreTemp']\n",
    "    \n",
    "    dataTemp = pandas.read_csv('TNTtemp.csv', names=colnames)\n",
    "    \n",
    "    #datet16 = dataTemp.date1[367:781].tolist()\n",
    "    #timet16 = dataTemp.time1[367:781].tolist()\n",
    "\n",
    "    coreTemp16 = dataTemp.coreTemp[367:781].tolist() # row 6 ro 29\n",
    "    coreTemp16np = np.asarray([float(t) for t in coreTemp16])\n",
    "\n",
    "    barkTemp16 = dataTemp.barkTemp[367:781].tolist()\n",
    "    barkTemp16np = np.asarray([float(v) for v in barkTemp16])\n",
    "    \n",
    "    bark_temp = np.interp(np.linspace(0,24,n_t), np.linspace(0,24,barkTemp16np.size),barkTemp16np)\n",
    "    core_temp = np.interp(np.linspace(0,24,n_t), np.linspace(0,24,coreTemp16np.size),coreTemp16np)\n",
    "    diff_temp = np.average(bark_temp - core_temp)\n",
    "    \n",
    "    temp_input = {\"bark_temp\": bark_temp,\n",
    "                  \"core_temp\": core_temp,\n",
    "                  \"diff_temp\": diff_temp}\n",
    "    \n",
    "    return temp_input    "
   ]
  },
  {
   "cell_type": "code",
   "execution_count": 10,
   "id": "72b01287",
   "metadata": {},
   "outputs": [],
   "source": [
    "# temp_input = make_temp_input(parameters)\n",
    "# print(\"bark_temp = \" + str(temp_input[\"bark_temp\"]))\n",
    "# print(\"core_temp = \" + str(temp_input[\"core_temp\"]))\n",
    "# print(\"diff_temp = \" + str(temp_input[\"diff_temp\"]))"
   ]
  },
  {
   "cell_type": "markdown",
   "id": "2c61b6b9",
   "metadata": {},
   "source": [
    "In the one dimensional model, we see that temperature distribution depends on time $t$ and distance from the center $r$. \n",
    "\n",
    "\\begin{equation}\n",
    "\\rho c\\frac{\\partial T}{\\partial t}=\\frac{1}{r}\\frac{\\partial}{\\partial r}\\bigg(kr\\frac{\\partial T}{\\partial r}\\bigg)+\\text{ source terms}\n",
    "=\\frac{\\partial k}{\\partial r}\\frac{\\partial T}{\\partial r}+\\frac{k}{r}\\frac{\\partial T}{\\partial r}+k\\frac{\\partial^2T}{\\partial r^2}+\\text{ source terms}.\\label{heat1d}\n",
    "\\end{equation}\n",
    "\n",
    "In the equation, $\\rho$ represents density of the tree trunk; $c$ is the specific heat, and $k$ the thermal conductivity. \n",
    "\n",
    "Let $T^n_{i} \\approx T(r_i,t_n)$ denote the numerical solution at the point $(r_i,t_n)$, $\\Delta t$ the time step, and $\\Delta r$ grid size. In this formulation, we have taken the thermal conductivity to be constant within the tree trunk. We denote the total source term to be $g_s(r,t)$, and use the source value $g_s(t)\\frac{1}{\\Delta r}$, because the sources are all surface energy fluxes, while the conduction terms apply to the model element volume. **experiment with/out division of Delta r**. For equation (2), try $\\frac{1}{2\\rho c}(g_s(r_i,t) + g_s(r_i,t+\\Delta t))$ or $\\frac{1}{2\\rho c\\Delta r}(g_s(r_i,t) + g_s(r_i,t+\\Delta t))$.\n",
    "\n",
    "\n",
    "With second order central difference in space \n",
    "\\begin{equation}\\frac{\\partial T}{\\partial r}\\approx\\frac{T_{i+1}-T_{i-1}}{2\\Delta r}\\end{equation}\n",
    "\\begin{equation}\\frac{\\partial^2 T}{\\partial r^2}\\approx\\frac{T_{i-1}-2T_{i}+T_{i+1}}{(\\Delta r)^2}\\end{equation}\n",
    "and first order forward in time\n",
    "\\begin{equation}\\frac{\\partial T}{\\partial t}\\approx\\frac{T^1-T^0}{\\Delta t},\\end{equation}\n",
    "we obtain the Crank-Nicolson method by averaging the above spatial differences in time (no source):\n",
    "\\begin{align}\n",
    "&(T^{n+1}_i - T^n_i)/\\Delta t = 1/(4ar_i\\Delta r)(T^n_{i+1}-T^n_{i-1} + T^{n+1}_{i+1}-T^{n+1}_{i-1} )\\nonumber\\\\\n",
    "&+1/(2a(\\Delta r)^2)(T^n_{i-1} - 2T^n_i + T^n_{i+1} + T^{n+1}_{i-1} - 2T^{n+1}_i + T^{n+1}_{i+1}),\\ (1)\\label{1dCNscheme}\n",
    "\\end{align}\n",
    "where $a = \\frac{\\rho c}{k}$. With the source value, we obtain\n",
    "\n",
    "\\begin{align}\n",
    "&(T^{n+1}_i - T^n_i)/\\Delta t = 1/(4ar_i\\Delta r)(T^n_{i+1}-T^n_{i-1} + T^{n+1}_{i+1}-T^{n+1}_{i-1} )\\nonumber\\\\\n",
    "&+1/(2a(\\Delta r)^2)(T^n_{i-1} - 2T^n_i + T^n_{i+1} + T^{n+1}_{i-1} - 2T^{n+1}_i + T^{n+1}_{i+1})+\\frac{1}{2\\rho c\\Delta r}(g_s(r_i,t) + g_s(r_i,t+\\Delta t)),\\ (2)\\label{1dCNschemeSource}\n",
    "\\end{align}\n",
    "\n",
    "Separating terms from two time steps gives the following\n",
    "\\begin{equation}\n",
    "\\alpha_i T^1_{i-1} +(1+\\beta)T^1_i-\\gamma_iT^1_{i+1}=-\\alpha_i T^0_{i-1} +(1-\\beta)T^0_i+\\gamma_iT^0_{i+1}+\\frac{\\Delta t}{2\\rho c\\Delta r}(g_s(r_i,t) + g_s(r_i,t+\\Delta t)),\\ (3)\\end{equation}\n",
    "where $\\beta = \\frac{\\Delta t}{a(\\Delta r)^2}$, $\\alpha_i = \\frac{\\Delta t}{4ar_i\\Delta r}-\\frac{\\Delta t}{2a(\\Delta r)^2}$, and $\\gamma_i = \\frac{\\Delta t}{4ar_i\\Delta r}+\\frac{\\Delta t}{2a(\\Delta r)^2}$"
   ]
  },
  {
   "cell_type": "markdown",
   "id": "406cd67b",
   "metadata": {},
   "source": [
    "We implement two types of boundary conditions at the inner boundary:\n",
    "\n",
    "1. no-flux condition (Neumann)\n",
    "\\begin{equation}\n",
    "    \\frac{\\partial T}{\\partial r}\\bigg|_{r=0}=0,\n",
    "\\end{equation} \n",
    "\n",
    "for numerical simplicity (referenced in FireStem2D). Numerically, we use the second order central difference approximation $ \\frac{\\partial T}{\\partial r}\\bigg|_{r=0}\\approx \\frac{T_2-T_0}{2\\Delta r}=0$, and the above equation gives a representation for the ghost cell value $T_0$ in terms of $T_2$. \n",
    "\n",
    "2. we enforce experimental data measured at the center of the tree trunk (Dirichlet)\n",
    "\\begin{equation}\n",
    "    T(r=0, t)=g_0(t),\\ \\text{ where $g_0(t)$ is the measured data},\n",
    "\\end{equation} \n",
    "\n",
    "For the outer boundary, we implement three types of Dirichlet boundary condition:\n",
    "\n",
    "1. with experimental data measured at location\n",
    "\\begin{equation}\n",
    "    T(r=R, t)=g_1(t),\\ \\text{ measured data},\n",
    "\\end{equation} \n",
    "\n",
    "2. with experimental data measured at location, but approximated by the measured air temperature.\n",
    "\\begin{equation}\n",
    "    T(r=0, t)=T_{air}(t),\\ \\text{ approximate air temperature},\n",
    "\\end{equation} \n",
    "\n",
    "3. with simulated data generated with the steady state solution.\n",
    "\\begin{equation}\n",
    "    T(r=0, t)=T_{simulated}(t),\\ \\text{ simulated data},\n",
    "\\end{equation} \n",
    "\n",
    "The first row of the following matrix equation implements the inner boundary condtion, and the last row the outter boundary condition. The source term is also added to the last row. "
   ]
  },
  {
   "cell_type": "markdown",
   "id": "ac9c90be",
   "metadata": {},
   "source": [
    "The following equations are similar to equation (9.9) in LeVeque's book on Finite Difference methods. Here the matrix is of size $(n_x -1)\\times (n_x -1)$, with $T[0]$ the core and $T[n_x]$ the bark temperature that we do not solve- these are either read from experimental data, or simulated from weather data and pre obtained parameters. Here the index satisfies $n_x-1=m$. (for example, when $n_x = 160$, $m=159$,we solve for temperature values indexed 1 to 159)\n",
    "\n",
    "If we apply Neumann condition at the center, and Dirichlet boundary condition at the tree bark:\n",
    "\n",
    "\\begin{equation*}\n",
    "    \\left( \\begin{array}{cccc}\n",
    "1+\\beta & -\\beta & & 0\\\\\n",
    "\\alpha_2 & 1+\\beta & -\\gamma_2 & \\\\\n",
    "\\ddots& \\ddots & \\ddots  & \\\\\n",
    "& \\alpha_{m-1} & 1+\\beta & -\\gamma_{m-1} \\\\\n",
    "0 & & \\alpha_m & 1+\\beta \\end{array} \\right)\\left(\\begin{array}{c}\n",
    "     T^1_1  \\\\\n",
    "     T^1_2 \\\\\n",
    "     \\vdots\\\\\n",
    "     T^1_{m-1}\\\\\n",
    "     T^1_m\n",
    "\\end{array}\\right)=\\left( \\begin{array}{cccc}\n",
    "1-\\beta & \\beta & & 0\\\\\n",
    "-\\alpha_2 & 1-\\beta & \\gamma_2 & \\\\\n",
    "\\ddots& \\ddots & \\ddots  & \\\\\n",
    "& -\\alpha_{m-1} & 1-\\beta & \\gamma_{m-1} \\\\\n",
    "0 & & -\\alpha_m & 1-\\beta \\end{array} \\right)\\left(\\begin{array}{c}\n",
    "     T^0_1  \\\\\n",
    "     T^0_2 \\\\\n",
    "     \\vdots\\\\\n",
    "     T^0_{m-1}\\\\\n",
    "     T^0_m\n",
    "\\end{array}\\right)+\\left(\\begin{array}{c}\n",
    "     0  \\\\\n",
    "     0 \\\\\n",
    "     \\vdots\\\\\n",
    "     0\\\\\n",
    "     \\gamma_m(g_1(t)+g_1(t+\\Delta t))+\\frac{\\Delta t}{2\\rho c\\Delta r}(g_s(t)+g_s(t+\\Delta t))\n",
    "\\end{array}\\right).\n",
    "\\end{equation*}\n",
    "\n",
    "\n",
    "Notice that the first row of the matrix represents the inner boundary condition: we first approximate $\\partial T/\\partial r \\approx (T_2-T_0)/(2\\Delta r)=0$, then the relation involving $T_1$ and $T_2$ is derived from equation (2) using $T_0 = T_2$. \n",
    "\n",
    "The last row of the matrix represents the outer boundary condition: $T(r = R, t) = g_1(t)$, and equation (2) implies\n",
    "\\begin{equation}\n",
    "\\alpha_m T^1_{m-1}+(1+\\beta)T^1_m-\\gamma_mg_1(t+\\Delta t)=-\\alpha_m T^0_{m-1}+(1-\\beta)T^0_m+\\gamma_mg_1(t)\n",
    "\\end{equation}\n",
    "when we replace the ghost cell $T(r = R+\\Delta r, t) \\approx T^0_{m+1}$ by $g_1(t)$, and this becomes \n",
    "\\begin{equation}\n",
    "\\alpha_m T^1_{m-1}+(1+\\beta)T^1_m=-\\alpha_m T^0_{m-1}+(1-\\beta)T^0_m+\\gamma_m(g_1(t) +g_1(t+\\Delta t))\n",
    "\\end{equation}\n",
    "\n",
    "**idea: try integrate Matlab and use ode23/45 for MOL**"
   ]
  },
  {
   "cell_type": "markdown",
   "id": "34503627",
   "metadata": {},
   "source": [
    "Similarly, if we apply Dirichlet boundary condition at both the center and the tree bark,\n",
    "\n",
    "\\begin{equation*}\n",
    "    \\left( \\begin{array}{cccc}\n",
    "1+\\beta & -\\gamma_1 & & 0\\\\\n",
    "\\alpha_2 & 1+\\beta & -\\gamma_2 & \\\\\n",
    "\\ddots& \\ddots & \\ddots  & \\\\\n",
    "& \\alpha_{m-1} & 1+\\beta & -\\gamma_{m-1} \\\\\n",
    "0 & & \\alpha_m & 1+\\beta \\end{array} \\right)\\left(\\begin{array}{c}\n",
    "     T^1_1  \\\\\n",
    "     T^1_2 \\\\\n",
    "     \\vdots\\\\\n",
    "     T^1_{m-1}\\\\\n",
    "     T^1_m\n",
    "\\end{array}\\right)=\\left( \\begin{array}{cccc}\n",
    "1-\\beta & \\gamma_1 & & 0\\\\\n",
    "-\\alpha_2 & 1-\\beta & \\gamma_2 & \\\\\n",
    "\\ddots& \\ddots & \\ddots  & \\\\\n",
    "& -\\alpha_{m-1} & 1-\\beta & \\gamma_{m-1} \\\\\n",
    "0 & & -\\alpha_m & 1-\\beta \\end{array} \\right)\\left(\\begin{array}{c}\n",
    "     T^0_1  \\\\\n",
    "     T^0_2 \\\\\n",
    "     \\vdots\\\\\n",
    "     T^0_{m-1}\\\\\n",
    "     T^0_m\n",
    "\\end{array}\\right)+\\left(\\begin{array}{c}\n",
    "     -\\alpha_1(g_0(t)+g_0(t+\\Delta t))  \\\\\n",
    "     0 \\\\\n",
    "     \\vdots\\\\\n",
    "     0\\\\\n",
    "     \\gamma_m(g_1(t)+g_1(t+\\Delta t))+\\frac{\\Delta t}{2\\rho c\\Delta r}(g_s(t)+g_s(t+\\Delta t))\n",
    "\\end{array}\\right).\n",
    "\\end{equation*}\n",
    "\n",
    "Define the right hand side vectors for Neumann and Dirichlet conditions. Consider the system $AT^1 = BT^0 + v$, first row of $v$ would be 0 if Neumann at the core; and $-\\alpha_1(T^1_0+T^0_0)$ if Dirichlet at core. Since both formulation uses Dirichlet outter boundary condition, and source terms are also at the bark, the last row in both cases is $\\gamma_m(T^1_{m+1}+T^0_{m+1})+\\frac{\\Delta t}{2\\rho c}(f_s(R,t)+f_s(R,t + \\Delta t))$."
   ]
  },
  {
   "cell_type": "code",
   "execution_count": 11,
   "id": "283d7099",
   "metadata": {},
   "outputs": [],
   "source": [
    "# matrix needs to be made so that it is of size n_x - 1 by n_x - 1. m = n_x - 1\n",
    "\n",
    "def time_stepping(parameters, bdry_type):\n",
    "    \n",
    "    sigma = 5.67e-8\n",
    "    \n",
    "    Kt = parameters[\"thermal_conductivity\"]\n",
    "    albedo = parameters[\"albedo\"]\n",
    "    n_x = parameters[\"n_x\"]\n",
    "    n_t = parameters[\"n_t\"]\n",
    "    radius = parameters[\"radius\"]\n",
    "    rho = parameters[\"rho\"]\n",
    "    specific_heat = parameters[\"specific_heat\"]\n",
    "    \n",
    "    ### make utilities\n",
    "    time = np.linspace(0, 24, n_t, endpoint = False)\n",
    "    dt = time[1] - time[0]\n",
    "    # Boundary conditions at trunk[0] and trunk[n_x]; Temperature[j] at trunk[j]; in matrix, only index from 1 to n_x-1 (labeled m)\n",
    "    trunk = np.linspace(0, radius, n_x + 1)   \n",
    "    dr = radius / n_x\n",
    "    #dr = trunk[1] - trunk[0]\n",
    "    \n",
    "    heat_capacity = rho * specific_heat\n",
    "    \n",
    "    a = heat_capacity / Kt\n",
    "    beta = dt / (a * dr ** 2)\n",
    "    coeffSource = dt / (2 * heat_capacity)\n",
    "    \n",
    "    # import bdry condition\n",
    "    temp_input = make_temp_input(parameters)\n",
    "    core_temp = temp_input[\"core_temp\"]\n",
    "    bark_temp = temp_input[\"bark_temp\"]\n",
    "    \n",
    "    # import weather condition\n",
    "    weather_input = make_weather_input(parameters)\n",
    "    air_temp = weather_input[\"air_temp\"]\n",
    "    windspeed = weather_input[\"windspeed\"]\n",
    "    solar = weather_input[\"solar\"]\n",
    "    \n",
    "    # Use above computed h at each time step\n",
    "    h = 21\n",
    "    convect = h * (air_temp - bark_temp)\n",
    "    \n",
    "    \"\"\"\n",
    "    compute source terms and then sum\n",
    "    solar radiation = (1-albedo) * solar\n",
    "    blackbody/long radiation = sigma * (Tair^4 - Tsfc^4)\n",
    "    convection = h * (Tsfc - Tair)\n",
    "    \"\"\"\n",
    "    # convect might change based on experimental data to reflect h * (Tsfc - Tair)\n",
    "\n",
    "    sourceTerm = (1 - albedo) * solar + sigma * (air_temp**4 - bark_temp**4) + convect\n",
    "    \n",
    "    T0 = 300.40 * np.ones(n_x) # initialize temperature with an estimate temperature\n",
    "\n",
    "    \n",
    "    alpha = np.linspace(1, n_x - 1, n_x - 1)# index from 0 to n_x - 2; cor. to points at 1 to n_x - 1\n",
    "    for j in range(alpha.size):\n",
    "        alpha[j] = dt / (4 * a * trunk[j + 2] * dr) - 0.5 * beta\n",
    "    \n",
    "    gamma = np.linspace(1, n_x - 1, n_x - 1)\n",
    "    for j in range(gamma.size):\n",
    "        gamma[j] = dt / (4 * a * trunk[j + 1] * dr) + 0.5 * beta\n",
    "    \n",
    "    # for the right hand side vector- alpha1 if Dirichlet at center; gammam is used for Dirichlet at the bark\n",
    "    \n",
    "    alpha1 = dt / (4 * a * trunk[1] * dr) - 0.5 * beta\n",
    "    gammam = dt / (4 * a * trunk[-1] * dr) + 0.5 * beta\n",
    "    \n",
    "#     vAddm = gammam * () + coeffSource * ()\n",
    "    # system of Ax_{n+1} = Bx_{n} + v    \n",
    "    \n",
    "    if bdry_type == \"neumann\":\n",
    "        gamma[0] = beta  # define inner neumann bdry condition 1st row\n",
    "        \n",
    "   \n",
    "    elif bdry_type == \"dirichlet\": \n",
    "        gamma[0] = dt / (4 * a * trunk[1] * dr) + 0.5 * beta\n",
    "\n",
    "#     print(bdry_type, gamma[0])\n",
    "    A = sparse.diags([alpha, np.ones(n_x) + beta, -gamma], [-1, 0, 1], shape=(n_x, n_x)).toarray()\n",
    "    B = sparse.diags([-alpha, np.ones(n_x) - beta, gamma], [-1, 0, 1], shape=(n_x, n_x)).toarray()\n",
    "    \n",
    "    T1 = np.zeros((n_x,1))\n",
    "    \n",
    "    # soln to include initial temperature\n",
    "    soln = [T0]\n",
    "    \n",
    "    ## time stepping: step1 compute B * T0; step2 rhs = B * T0 + v; step2 solve for T1 with T1 = A^-1 * rhs\n",
    "    for time in range(n_t - 1):\n",
    "        rhs = B.dot(T0)\n",
    "        rhs[-1] = rhs[-1] + gammam * (bark_temp[time] + bark_temp[time + 1]) + coeffSource * (sourceTerm[time] + sourceTerm[time + 1])\n",
    "        if bdry_type == \"dirichlet\": \n",
    "            rhs[0] = rhs[0] - alpha1 * (core_temp[time] + core_temp[time + 1])\n",
    "        \n",
    "        T1 = np.linalg.solve(A, rhs) \n",
    "        T0 = T1\n",
    "        \n",
    "        soln.append(T0) # start saving the solutions from time step 1 \n",
    "    \n",
    "    step_in_time = {\"A\": A,\n",
    "                     \"B\": B,\n",
    "                     \"beta\": beta,\n",
    "                     \"alpha\": alpha,\n",
    "                     \"gamma\": gamma,\n",
    "                     \"sourceTerm\": sourceTerm,\n",
    "                     \"solution\": soln}\n",
    "    \n",
    "    return step_in_time  \n",
    "    "
   ]
  },
  {
   "cell_type": "code",
   "execution_count": 12,
   "id": "1ef9f6d5",
   "metadata": {},
   "outputs": [
    {
     "name": "stdout",
     "output_type": "stream",
     "text": [
      "(1000, 160)\n",
      "(1000, 160)\n"
     ]
    }
   ],
   "source": [
    "# test for different boundary conditions\n",
    "\n",
    "step_neumann = time_stepping(parameters, bdry_type = \"neumann\")\n",
    "\n",
    "solutionN = step_neumann[\"solution\"]\n",
    "\n",
    "solutionArrayN = np.asarray(solutionN)\n",
    "print(solutionArrayN.shape)\n",
    "\n",
    "step_dirichlet = time_stepping(parameters, bdry_type = \"dirichlet\")\n",
    "\n",
    "solutionD = step_dirichlet[\"solution\"]\n",
    "\n",
    "solutionArrayD = np.asarray(solutionD)\n",
    "print(solutionArrayD.shape)\n",
    "\n",
    "\n",
    "# find where the max and min are attained in neumann and dirichlet\n",
    "\n",
    "# for j in range(999):\n",
    "    \n",
    "\n",
    "# counter = 0\n",
    "# for j in range(999):\n",
    "#     check if Neumann difference is consistently larger than dirichlet\n",
    "#     if solutionArrayN[j,:].max() - solutionArrayN[j,:].min() <= solutionArrayD[j,:].max() - solutionArrayD[j,:].min():\n",
    "#         print(\"Max difference for Neumann is smaller at step\", j)\n",
    "#         counter += 1\n",
    "#     print()\n",
    "# print(counter)"
   ]
  },
  {
   "cell_type": "code",
   "execution_count": 13,
   "id": "9f131819",
   "metadata": {},
   "outputs": [
    {
     "name": "stdout",
     "output_type": "stream",
     "text": [
      "(1000, 160)\n",
      "(1000,)\n"
     ]
    }
   ],
   "source": [
    "## solutionD is a list of length n_t; each element of the list measures the temperature at n_x points.\n",
    "\n",
    "print(solutionArrayD.shape)\n",
    "\n",
    "weather = make_weather_input(parameters)\n",
    "airTemp = weather[\"air_temp\"]\n",
    "print(airTemp.shape)"
   ]
  },
  {
   "cell_type": "markdown",
   "id": "ee02d774",
   "metadata": {},
   "source": [
    "### Compute the voltage generated by the temperature difference."
   ]
  },
  {
   "cell_type": "code",
   "execution_count": 14,
   "id": "8f669e8d",
   "metadata": {},
   "outputs": [
    {
     "name": "stdout",
     "output_type": "stream",
     "text": [
      "Max and min temperature difference are  1.3746082099452792 0.0 at time 482 0\n",
      "Max and min current are  65.9811940773734 0.0 at time 482 0\n"
     ]
    },
    {
     "data": {
      "image/png": "[encoded data removed]",
      "text/plain": [
       "<Figure size 432x288 with 1 Axes>"
      ]
     },
     "metadata": {
      "needs_background": "light"
     },
     "output_type": "display_data"
    }
   ],
   "source": [
    "\"\"\"\n",
    "convert temperature difference (core minus bark) to voltage\n",
    "\n",
    "How to calculate the current (E) using the temperature difference. We will be \n",
    "using the Seebeck effect, so the calculation is super simple. E=-S*DeltaT. S \n",
    "is the Seebeck coefficient for wood, but the experimental project team already \n",
    "found this for us. So S=-0.259 mV/K if the outside temperature is colder than \n",
    "the tree (like night), and S=0.207 mV/K if the outside temperature is warmer \n",
    "than the tree [Cite Orlando Paper]. The DeltaT will be the difference between \n",
    "the core temperature and the bark temperature (in either C or K). The current \n",
    "you calculate E, will be in mV, and we should have a different value of E for \n",
    "each point in time we do the calculation for. \n",
    "\n",
    "Protasio Seebeck coeff: 120e-6K/V # 48mV/K (material: bismuth telluride, for a semi conductor), \n",
    "no switch of sign\n",
    "\n",
    "TEG model: SP1848-27145 TEG Peltier Module Thermoelectric Power Generator \n",
    "\n",
    "run voltage\n",
    "\n",
    "\"\"\"\n",
    "s = 48 # mV/K\n",
    "\n",
    "E = solutionArrayD[:,0]\n",
    "\n",
    "diff_at = parameters[\"diff_at\"]\n",
    "TempDiff = np.abs(solutionArrayD[:, diff_at[0]] - solutionArrayD[:, diff_at[-1]])\n",
    "\n",
    "weather = make_weather_input(parameters)\n",
    "airTemp = weather[\"air_temp\"]\n",
    "\n",
    "E = s * TempDiff\n",
    "\n",
    "print(\"Max and min temperature difference are \", TempDiff.max(), TempDiff.min(), \"at time\", np.argmax(TempDiff), np.argmin(TempDiff))\n",
    "print(\"Max and min current are \", E.max(), E.min(), \"at time\", np.argmax(E), np.argmin(E))   \n",
    "\n",
    "t = np.linspace(0, 24, E.size, endpoint=False) \n",
    "\n",
    "plt.plot(t, E, '.r-')\n",
    "message = f\"Voltage generated at {diff_at}\"\n",
    "plt.title(message)\n",
    "plt.axis([0,24,-50,50])\n",
    "plt.xlabel('Time (hrs)')\n",
    "plt.ylabel('Voltage (mV)')\n",
    "#plt.savefig('/Users/yajuna/Development/tree/notebook/' + str(diff_at[0]) +str(diff_at[1]) + '.eps', format='eps', dpi=300,bbox_inches='tight')\n",
    "plt.show()    \n"
   ]
  },
  {
   "cell_type": "markdown",
   "id": "93fe71c6",
   "metadata": {},
   "source": [
    "In the following, we consider the boundary condition from heat conduction, convection, as well as radiation. The temperature is computed with the assumption that there is a energy steady state at the tree bark, where the incoming conduction energy balances with the outgoing convection and radiation energy."
   ]
  },
  {
   "cell_type": "code",
   "execution_count": null,
   "id": "f121b879",
   "metadata": {},
   "outputs": [],
   "source": []
  }
 ],
 "metadata": {
  "kernelspec": {
   "display_name": "Python 3 (ipykernel)",
   "language": "python",
   "name": "python3"
  },
  "language_info": {
   "codemirror_mode": {
    "name": "ipython",
    "version": 3
   },
   "file_extension": ".py",
   "mimetype": "text/x-python",
   "name": "python",
   "nbconvert_exporter": "python",
   "pygments_lexer": "ipython3",
   "version": "3.8.10"
  }
 },
 "nbformat": 4,
 "nbformat_minor": 5
}
